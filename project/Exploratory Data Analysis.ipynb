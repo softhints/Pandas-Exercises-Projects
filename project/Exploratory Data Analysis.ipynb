{
 "cells": [
  {
   "cell_type": "markdown",
   "id": "91d0e98a-afff-4d2d-9bde-fe101355386a",
   "metadata": {},
   "source": [
    "<a href=\"https://colab.research.google.com/github/softhints/Pandas-Exercises-Projects/blob/main/project/Exploratory%20Data%20Analysis.ipynb\" target=\"_parent\"><img src=\"https://colab.research.google.com/assets/colab-badge.svg\" alt=\"Open In Colab\"/></a>"
   ]
  },
  {
   "cell_type": "markdown",
   "id": "97830359-6a77-4102-aed6-b8073ff4bf5b",
   "metadata": {},
   "source": [
    "# Importing Libraries"
   ]
  },
  {
   "cell_type": "code",
   "execution_count": 130,
   "id": "ffe086ab-f0ba-43f4-9b31-5e1c3e132777",
   "metadata": {},
   "outputs": [],
   "source": [
    "import pandas as pd\n",
    "import numpy as np\n",
    "import seaborn as sns\n",
    "import matplotlib.pyplot as plt"
   ]
  },
  {
   "cell_type": "markdown",
   "id": "ecca6edc-53e3-4762-9dad-40856536692d",
   "metadata": {},
   "source": [
    "# Reading dataset"
   ]
  },
  {
   "cell_type": "code",
   "execution_count": 10,
   "id": "c2e55f9d-41e1-4cde-96c2-be55558cc1e5",
   "metadata": {},
   "outputs": [],
   "source": [
    "df = pd.read_csv('https://raw.githubusercontent.com/softhints/Pandas-Exercises-Projects/main/data/food_recipes.csv', low_memory=False)"
   ]
  },
  {
   "cell_type": "markdown",
   "id": "12b0fd6e-a1b3-434f-888e-fb04829e8bd7",
   "metadata": {},
   "source": [
    "## Explore Data\n",
    "\n",
    "* `head(n)` - returns first n rows\n",
    "* `tail(n)` - returns last n rows\n",
    "* `sample(n)` - sample random n rows\n",
    "* `df` - returns first and last 5 records, returns number of rows and columns"
   ]
  },
  {
   "cell_type": "code",
   "execution_count": 6,
   "id": "c2910a3c-5096-4caf-bf7c-7d9485802ccb",
   "metadata": {},
   "outputs": [
    {
     "data": {
      "text/html": [
       "<div>\n",
       "<style scoped>\n",
       "    .dataframe tbody tr th:only-of-type {\n",
       "        vertical-align: middle;\n",
       "    }\n",
       "\n",
       "    .dataframe tbody tr th {\n",
       "        vertical-align: top;\n",
       "    }\n",
       "\n",
       "    .dataframe thead th {\n",
       "        text-align: right;\n",
       "    }\n",
       "</style>\n",
       "<table border=\"1\" class=\"dataframe\">\n",
       "  <thead>\n",
       "    <tr style=\"text-align: right;\">\n",
       "      <th></th>\n",
       "      <th>recipe_title</th>\n",
       "      <th>url</th>\n",
       "      <th>record_health</th>\n",
       "      <th>vote_count</th>\n",
       "      <th>rating</th>\n",
       "      <th>description</th>\n",
       "      <th>cuisine</th>\n",
       "      <th>course</th>\n",
       "      <th>diet</th>\n",
       "      <th>prep_time</th>\n",
       "      <th>cook_time</th>\n",
       "      <th>ingredients</th>\n",
       "      <th>instructions</th>\n",
       "      <th>author</th>\n",
       "      <th>tags</th>\n",
       "      <th>category</th>\n",
       "    </tr>\n",
       "  </thead>\n",
       "  <tbody>\n",
       "    <tr>\n",
       "      <th>0</th>\n",
       "      <td>Roasted Peppers And Mushroom Tortilla Pizza Re...</td>\n",
       "      <td>https://www.archanaskitchen.com/roasted-pepper...</td>\n",
       "      <td>good</td>\n",
       "      <td>434</td>\n",
       "      <td>4.958525</td>\n",
       "      <td>is a quicker version pizza to satisfy your cr...</td>\n",
       "      <td>Mexican</td>\n",
       "      <td>Dinner</td>\n",
       "      <td>Vegetarian</td>\n",
       "      <td>15 M</td>\n",
       "      <td>15 M</td>\n",
       "      <td>Tortillas|Extra Virgin Olive Oil|Garlic|Mozzar...</td>\n",
       "      <td>To begin making the Roasted Peppers And Mushro...</td>\n",
       "      <td>Divya Shivaraman</td>\n",
       "      <td>Party Food Recipes|Tea Party Recipes|Mushroom ...</td>\n",
       "      <td>Pizza Recipes</td>\n",
       "    </tr>\n",
       "    <tr>\n",
       "      <th>1</th>\n",
       "      <td>Thakkali Gotsu Recipe | Thakkali Curry | Spicy...</td>\n",
       "      <td>https://www.archanaskitchen.com/tomato-gotsu-r...</td>\n",
       "      <td>good</td>\n",
       "      <td>3423</td>\n",
       "      <td>4.932223</td>\n",
       "      <td>also known as the   is a quick and easy to ma...</td>\n",
       "      <td>South Indian Recipes</td>\n",
       "      <td>Lunch</td>\n",
       "      <td>Vegetarian</td>\n",
       "      <td>10 M</td>\n",
       "      <td>20 M</td>\n",
       "      <td>Sesame (Gingelly) Oil|Mustard seeds (Rai/ Kadu...</td>\n",
       "      <td>To begin making Tomato Gotsu Recipe/ Thakkali ...</td>\n",
       "      <td>Archana Doshi</td>\n",
       "      <td>Vegetarian Recipes|Tomato Recipes|South Indian...</td>\n",
       "      <td>Indian Curry Recipes</td>\n",
       "    </tr>\n",
       "    <tr>\n",
       "      <th>2</th>\n",
       "      <td>Spicy Grilled Pineapple Salsa Recipe</td>\n",
       "      <td>https://www.archanaskitchen.com/spicy-grilled-...</td>\n",
       "      <td>good</td>\n",
       "      <td>2091</td>\n",
       "      <td>4.945959</td>\n",
       "      <td>Spicy Grilled Pineapple Salsa is a simple reci...</td>\n",
       "      <td>Mexican</td>\n",
       "      <td>Side Dish</td>\n",
       "      <td>Vegetarian</td>\n",
       "      <td>10 M</td>\n",
       "      <td>0 M</td>\n",
       "      <td>Extra Virgin Olive Oil|Pineapple|White onion|R...</td>\n",
       "      <td>To begin making the Spicy Grilled Pineapple Sa...</td>\n",
       "      <td>Archana's Kitchen</td>\n",
       "      <td>Party Starter &amp; Appetizer Recipes|Pineapple Re...</td>\n",
       "      <td>Mexican Recipes</td>\n",
       "    </tr>\n",
       "  </tbody>\n",
       "</table>\n",
       "</div>"
      ],
      "text/plain": [
       "                                        recipe_title  \\\n",
       "0  Roasted Peppers And Mushroom Tortilla Pizza Re...   \n",
       "1  Thakkali Gotsu Recipe | Thakkali Curry | Spicy...   \n",
       "2               Spicy Grilled Pineapple Salsa Recipe   \n",
       "\n",
       "                                                 url record_health  \\\n",
       "0  https://www.archanaskitchen.com/roasted-pepper...          good   \n",
       "1  https://www.archanaskitchen.com/tomato-gotsu-r...          good   \n",
       "2  https://www.archanaskitchen.com/spicy-grilled-...          good   \n",
       "\n",
       "   vote_count    rating                                        description  \\\n",
       "0         434  4.958525   is a quicker version pizza to satisfy your cr...   \n",
       "1        3423  4.932223   also known as the   is a quick and easy to ma...   \n",
       "2        2091  4.945959  Spicy Grilled Pineapple Salsa is a simple reci...   \n",
       "\n",
       "                cuisine     course        diet prep_time cook_time  \\\n",
       "0               Mexican     Dinner  Vegetarian      15 M      15 M   \n",
       "1  South Indian Recipes      Lunch  Vegetarian      10 M      20 M   \n",
       "2               Mexican  Side Dish  Vegetarian      10 M       0 M   \n",
       "\n",
       "                                         ingredients  \\\n",
       "0  Tortillas|Extra Virgin Olive Oil|Garlic|Mozzar...   \n",
       "1  Sesame (Gingelly) Oil|Mustard seeds (Rai/ Kadu...   \n",
       "2  Extra Virgin Olive Oil|Pineapple|White onion|R...   \n",
       "\n",
       "                                        instructions             author  \\\n",
       "0  To begin making the Roasted Peppers And Mushro...  Divya Shivaraman    \n",
       "1  To begin making Tomato Gotsu Recipe/ Thakkali ...      Archana Doshi   \n",
       "2  To begin making the Spicy Grilled Pineapple Sa...  Archana's Kitchen   \n",
       "\n",
       "                                                tags              category  \n",
       "0  Party Food Recipes|Tea Party Recipes|Mushroom ...         Pizza Recipes  \n",
       "1  Vegetarian Recipes|Tomato Recipes|South Indian...  Indian Curry Recipes  \n",
       "2  Party Starter & Appetizer Recipes|Pineapple Re...       Mexican Recipes  "
      ]
     },
     "execution_count": 6,
     "metadata": {},
     "output_type": "execute_result"
    }
   ],
   "source": [
    "df.head(3)"
   ]
  },
  {
   "cell_type": "code",
   "execution_count": 15,
   "id": "41764459-378d-446f-b3ae-c472db8c88f1",
   "metadata": {},
   "outputs": [
    {
     "data": {
      "text/html": [
       "<div>\n",
       "<style scoped>\n",
       "    .dataframe tbody tr th:only-of-type {\n",
       "        vertical-align: middle;\n",
       "    }\n",
       "\n",
       "    .dataframe tbody tr th {\n",
       "        vertical-align: top;\n",
       "    }\n",
       "\n",
       "    .dataframe thead th {\n",
       "        text-align: right;\n",
       "    }\n",
       "</style>\n",
       "<table border=\"1\" class=\"dataframe\">\n",
       "  <thead>\n",
       "    <tr style=\"text-align: right;\">\n",
       "      <th></th>\n",
       "      <th>recipe_title</th>\n",
       "      <th>url</th>\n",
       "      <th>record_health</th>\n",
       "      <th>vote_count</th>\n",
       "      <th>rating</th>\n",
       "      <th>description</th>\n",
       "      <th>cuisine</th>\n",
       "      <th>course</th>\n",
       "      <th>diet</th>\n",
       "      <th>prep_time</th>\n",
       "      <th>cook_time</th>\n",
       "      <th>ingredients</th>\n",
       "      <th>instructions</th>\n",
       "      <th>author</th>\n",
       "      <th>tags</th>\n",
       "      <th>category</th>\n",
       "    </tr>\n",
       "  </thead>\n",
       "  <tbody>\n",
       "    <tr>\n",
       "      <th>7750</th>\n",
       "      <td>Menthe / Fenugreek Seeds Tambli Recipe (Karnat...</td>\n",
       "      <td>https://www.archanaskitchen.com/menthe-fenugre...</td>\n",
       "      <td>good</td>\n",
       "      <td>707</td>\n",
       "      <td>4.925035</td>\n",
       "      <td>Here's a bowlful of simple, healthy and comfor...</td>\n",
       "      <td>Karnataka</td>\n",
       "      <td>Dinner</td>\n",
       "      <td>Diabetic Friendly</td>\n",
       "      <td>15 M</td>\n",
       "      <td>15 M</td>\n",
       "      <td>Methi Seeds (Fenugreek Seeds)|Dry Red Chillies...</td>\n",
       "      <td>To begin making the Menthe/Fenugreek Seeds Tam...</td>\n",
       "      <td>Smitha Kalluraya</td>\n",
       "      <td>Indian Lunch Recipes|Dahi Recipes (Curd/Yogurt...</td>\n",
       "      <td>Indian Curry Recipes</td>\n",
       "    </tr>\n",
       "    <tr>\n",
       "      <th>7120</th>\n",
       "      <td>Baked Vermicelli Malpua Recipe</td>\n",
       "      <td>https://www.archanaskitchen.com/baked-vermicel...</td>\n",
       "      <td>good</td>\n",
       "      <td>932</td>\n",
       "      <td>4.914163</td>\n",
       "      <td>Malpuas are always associated with festivities...</td>\n",
       "      <td>Indian</td>\n",
       "      <td>Dessert</td>\n",
       "      <td>Vegetarian</td>\n",
       "      <td>30 M</td>\n",
       "      <td>20 M</td>\n",
       "      <td>Semiya (Vermicelli)|Whole Wheat Flour|Milk Pow...</td>\n",
       "      <td>To begin making Baked Vermicelli Malpua Recipe...</td>\n",
       "      <td>Priyanjali Joardar</td>\n",
       "      <td>Diwali Recipes|Festival Recipes|Holi Recipes|V...</td>\n",
       "      <td>Sweet Recipes (Indian Mithai / Indian Dessert)</td>\n",
       "    </tr>\n",
       "    <tr>\n",
       "      <th>3026</th>\n",
       "      <td>Malvani Mutton Curry Recipe</td>\n",
       "      <td>https://www.archanaskitchen.com/malvani-mutton...</td>\n",
       "      <td>good</td>\n",
       "      <td>2100</td>\n",
       "      <td>4.942857</td>\n",
       "      <td>Malvani Mutton Curry Recipe is a robust mutton...</td>\n",
       "      <td>Malvani</td>\n",
       "      <td>Main Course</td>\n",
       "      <td>Non Vegeterian</td>\n",
       "      <td>NaN</td>\n",
       "      <td>NaN</td>\n",
       "      <td>Mutton|Salt|Turmeric powder (Haldi)|Water|Malw...</td>\n",
       "      <td>To begin making the Malvani Mutton Curry Recip...</td>\n",
       "      <td>Archana's Kitchen</td>\n",
       "      <td>Party Food Recipes|Konkani Recipes|Indian Potl...</td>\n",
       "      <td>Mutton Recipes</td>\n",
       "    </tr>\n",
       "    <tr>\n",
       "      <th>6643</th>\n",
       "      <td>Peanut Rice With Coconut Recipe</td>\n",
       "      <td>https://www.archanaskitchen.com/peanut-rice-wi...</td>\n",
       "      <td>good</td>\n",
       "      <td>311</td>\n",
       "      <td>4.897106</td>\n",
       "      <td>Make this simple no onion no garlic recipe for...</td>\n",
       "      <td>NaN</td>\n",
       "      <td>NaN</td>\n",
       "      <td>NaN</td>\n",
       "      <td>20 M</td>\n",
       "      <td>5 M</td>\n",
       "      <td>Basmati rice|Water|Sunflower Oil|Mustard seeds...</td>\n",
       "      <td>To begin making the Peanut Rice recipe, cook r...</td>\n",
       "      <td>Anusha Mallajosyula</td>\n",
       "      <td>Side Dish Recipes|South Indian Recipes|Indian ...</td>\n",
       "      <td>Variety Rice (Mixed Rice/ Flavoured Rice Recipes)</td>\n",
       "    </tr>\n",
       "  </tbody>\n",
       "</table>\n",
       "</div>"
      ],
      "text/plain": [
       "                                           recipe_title  \\\n",
       "7750  Menthe / Fenugreek Seeds Tambli Recipe (Karnat...   \n",
       "7120                     Baked Vermicelli Malpua Recipe   \n",
       "3026                       Malvani Mutton Curry Recipe    \n",
       "6643                    Peanut Rice With Coconut Recipe   \n",
       "\n",
       "                                                    url record_health  \\\n",
       "7750  https://www.archanaskitchen.com/menthe-fenugre...          good   \n",
       "7120  https://www.archanaskitchen.com/baked-vermicel...          good   \n",
       "3026  https://www.archanaskitchen.com/malvani-mutton...          good   \n",
       "6643  https://www.archanaskitchen.com/peanut-rice-wi...          good   \n",
       "\n",
       "      vote_count    rating                                        description  \\\n",
       "7750         707  4.925035  Here's a bowlful of simple, healthy and comfor...   \n",
       "7120         932  4.914163  Malpuas are always associated with festivities...   \n",
       "3026        2100  4.942857  Malvani Mutton Curry Recipe is a robust mutton...   \n",
       "6643         311  4.897106  Make this simple no onion no garlic recipe for...   \n",
       "\n",
       "        cuisine       course               diet prep_time cook_time  \\\n",
       "7750  Karnataka       Dinner  Diabetic Friendly      15 M      15 M   \n",
       "7120     Indian      Dessert         Vegetarian      30 M      20 M   \n",
       "3026    Malvani  Main Course     Non Vegeterian       NaN       NaN   \n",
       "6643        NaN          NaN                NaN      20 M       5 M   \n",
       "\n",
       "                                            ingredients  \\\n",
       "7750  Methi Seeds (Fenugreek Seeds)|Dry Red Chillies...   \n",
       "7120  Semiya (Vermicelli)|Whole Wheat Flour|Milk Pow...   \n",
       "3026  Mutton|Salt|Turmeric powder (Haldi)|Water|Malw...   \n",
       "6643  Basmati rice|Water|Sunflower Oil|Mustard seeds...   \n",
       "\n",
       "                                           instructions               author  \\\n",
       "7750  To begin making the Menthe/Fenugreek Seeds Tam...     Smitha Kalluraya   \n",
       "7120  To begin making Baked Vermicelli Malpua Recipe...   Priyanjali Joardar   \n",
       "3026  To begin making the Malvani Mutton Curry Recip...    Archana's Kitchen   \n",
       "6643  To begin making the Peanut Rice recipe, cook r...  Anusha Mallajosyula   \n",
       "\n",
       "                                                   tags  \\\n",
       "7750  Indian Lunch Recipes|Dahi Recipes (Curd/Yogurt...   \n",
       "7120  Diwali Recipes|Festival Recipes|Holi Recipes|V...   \n",
       "3026  Party Food Recipes|Konkani Recipes|Indian Potl...   \n",
       "6643  Side Dish Recipes|South Indian Recipes|Indian ...   \n",
       "\n",
       "                                               category  \n",
       "7750                               Indian Curry Recipes  \n",
       "7120     Sweet Recipes (Indian Mithai / Indian Dessert)  \n",
       "3026                                     Mutton Recipes  \n",
       "6643  Variety Rice (Mixed Rice/ Flavoured Rice Recipes)  "
      ]
     },
     "execution_count": 15,
     "metadata": {},
     "output_type": "execute_result"
    }
   ],
   "source": [
    "df.sample(4)"
   ]
  },
  {
   "cell_type": "code",
   "execution_count": 11,
   "id": "d4ed8b9e-be35-4dea-9ac7-9e51fba3dc22",
   "metadata": {},
   "outputs": [
    {
     "data": {
      "text/html": [
       "<div>\n",
       "<style scoped>\n",
       "    .dataframe tbody tr th:only-of-type {\n",
       "        vertical-align: middle;\n",
       "    }\n",
       "\n",
       "    .dataframe tbody tr th {\n",
       "        vertical-align: top;\n",
       "    }\n",
       "\n",
       "    .dataframe thead th {\n",
       "        text-align: right;\n",
       "    }\n",
       "</style>\n",
       "<table border=\"1\" class=\"dataframe\">\n",
       "  <thead>\n",
       "    <tr style=\"text-align: right;\">\n",
       "      <th></th>\n",
       "      <th>recipe_title</th>\n",
       "      <th>url</th>\n",
       "      <th>record_health</th>\n",
       "      <th>vote_count</th>\n",
       "      <th>rating</th>\n",
       "      <th>description</th>\n",
       "      <th>cuisine</th>\n",
       "      <th>course</th>\n",
       "      <th>diet</th>\n",
       "      <th>prep_time</th>\n",
       "      <th>cook_time</th>\n",
       "      <th>ingredients</th>\n",
       "      <th>instructions</th>\n",
       "      <th>author</th>\n",
       "      <th>tags</th>\n",
       "      <th>category</th>\n",
       "    </tr>\n",
       "  </thead>\n",
       "  <tbody>\n",
       "    <tr>\n",
       "      <th>0</th>\n",
       "      <td>Roasted Peppers And Mushroom Tortilla Pizza Re...</td>\n",
       "      <td>https://www.archanaskitchen.com/roasted-pepper...</td>\n",
       "      <td>good</td>\n",
       "      <td>434</td>\n",
       "      <td>4.958525</td>\n",
       "      <td>is a quicker version pizza to satisfy your cr...</td>\n",
       "      <td>Mexican</td>\n",
       "      <td>Dinner</td>\n",
       "      <td>Vegetarian</td>\n",
       "      <td>15 M</td>\n",
       "      <td>15 M</td>\n",
       "      <td>Tortillas|Extra Virgin Olive Oil|Garlic|Mozzar...</td>\n",
       "      <td>To begin making the Roasted Peppers And Mushro...</td>\n",
       "      <td>Divya Shivaraman</td>\n",
       "      <td>Party Food Recipes|Tea Party Recipes|Mushroom ...</td>\n",
       "      <td>Pizza Recipes</td>\n",
       "    </tr>\n",
       "    <tr>\n",
       "      <th>1</th>\n",
       "      <td>Thakkali Gotsu Recipe | Thakkali Curry | Spicy...</td>\n",
       "      <td>https://www.archanaskitchen.com/tomato-gotsu-r...</td>\n",
       "      <td>good</td>\n",
       "      <td>3423</td>\n",
       "      <td>4.932223</td>\n",
       "      <td>also known as the   is a quick and easy to ma...</td>\n",
       "      <td>South Indian Recipes</td>\n",
       "      <td>Lunch</td>\n",
       "      <td>Vegetarian</td>\n",
       "      <td>10 M</td>\n",
       "      <td>20 M</td>\n",
       "      <td>Sesame (Gingelly) Oil|Mustard seeds (Rai/ Kadu...</td>\n",
       "      <td>To begin making Tomato Gotsu Recipe/ Thakkali ...</td>\n",
       "      <td>Archana Doshi</td>\n",
       "      <td>Vegetarian Recipes|Tomato Recipes|South Indian...</td>\n",
       "      <td>Indian Curry Recipes</td>\n",
       "    </tr>\n",
       "    <tr>\n",
       "      <th>2</th>\n",
       "      <td>Spicy Grilled Pineapple Salsa Recipe</td>\n",
       "      <td>https://www.archanaskitchen.com/spicy-grilled-...</td>\n",
       "      <td>good</td>\n",
       "      <td>2091</td>\n",
       "      <td>4.945959</td>\n",
       "      <td>Spicy Grilled Pineapple Salsa is a simple reci...</td>\n",
       "      <td>Mexican</td>\n",
       "      <td>Side Dish</td>\n",
       "      <td>Vegetarian</td>\n",
       "      <td>10 M</td>\n",
       "      <td>0 M</td>\n",
       "      <td>Extra Virgin Olive Oil|Pineapple|White onion|R...</td>\n",
       "      <td>To begin making the Spicy Grilled Pineapple Sa...</td>\n",
       "      <td>Archana's Kitchen</td>\n",
       "      <td>Party Starter &amp; Appetizer Recipes|Pineapple Re...</td>\n",
       "      <td>Mexican Recipes</td>\n",
       "    </tr>\n",
       "    <tr>\n",
       "      <th>3</th>\n",
       "      <td>Karwar Style Dali Thoy Recipe - Toor dal Curry</td>\n",
       "      <td>https://www.archanaskitchen.com/dali-thoy-reci...</td>\n",
       "      <td>good</td>\n",
       "      <td>990</td>\n",
       "      <td>4.888889</td>\n",
       "      <td>The   is a quintessential of Konkani dish whic...</td>\n",
       "      <td>Coastal Karnataka</td>\n",
       "      <td>Side Dish</td>\n",
       "      <td>High Protein Vegetarian</td>\n",
       "      <td>5 M</td>\n",
       "      <td>20 M</td>\n",
       "      <td>Arhar dal (Split Toor Dal)|Turmeric powder (Ha...</td>\n",
       "      <td>To prepare Karwar Style Dali Thoy Recipe (Toor...</td>\n",
       "      <td>Jyothi Rajesh</td>\n",
       "      <td>Side Dish Recipes|South Indian Recipes|Indian ...</td>\n",
       "      <td>Indian Curry Recipes</td>\n",
       "    </tr>\n",
       "    <tr>\n",
       "      <th>4</th>\n",
       "      <td>Rajma Kofta In Milk And Poppy Seed Gravy Recipe</td>\n",
       "      <td>https://www.archanaskitchen.com/rajma-kofta-in...</td>\n",
       "      <td>good</td>\n",
       "      <td>345</td>\n",
       "      <td>4.828986</td>\n",
       "      <td>Koftas are traditional Indian recipes mostly w...</td>\n",
       "      <td>North Indian Recipes</td>\n",
       "      <td>Side Dish</td>\n",
       "      <td>High Protein Vegetarian</td>\n",
       "      <td>20 M</td>\n",
       "      <td>30 M</td>\n",
       "      <td>Rajma (Large Kidney Beans)|Cashew nuts|Sultana...</td>\n",
       "      <td>To begin making Rajma Kofta In Milk And Poppy ...</td>\n",
       "      <td>RUBY PATHAK</td>\n",
       "      <td>Side Dish Recipes|Indian Lunch Recipes|Office ...</td>\n",
       "      <td>Kofta Recipes</td>\n",
       "    </tr>\n",
       "    <tr>\n",
       "      <th>...</th>\n",
       "      <td>...</td>\n",
       "      <td>...</td>\n",
       "      <td>...</td>\n",
       "      <td>...</td>\n",
       "      <td>...</td>\n",
       "      <td>...</td>\n",
       "      <td>...</td>\n",
       "      <td>...</td>\n",
       "      <td>...</td>\n",
       "      <td>...</td>\n",
       "      <td>...</td>\n",
       "      <td>...</td>\n",
       "      <td>...</td>\n",
       "      <td>...</td>\n",
       "      <td>...</td>\n",
       "      <td>...</td>\n",
       "    </tr>\n",
       "    <tr>\n",
       "      <th>8004</th>\n",
       "      <td>Zucchini and Carrot Pasta Recipe</td>\n",
       "      <td>https://www.archanaskitchen.com/zucchini-and-c...</td>\n",
       "      <td>good</td>\n",
       "      <td>738</td>\n",
       "      <td>4.934959</td>\n",
       "      <td>is a healthy recipe which can be served over ...</td>\n",
       "      <td>Italian Recipes</td>\n",
       "      <td>Dinner</td>\n",
       "      <td>Vegetarian</td>\n",
       "      <td>10 M</td>\n",
       "      <td>30 M</td>\n",
       "      <td>Spirali pasta|Onions|Tomatoes|Green zucchini|C...</td>\n",
       "      <td>To begin with Zucchini And Carrot Pasta Recipe...</td>\n",
       "      <td>Aarti Sharma</td>\n",
       "      <td>Vegetarian Recipes|Carrot Recipes|Zucchini Rec...</td>\n",
       "      <td>Pasta Recipes</td>\n",
       "    </tr>\n",
       "    <tr>\n",
       "      <th>8005</th>\n",
       "      <td>Hyderabadi Khatti Dal Recipe (Hyderabadi Tangy...</td>\n",
       "      <td>https://www.archanaskitchen.com/hyderabadi-kha...</td>\n",
       "      <td>good</td>\n",
       "      <td>5173</td>\n",
       "      <td>4.903151</td>\n",
       "      <td>Hyderabadi Khatti Dal is a delicious tangy dal...</td>\n",
       "      <td>Hyderabadi</td>\n",
       "      <td>Lunch</td>\n",
       "      <td>High Protein Vegetarian</td>\n",
       "      <td>20 M</td>\n",
       "      <td>40 M</td>\n",
       "      <td>Arhar dal (Split Toor Dal)|Tomato|Turmeric pow...</td>\n",
       "      <td>To begin making the Hyderabadi Khatti Dal Reci...</td>\n",
       "      <td>Farrukh Aziz Ansari</td>\n",
       "      <td>Gluten Free Recipes|Indian Diabetic Recipes</td>\n",
       "      <td>Indian Curry Recipes</td>\n",
       "    </tr>\n",
       "    <tr>\n",
       "      <th>8006</th>\n",
       "      <td>Karwar Style Muga Ambat Recipe (Moong Sprouts ...</td>\n",
       "      <td>https://www.archanaskitchen.com/karwar-style-m...</td>\n",
       "      <td>good</td>\n",
       "      <td>1202</td>\n",
       "      <td>4.946755</td>\n",
       "      <td>is a curry recipe made from 'Muga' - which re...</td>\n",
       "      <td>Karnataka</td>\n",
       "      <td>Side Dish</td>\n",
       "      <td>High Protein Vegetarian</td>\n",
       "      <td>10 M</td>\n",
       "      <td>15 M</td>\n",
       "      <td>Turmeric powder (Haldi)|Sugar|Salt|Fresh cocon...</td>\n",
       "      <td>To prepare Karwar Style Muga Ambat Recipe (Moo...</td>\n",
       "      <td>Archana's Kitchen</td>\n",
       "      <td>High Protein Vegetarian Diet Recipes|South Ind...</td>\n",
       "      <td>Indian Curry Recipes</td>\n",
       "    </tr>\n",
       "    <tr>\n",
       "      <th>8007</th>\n",
       "      <td>Beetroot, Amla And Pudina Juice Recipe | Mint ...</td>\n",
       "      <td>https://www.archanaskitchen.com/beetroot-amla-...</td>\n",
       "      <td>good</td>\n",
       "      <td>1305</td>\n",
       "      <td>4.925670</td>\n",
       "      <td>is a healthy juice recipe which acts as a gre...</td>\n",
       "      <td>Indian</td>\n",
       "      <td>Snack</td>\n",
       "      <td>Vegetarian</td>\n",
       "      <td>10 M</td>\n",
       "      <td>0 M</td>\n",
       "      <td>Beetroot|Amla (Nellikai/ Gooseberry)|Mint Leav...</td>\n",
       "      <td>To begin making the  Beetroot, Amla And Pudina...</td>\n",
       "      <td>Archana's Kitchen</td>\n",
       "      <td>Healthy Recipes|Beetroot Recipes|Pudina Mint R...</td>\n",
       "      <td>Indian Drink Recipes</td>\n",
       "    </tr>\n",
       "    <tr>\n",
       "      <th>8008</th>\n",
       "      <td>Chettinad Cauliflower Pepper Fry Recipe - Chet...</td>\n",
       "      <td>https://www.archanaskitchen.com/chettinad-caul...</td>\n",
       "      <td>good</td>\n",
       "      <td>2167</td>\n",
       "      <td>4.815413</td>\n",
       "      <td>Chettinad Poo Kosu Poriyal also known as   is ...</td>\n",
       "      <td>Tamil Nadu</td>\n",
       "      <td>Lunch</td>\n",
       "      <td>Vegetarian</td>\n",
       "      <td>15 M</td>\n",
       "      <td>20 M</td>\n",
       "      <td>Cauliflower (gobi)|Pearl onions (Sambar Onions...</td>\n",
       "      <td>To begin making the Chettinad Cauliflower Pepp...</td>\n",
       "      <td>Archana Doshi</td>\n",
       "      <td>Cauliflower Recipes (Phool Gobi)</td>\n",
       "      <td>Poriyal Recipes (South Indian Sabzi)</td>\n",
       "    </tr>\n",
       "  </tbody>\n",
       "</table>\n",
       "<p>8009 rows × 16 columns</p>\n",
       "</div>"
      ],
      "text/plain": [
       "                                           recipe_title  \\\n",
       "0     Roasted Peppers And Mushroom Tortilla Pizza Re...   \n",
       "1     Thakkali Gotsu Recipe | Thakkali Curry | Spicy...   \n",
       "2                  Spicy Grilled Pineapple Salsa Recipe   \n",
       "3        Karwar Style Dali Thoy Recipe - Toor dal Curry   \n",
       "4       Rajma Kofta In Milk And Poppy Seed Gravy Recipe   \n",
       "...                                                 ...   \n",
       "8004                   Zucchini and Carrot Pasta Recipe   \n",
       "8005  Hyderabadi Khatti Dal Recipe (Hyderabadi Tangy...   \n",
       "8006  Karwar Style Muga Ambat Recipe (Moong Sprouts ...   \n",
       "8007  Beetroot, Amla And Pudina Juice Recipe | Mint ...   \n",
       "8008  Chettinad Cauliflower Pepper Fry Recipe - Chet...   \n",
       "\n",
       "                                                    url record_health  \\\n",
       "0     https://www.archanaskitchen.com/roasted-pepper...          good   \n",
       "1     https://www.archanaskitchen.com/tomato-gotsu-r...          good   \n",
       "2     https://www.archanaskitchen.com/spicy-grilled-...          good   \n",
       "3     https://www.archanaskitchen.com/dali-thoy-reci...          good   \n",
       "4     https://www.archanaskitchen.com/rajma-kofta-in...          good   \n",
       "...                                                 ...           ...   \n",
       "8004  https://www.archanaskitchen.com/zucchini-and-c...          good   \n",
       "8005  https://www.archanaskitchen.com/hyderabadi-kha...          good   \n",
       "8006  https://www.archanaskitchen.com/karwar-style-m...          good   \n",
       "8007  https://www.archanaskitchen.com/beetroot-amla-...          good   \n",
       "8008  https://www.archanaskitchen.com/chettinad-caul...          good   \n",
       "\n",
       "      vote_count    rating                                        description  \\\n",
       "0            434  4.958525   is a quicker version pizza to satisfy your cr...   \n",
       "1           3423  4.932223   also known as the   is a quick and easy to ma...   \n",
       "2           2091  4.945959  Spicy Grilled Pineapple Salsa is a simple reci...   \n",
       "3            990  4.888889  The   is a quintessential of Konkani dish whic...   \n",
       "4            345  4.828986  Koftas are traditional Indian recipes mostly w...   \n",
       "...          ...       ...                                                ...   \n",
       "8004         738  4.934959   is a healthy recipe which can be served over ...   \n",
       "8005        5173  4.903151  Hyderabadi Khatti Dal is a delicious tangy dal...   \n",
       "8006        1202  4.946755   is a curry recipe made from 'Muga' - which re...   \n",
       "8007        1305  4.925670   is a healthy juice recipe which acts as a gre...   \n",
       "8008        2167  4.815413  Chettinad Poo Kosu Poriyal also known as   is ...   \n",
       "\n",
       "                   cuisine     course                     diet prep_time  \\\n",
       "0                  Mexican     Dinner               Vegetarian      15 M   \n",
       "1     South Indian Recipes      Lunch               Vegetarian      10 M   \n",
       "2                  Mexican  Side Dish               Vegetarian      10 M   \n",
       "3        Coastal Karnataka  Side Dish  High Protein Vegetarian       5 M   \n",
       "4     North Indian Recipes  Side Dish  High Protein Vegetarian      20 M   \n",
       "...                    ...        ...                      ...       ...   \n",
       "8004       Italian Recipes     Dinner               Vegetarian      10 M   \n",
       "8005            Hyderabadi      Lunch  High Protein Vegetarian      20 M   \n",
       "8006             Karnataka  Side Dish  High Protein Vegetarian      10 M   \n",
       "8007                Indian      Snack               Vegetarian      10 M   \n",
       "8008            Tamil Nadu      Lunch               Vegetarian      15 M   \n",
       "\n",
       "     cook_time                                        ingredients  \\\n",
       "0         15 M  Tortillas|Extra Virgin Olive Oil|Garlic|Mozzar...   \n",
       "1         20 M  Sesame (Gingelly) Oil|Mustard seeds (Rai/ Kadu...   \n",
       "2          0 M  Extra Virgin Olive Oil|Pineapple|White onion|R...   \n",
       "3         20 M  Arhar dal (Split Toor Dal)|Turmeric powder (Ha...   \n",
       "4         30 M  Rajma (Large Kidney Beans)|Cashew nuts|Sultana...   \n",
       "...        ...                                                ...   \n",
       "8004      30 M  Spirali pasta|Onions|Tomatoes|Green zucchini|C...   \n",
       "8005      40 M  Arhar dal (Split Toor Dal)|Tomato|Turmeric pow...   \n",
       "8006      15 M  Turmeric powder (Haldi)|Sugar|Salt|Fresh cocon...   \n",
       "8007       0 M  Beetroot|Amla (Nellikai/ Gooseberry)|Mint Leav...   \n",
       "8008      20 M  Cauliflower (gobi)|Pearl onions (Sambar Onions...   \n",
       "\n",
       "                                           instructions               author  \\\n",
       "0     To begin making the Roasted Peppers And Mushro...    Divya Shivaraman    \n",
       "1     To begin making Tomato Gotsu Recipe/ Thakkali ...        Archana Doshi   \n",
       "2     To begin making the Spicy Grilled Pineapple Sa...    Archana's Kitchen   \n",
       "3     To prepare Karwar Style Dali Thoy Recipe (Toor...        Jyothi Rajesh   \n",
       "4     To begin making Rajma Kofta In Milk And Poppy ...          RUBY PATHAK   \n",
       "...                                                 ...                  ...   \n",
       "8004  To begin with Zucchini And Carrot Pasta Recipe...         Aarti Sharma   \n",
       "8005  To begin making the Hyderabadi Khatti Dal Reci...  Farrukh Aziz Ansari   \n",
       "8006  To prepare Karwar Style Muga Ambat Recipe (Moo...    Archana's Kitchen   \n",
       "8007  To begin making the  Beetroot, Amla And Pudina...    Archana's Kitchen   \n",
       "8008  To begin making the Chettinad Cauliflower Pepp...        Archana Doshi   \n",
       "\n",
       "                                                   tags  \\\n",
       "0     Party Food Recipes|Tea Party Recipes|Mushroom ...   \n",
       "1     Vegetarian Recipes|Tomato Recipes|South Indian...   \n",
       "2     Party Starter & Appetizer Recipes|Pineapple Re...   \n",
       "3     Side Dish Recipes|South Indian Recipes|Indian ...   \n",
       "4     Side Dish Recipes|Indian Lunch Recipes|Office ...   \n",
       "...                                                 ...   \n",
       "8004  Vegetarian Recipes|Carrot Recipes|Zucchini Rec...   \n",
       "8005        Gluten Free Recipes|Indian Diabetic Recipes   \n",
       "8006  High Protein Vegetarian Diet Recipes|South Ind...   \n",
       "8007  Healthy Recipes|Beetroot Recipes|Pudina Mint R...   \n",
       "8008                   Cauliflower Recipes (Phool Gobi)   \n",
       "\n",
       "                                  category  \n",
       "0                            Pizza Recipes  \n",
       "1                     Indian Curry Recipes  \n",
       "2                          Mexican Recipes  \n",
       "3                     Indian Curry Recipes  \n",
       "4                            Kofta Recipes  \n",
       "...                                    ...  \n",
       "8004                         Pasta Recipes  \n",
       "8005                  Indian Curry Recipes  \n",
       "8006                  Indian Curry Recipes  \n",
       "8007                  Indian Drink Recipes  \n",
       "8008  Poriyal Recipes (South Indian Sabzi)  \n",
       "\n",
       "[8009 rows x 16 columns]"
      ]
     },
     "execution_count": 11,
     "metadata": {},
     "output_type": "execute_result"
    }
   ],
   "source": [
    "df"
   ]
  },
  {
   "cell_type": "markdown",
   "id": "80e6373d-d621-4c66-b954-57cce6a53621",
   "metadata": {},
   "source": [
    "## Initial findings\n",
    "\n",
    "* Dataset has header column\n",
    "* separator is ';'\n",
    "* `NaN` represents missing values\n",
    "* 2 columns with nested data - `ingredients` and `tags`"
   ]
  },
  {
   "cell_type": "markdown",
   "id": "68a03ba7-7462-42b7-a6d1-7f87d3729038",
   "metadata": {},
   "source": [
    "## Data Findings\n",
    "\n",
    "* dataset contains - 8009 rows and 16 columns\n",
    "* 2 numeric columns\n",
    "* 2 which need conversion - `prep_time` and `cook_time`\n",
    "    * convert string to int\n",
    "    * 15 M -> 15"
   ]
  },
  {
   "cell_type": "code",
   "execution_count": 17,
   "id": "5784295b-057c-4f59-8511-f9b1ebc766ed",
   "metadata": {},
   "outputs": [
    {
     "data": {
      "text/plain": [
       "(8009, 16)"
      ]
     },
     "execution_count": 17,
     "metadata": {},
     "output_type": "execute_result"
    }
   ],
   "source": [
    "df.shape"
   ]
  },
  {
   "cell_type": "code",
   "execution_count": 18,
   "id": "35e3781b-1dbe-4d6b-bf51-f2be73800e18",
   "metadata": {},
   "outputs": [
    {
     "data": {
      "text/plain": [
       "Index(['recipe_title', 'url', 'record_health', 'vote_count', 'rating',\n",
       "       'description', 'cuisine', 'course', 'diet', 'prep_time', 'cook_time',\n",
       "       'ingredients', 'instructions', 'author', 'tags', 'category'],\n",
       "      dtype='object')"
      ]
     },
     "execution_count": 18,
     "metadata": {},
     "output_type": "execute_result"
    }
   ],
   "source": [
    "df.columns"
   ]
  },
  {
   "cell_type": "code",
   "execution_count": 19,
   "id": "bd263f00-c7c7-460c-9b9b-e35fecc1b81a",
   "metadata": {},
   "outputs": [
    {
     "name": "stdout",
     "output_type": "stream",
     "text": [
      "<class 'pandas.core.frame.DataFrame'>\n",
      "RangeIndex: 8009 entries, 0 to 8008\n",
      "Data columns (total 16 columns):\n",
      " #   Column         Non-Null Count  Dtype  \n",
      "---  ------         --------------  -----  \n",
      " 0   recipe_title   8009 non-null   object \n",
      " 1   url            8009 non-null   object \n",
      " 2   record_health  8009 non-null   object \n",
      " 3   vote_count     8009 non-null   int64  \n",
      " 4   rating         8009 non-null   float64\n",
      " 5   description    7994 non-null   object \n",
      " 6   cuisine        7943 non-null   object \n",
      " 7   course         7854 non-null   object \n",
      " 8   diet           7858 non-null   object \n",
      " 9   prep_time      7979 non-null   object \n",
      " 10  cook_time      7979 non-null   object \n",
      " 11  ingredients    7997 non-null   object \n",
      " 12  instructions   8009 non-null   object \n",
      " 13  author         8009 non-null   object \n",
      " 14  tags           7930 non-null   object \n",
      " 15  category       8009 non-null   object \n",
      "dtypes: float64(1), int64(1), object(14)\n",
      "memory usage: 1001.2+ KB\n"
     ]
    }
   ],
   "source": [
    "df.info() "
   ]
  },
  {
   "cell_type": "markdown",
   "id": "14e8298c-ece8-462d-9ab0-6c91263122fc",
   "metadata": {},
   "source": [
    "## Statistics on numeric columns\n",
    "\n",
    "* mean value is close to 75%\n",
    "* no missing values\n",
    "* big difference between max and 75% percentile for `vote_count` - potential outliers"
   ]
  },
  {
   "cell_type": "code",
   "execution_count": 24,
   "id": "c7bad45f-b683-4c19-9694-b603f04b5b27",
   "metadata": {},
   "outputs": [
    {
     "data": {
      "text/html": [
       "<div>\n",
       "<style scoped>\n",
       "    .dataframe tbody tr th:only-of-type {\n",
       "        vertical-align: middle;\n",
       "    }\n",
       "\n",
       "    .dataframe tbody tr th {\n",
       "        vertical-align: top;\n",
       "    }\n",
       "\n",
       "    .dataframe thead th {\n",
       "        text-align: right;\n",
       "    }\n",
       "</style>\n",
       "<table border=\"1\" class=\"dataframe\">\n",
       "  <thead>\n",
       "    <tr style=\"text-align: right;\">\n",
       "      <th></th>\n",
       "      <th>vote_count</th>\n",
       "      <th>rating</th>\n",
       "    </tr>\n",
       "  </thead>\n",
       "  <tbody>\n",
       "    <tr>\n",
       "      <th>count</th>\n",
       "      <td>8009.000000</td>\n",
       "      <td>8009.000000</td>\n",
       "    </tr>\n",
       "    <tr>\n",
       "      <th>mean</th>\n",
       "      <td>2268.004495</td>\n",
       "      <td>4.888621</td>\n",
       "    </tr>\n",
       "    <tr>\n",
       "      <th>std</th>\n",
       "      <td>3683.156570</td>\n",
       "      <td>0.077467</td>\n",
       "    </tr>\n",
       "    <tr>\n",
       "      <th>min</th>\n",
       "      <td>15.000000</td>\n",
       "      <td>3.175705</td>\n",
       "    </tr>\n",
       "    <tr>\n",
       "      <th>25%</th>\n",
       "      <td>494.000000</td>\n",
       "      <td>4.865031</td>\n",
       "    </tr>\n",
       "    <tr>\n",
       "      <th>50%</th>\n",
       "      <td>1050.000000</td>\n",
       "      <td>4.900553</td>\n",
       "    </tr>\n",
       "    <tr>\n",
       "      <th>75%</th>\n",
       "      <td>2487.000000</td>\n",
       "      <td>4.930000</td>\n",
       "    </tr>\n",
       "    <tr>\n",
       "      <th>max</th>\n",
       "      <td>80628.000000</td>\n",
       "      <td>5.000000</td>\n",
       "    </tr>\n",
       "  </tbody>\n",
       "</table>\n",
       "</div>"
      ],
      "text/plain": [
       "         vote_count       rating\n",
       "count   8009.000000  8009.000000\n",
       "mean    2268.004495     4.888621\n",
       "std     3683.156570     0.077467\n",
       "min       15.000000     3.175705\n",
       "25%      494.000000     4.865031\n",
       "50%     1050.000000     4.900553\n",
       "75%     2487.000000     4.930000\n",
       "max    80628.000000     5.000000"
      ]
     },
     "execution_count": 24,
     "metadata": {},
     "output_type": "execute_result"
    }
   ],
   "source": [
    "df.describe() "
   ]
  },
  {
   "cell_type": "markdown",
   "id": "bbcaa370-4e38-4b57-bfcb-cdf558d5245c",
   "metadata": {},
   "source": [
    "## Observations on object columns\n",
    "\n",
    "* 3 categorical column - `category`, `cuisine`, `diet` and `course`\n",
    "* 1 column with single value - `record_health`"
   ]
  },
  {
   "cell_type": "code",
   "execution_count": 29,
   "id": "71278e84-c9e5-46eb-ac26-46e05b1f7d5c",
   "metadata": {},
   "outputs": [
    {
     "data": {
      "text/html": [
       "<div>\n",
       "<style scoped>\n",
       "    .dataframe tbody tr th:only-of-type {\n",
       "        vertical-align: middle;\n",
       "    }\n",
       "\n",
       "    .dataframe tbody tr th {\n",
       "        vertical-align: top;\n",
       "    }\n",
       "\n",
       "    .dataframe thead th {\n",
       "        text-align: right;\n",
       "    }\n",
       "</style>\n",
       "<table border=\"1\" class=\"dataframe\">\n",
       "  <thead>\n",
       "    <tr style=\"text-align: right;\">\n",
       "      <th></th>\n",
       "      <th>recipe_title</th>\n",
       "      <th>url</th>\n",
       "      <th>record_health</th>\n",
       "      <th>description</th>\n",
       "      <th>cuisine</th>\n",
       "      <th>course</th>\n",
       "      <th>diet</th>\n",
       "      <th>prep_time</th>\n",
       "      <th>cook_time</th>\n",
       "      <th>ingredients</th>\n",
       "      <th>instructions</th>\n",
       "      <th>author</th>\n",
       "      <th>tags</th>\n",
       "      <th>category</th>\n",
       "    </tr>\n",
       "  </thead>\n",
       "  <tbody>\n",
       "    <tr>\n",
       "      <th>count</th>\n",
       "      <td>8009</td>\n",
       "      <td>8009</td>\n",
       "      <td>8009</td>\n",
       "      <td>7994</td>\n",
       "      <td>7943</td>\n",
       "      <td>7854</td>\n",
       "      <td>7858</td>\n",
       "      <td>7979</td>\n",
       "      <td>7979</td>\n",
       "      <td>7997</td>\n",
       "      <td>8009</td>\n",
       "      <td>8009</td>\n",
       "      <td>7930</td>\n",
       "      <td>8009</td>\n",
       "    </tr>\n",
       "    <tr>\n",
       "      <th>unique</th>\n",
       "      <td>8009</td>\n",
       "      <td>8009</td>\n",
       "      <td>1</td>\n",
       "      <td>7989</td>\n",
       "      <td>77</td>\n",
       "      <td>13</td>\n",
       "      <td>10</td>\n",
       "      <td>89</td>\n",
       "      <td>72</td>\n",
       "      <td>7953</td>\n",
       "      <td>8009</td>\n",
       "      <td>328</td>\n",
       "      <td>7029</td>\n",
       "      <td>99</td>\n",
       "    </tr>\n",
       "    <tr>\n",
       "      <th>top</th>\n",
       "      <td>Roasted Peppers And Mushroom Tortilla Pizza Re...</td>\n",
       "      <td>https://www.archanaskitchen.com/roasted-pepper...</td>\n",
       "      <td>good</td>\n",
       "      <td>If you like this recipe, try more recipes like</td>\n",
       "      <td>Indian</td>\n",
       "      <td>Lunch</td>\n",
       "      <td>Vegetarian</td>\n",
       "      <td>10 M</td>\n",
       "      <td>30 M</td>\n",
       "      <td>Lemons|Sugar|Salt|Red Chilli powder</td>\n",
       "      <td>To begin making the Roasted Peppers And Mushro...</td>\n",
       "      <td>Archana's Kitchen</td>\n",
       "      <td>Party Food Recipes</td>\n",
       "      <td>Sabzi Recipes</td>\n",
       "    </tr>\n",
       "    <tr>\n",
       "      <th>freq</th>\n",
       "      <td>1</td>\n",
       "      <td>1</td>\n",
       "      <td>8009</td>\n",
       "      <td>6</td>\n",
       "      <td>1336</td>\n",
       "      <td>1925</td>\n",
       "      <td>5478</td>\n",
       "      <td>3137</td>\n",
       "      <td>1955</td>\n",
       "      <td>3</td>\n",
       "      <td>1</td>\n",
       "      <td>2803</td>\n",
       "      <td>21</td>\n",
       "      <td>1051</td>\n",
       "    </tr>\n",
       "  </tbody>\n",
       "</table>\n",
       "</div>"
      ],
      "text/plain": [
       "                                             recipe_title  \\\n",
       "count                                                8009   \n",
       "unique                                               8009   \n",
       "top     Roasted Peppers And Mushroom Tortilla Pizza Re...   \n",
       "freq                                                    1   \n",
       "\n",
       "                                                      url record_health  \\\n",
       "count                                                8009          8009   \n",
       "unique                                               8009             1   \n",
       "top     https://www.archanaskitchen.com/roasted-pepper...          good   \n",
       "freq                                                    1          8009   \n",
       "\n",
       "                                           description cuisine course  \\\n",
       "count                                             7994    7943   7854   \n",
       "unique                                            7989      77     13   \n",
       "top     If you like this recipe, try more recipes like  Indian  Lunch   \n",
       "freq                                                 6    1336   1925   \n",
       "\n",
       "              diet prep_time cook_time                          ingredients  \\\n",
       "count         7858      7979      7979                                 7997   \n",
       "unique          10        89        72                                 7953   \n",
       "top     Vegetarian      10 M      30 M  Lemons|Sugar|Salt|Red Chilli powder   \n",
       "freq          5478      3137      1955                                    3   \n",
       "\n",
       "                                             instructions             author  \\\n",
       "count                                                8009               8009   \n",
       "unique                                               8009                328   \n",
       "top     To begin making the Roasted Peppers And Mushro...  Archana's Kitchen   \n",
       "freq                                                    1               2803   \n",
       "\n",
       "                      tags       category  \n",
       "count                 7930           8009  \n",
       "unique                7029             99  \n",
       "top     Party Food Recipes  Sabzi Recipes  \n",
       "freq                    21           1051  "
      ]
     },
     "execution_count": 29,
     "metadata": {},
     "output_type": "execute_result"
    }
   ],
   "source": [
    "df.describe(include='object') "
   ]
  },
  {
   "cell_type": "markdown",
   "id": "1b930103-9fe6-486a-a831-18942356fc12",
   "metadata": {},
   "source": [
    "## Inspect Single column\n",
    "\n",
    "* 10 unique values\n",
    "* categorical column\n",
    "* `Vegetarian` - is the most frequent value\n",
    "* 151 - missing values"
   ]
  },
  {
   "cell_type": "code",
   "execution_count": 36,
   "id": "d48e0f95-6766-4e9a-acec-8c20b28dc2a9",
   "metadata": {},
   "outputs": [
    {
     "data": {
      "text/plain": [
       "10"
      ]
     },
     "execution_count": 36,
     "metadata": {},
     "output_type": "execute_result"
    }
   ],
   "source": [
    "df.diet.nunique()"
   ]
  },
  {
   "cell_type": "code",
   "execution_count": 37,
   "id": "f0f1b78c-1189-4509-9f88-fd16429c0704",
   "metadata": {},
   "outputs": [
    {
     "data": {
      "text/plain": [
       "array(['Vegetarian', 'High Protein Vegetarian', 'Non Vegeterian',\n",
       "       'No Onion No Garlic (Sattvic)', 'High Protein Non Vegetarian',\n",
       "       'Diabetic Friendly', 'Eggetarian', 'Vegan', 'Gluten Free', nan,\n",
       "       'Sugar Free Diet'], dtype=object)"
      ]
     },
     "execution_count": 37,
     "metadata": {},
     "output_type": "execute_result"
    }
   ],
   "source": [
    "df.diet.unique() "
   ]
  },
  {
   "cell_type": "code",
   "execution_count": 40,
   "id": "28d51c00-3ad3-42c1-bf41-d34b681747a2",
   "metadata": {},
   "outputs": [
    {
     "data": {
      "text/plain": [
       "Vegetarian                      5478\n",
       "High Protein Vegetarian          792\n",
       "Non Vegeterian                   447\n",
       "Eggetarian                       391\n",
       "Diabetic Friendly                296\n",
       "High Protein Non Vegetarian      225\n",
       "NaN                              151\n",
       "No Onion No Garlic (Sattvic)      77\n",
       "Vegan                             71\n",
       "Gluten Free                       66\n",
       "Sugar Free Diet                   15\n",
       "Name: diet, dtype: int64"
      ]
     },
     "execution_count": 40,
     "metadata": {},
     "output_type": "execute_result"
    }
   ],
   "source": [
    "df.diet.value_counts(dropna=False) "
   ]
  },
  {
   "cell_type": "markdown",
   "id": "471e583c-9aec-4967-973d-400b764de2e7",
   "metadata": {},
   "source": [
    "## Convert String to numeric"
   ]
  },
  {
   "cell_type": "code",
   "execution_count": 62,
   "id": "e7cbb43a-88b0-4089-94a7-79a48473642b",
   "metadata": {},
   "outputs": [],
   "source": [
    "df['cook_time'] = df['cook_time'].str.replace(' M', '').fillna(0).astype(int)\n",
    "df['prep_time'] = df['prep_time'].str.replace(' M', '').fillna(0).astype(int)"
   ]
  },
  {
   "cell_type": "markdown",
   "id": "8092a13f-69d0-4434-9f0d-9745cc2f9b1f",
   "metadata": {},
   "source": [
    "## Expand nested column"
   ]
  },
  {
   "cell_type": "code",
   "execution_count": 50,
   "id": "de3d8f8e-839f-4ce1-a8cb-f1ad749d14d9",
   "metadata": {},
   "outputs": [
    {
     "data": {
      "text/html": [
       "<div>\n",
       "<style scoped>\n",
       "    .dataframe tbody tr th:only-of-type {\n",
       "        vertical-align: middle;\n",
       "    }\n",
       "\n",
       "    .dataframe tbody tr th {\n",
       "        vertical-align: top;\n",
       "    }\n",
       "\n",
       "    .dataframe thead th {\n",
       "        text-align: right;\n",
       "    }\n",
       "</style>\n",
       "<table border=\"1\" class=\"dataframe\">\n",
       "  <thead>\n",
       "    <tr style=\"text-align: right;\">\n",
       "      <th></th>\n",
       "      <th>0</th>\n",
       "      <th>1</th>\n",
       "      <th>2</th>\n",
       "      <th>3</th>\n",
       "      <th>4</th>\n",
       "      <th>5</th>\n",
       "      <th>6</th>\n",
       "      <th>7</th>\n",
       "    </tr>\n",
       "  </thead>\n",
       "  <tbody>\n",
       "    <tr>\n",
       "      <th>0</th>\n",
       "      <td>Tortillas</td>\n",
       "      <td>Extra Virgin Olive Oil</td>\n",
       "      <td>Garlic</td>\n",
       "      <td>Mozzarella cheese</td>\n",
       "      <td>Red Yellow or Green Bell Pepper (Capsicum)</td>\n",
       "      <td>Onions</td>\n",
       "      <td>Kalmatta olives</td>\n",
       "      <td>Button mushrooms</td>\n",
       "    </tr>\n",
       "    <tr>\n",
       "      <th>1</th>\n",
       "      <td>Sesame (Gingelly) Oil</td>\n",
       "      <td>Mustard seeds (Rai/ Kadugu)</td>\n",
       "      <td>Curry leaves</td>\n",
       "      <td>Garlic</td>\n",
       "      <td>Pearl onions (Sambar Onions)</td>\n",
       "      <td>Tomatoes</td>\n",
       "      <td>Tamarind</td>\n",
       "      <td>Turmeric powder (Haldi)</td>\n",
       "    </tr>\n",
       "    <tr>\n",
       "      <th>2</th>\n",
       "      <td>Extra Virgin Olive Oil</td>\n",
       "      <td>Pineapple</td>\n",
       "      <td>White onion</td>\n",
       "      <td>Red Yellow and Green Bell Peppers (Capsicum)</td>\n",
       "      <td>Pickled Jalapenos</td>\n",
       "      <td>Coriander (Dhania) Leaves</td>\n",
       "      <td>Mint Leaves (Pudina)</td>\n",
       "      <td>Salt</td>\n",
       "    </tr>\n",
       "    <tr>\n",
       "      <th>3</th>\n",
       "      <td>Arhar dal (Split Toor Dal)</td>\n",
       "      <td>Turmeric powder (Haldi)</td>\n",
       "      <td>Salt</td>\n",
       "      <td>Dry Red Chillies</td>\n",
       "      <td>Mustard seeds (Rai/ Kadugu)</td>\n",
       "      <td>Asafoetida (hing)</td>\n",
       "      <td>Curry leaves</td>\n",
       "      <td>Coriander (Dhania) Leaves</td>\n",
       "    </tr>\n",
       "    <tr>\n",
       "      <th>4</th>\n",
       "      <td>Rajma (Large Kidney Beans)</td>\n",
       "      <td>Cashew nuts</td>\n",
       "      <td>Sultana Raisins</td>\n",
       "      <td>Asafoetida (hing)</td>\n",
       "      <td>Cumin seeds (Jeera)</td>\n",
       "      <td>Gram flour (besan)</td>\n",
       "      <td>Red Chilli powder</td>\n",
       "      <td>Coriander (Dhania) Leaves</td>\n",
       "    </tr>\n",
       "  </tbody>\n",
       "</table>\n",
       "</div>"
      ],
      "text/plain": [
       "                            0                            1                2  \\\n",
       "0                   Tortillas       Extra Virgin Olive Oil           Garlic   \n",
       "1       Sesame (Gingelly) Oil  Mustard seeds (Rai/ Kadugu)     Curry leaves   \n",
       "2      Extra Virgin Olive Oil                    Pineapple      White onion   \n",
       "3  Arhar dal (Split Toor Dal)      Turmeric powder (Haldi)             Salt   \n",
       "4  Rajma (Large Kidney Beans)                  Cashew nuts  Sultana Raisins   \n",
       "\n",
       "                                              3  \\\n",
       "0                             Mozzarella cheese   \n",
       "1                                        Garlic   \n",
       "2  Red Yellow and Green Bell Peppers (Capsicum)   \n",
       "3                              Dry Red Chillies   \n",
       "4                             Asafoetida (hing)   \n",
       "\n",
       "                                            4                          5  \\\n",
       "0  Red Yellow or Green Bell Pepper (Capsicum)                     Onions   \n",
       "1                Pearl onions (Sambar Onions)                   Tomatoes   \n",
       "2                           Pickled Jalapenos  Coriander (Dhania) Leaves   \n",
       "3                 Mustard seeds (Rai/ Kadugu)          Asafoetida (hing)   \n",
       "4                         Cumin seeds (Jeera)         Gram flour (besan)   \n",
       "\n",
       "                      6                          7  \n",
       "0       Kalmatta olives           Button mushrooms  \n",
       "1              Tamarind    Turmeric powder (Haldi)  \n",
       "2  Mint Leaves (Pudina)                       Salt  \n",
       "3          Curry leaves  Coriander (Dhania) Leaves  \n",
       "4     Red Chilli powder  Coriander (Dhania) Leaves  "
      ]
     },
     "execution_count": 50,
     "metadata": {},
     "output_type": "execute_result"
    }
   ],
   "source": [
    "df['ingredients'].str.split('|', expand=True).head().dropna(axis=1)"
   ]
  },
  {
   "cell_type": "markdown",
   "id": "3d3d3702-55af-4388-bb0c-ef756ee59c8e",
   "metadata": {},
   "source": [
    "## Visualization"
   ]
  },
  {
   "cell_type": "markdown",
   "id": "ecc5301b-7aac-4131-8f57-b6de902f6644",
   "metadata": {},
   "source": [
    "### missing values\n",
    "\n",
    "* data set has missing values in several columns\n",
    "    * represented by darker green lines\n",
    "* `cusiense`, `course` and `diet`\n",
    "    * are missing for the last N records\n",
    "    * there is pattern for missing values of those columns"
   ]
  },
  {
   "cell_type": "code",
   "execution_count": 58,
   "id": "573573e6-b93b-43d4-80f0-1725d6fc28a0",
   "metadata": {},
   "outputs": [
    {
     "data": {
      "text/plain": [
       "<AxesSubplot:>"
      ]
     },
     "execution_count": 60,
     "metadata": {},
     "output_type": "execute_result"
    },
    {
     "data": {
      "image/png": "[encoded data removed]",
      "text/plain": [
       "<Figure size 432x288 with 2 Axes>"
      ]
     },
     "metadata": {
      "needs_background": "light"
     },
     "output_type": "display_data"
    }
   ],
   "source": [
    "sns.heatmap(df.isnull(),cmap = 'Greens')"
   ]
  },
  {
   "cell_type": "code",
   "execution_count": 79,
   "id": "eac79253-c7ae-4282-89d8-d88863a4aa34",
   "metadata": {},
   "outputs": [
    {
     "data": {
      "text/plain": [
       "<AxesSubplot:>"
      ]
     },
     "execution_count": 79,
     "metadata": {},
     "output_type": "execute_result"
    },
    {
     "data": {
      "image/png": "[encoded data removed]",
      "text/plain": [
       "<Figure size 432x288 with 2 Axes>"
      ]
     },
     "metadata": {
      "needs_background": "light"
     },
     "output_type": "display_data"
    }
   ],
   "source": [
    "sns.heatmap(df.tail(3000).isnull(),cmap = 'Greens')"
   ]
  },
  {
   "cell_type": "markdown",
   "id": "a9346451-16b0-4115-bc06-5a6fd7416cd8",
   "metadata": {},
   "source": [
    "### correlation of two columns\n",
    "\n",
    "* no correlation of numerical columns for the whole DataFrame\n",
    "* correlation for - Vegan recipies - between `prep_time` and `cook_time`\n",
    "* darker color represent positive correlation\n",
    "    * lighter - negative\n",
    "* to get values use `annot=True`"
   ]
  },
  {
   "cell_type": "code",
   "execution_count": 84,
   "id": "61636029-4f8c-4afb-84a3-b4e44edfac31",
   "metadata": {},
   "outputs": [
    {
     "data": {
      "text/plain": [
       "<AxesSubplot:>"
      ]
     },
     "execution_count": 84,
     "metadata": {},
     "output_type": "execute_result"
    },
    {
     "data": {
      "image/png": "[encoded data removed]",
      "text/plain": [
       "<Figure size 432x288 with 2 Axes>"
      ]
     },
     "metadata": {
      "needs_background": "light"
     },
     "output_type": "display_data"
    }
   ],
   "source": [
    "sns.heatmap(df.corr(),cmap='Greens',annot=False) "
   ]
  },
  {
   "cell_type": "code",
   "execution_count": 83,
   "id": "b950aee7-ce88-49ec-8ef9-46540708ff4f",
   "metadata": {},
   "outputs": [
    {
     "data": {
      "text/plain": [
       "<AxesSubplot:>"
      ]
     },
     "execution_count": 83,
     "metadata": {},
     "output_type": "execute_result"
    },
    {
     "data": {
      "image/png": "[encoded data removed]",
      "text/plain": [
       "<Figure size 432x288 with 2 Axes>"
      ]
     },
     "metadata": {
      "needs_background": "light"
     },
     "output_type": "display_data"
    }
   ],
   "source": [
    "sns.heatmap(df[df.diet=='Vegan'].corr(),cmap='Greens',annot=True) "
   ]
  },
  {
   "cell_type": "markdown",
   "id": "8107388a-7433-4508-9924-eec4965ffdb8",
   "metadata": {},
   "source": [
    "## Check for Outliers\n",
    "\n",
    "* `vote_count` - suggest outliers\n",
    "* `cook_time` - has possible outliers\n",
    "* `rating` - doesn't indicate outliers"
   ]
  },
  {
   "cell_type": "code",
   "execution_count": 128,
   "id": "bdd3170f-a854-41aa-a36b-18e37454e25e",
   "metadata": {},
   "outputs": [
    {
     "data": {
      "text/plain": [
       "<AxesSubplot:>"
      ]
     },
     "execution_count": 128,
     "metadata": {},
     "output_type": "execute_result"
    },
    {
     "data": {
      "image/png": "[encoded data removed]",
      "text/plain": [
       "<Figure size 1440x360 with 1 Axes>"
      ]
     },
     "metadata": {},
     "output_type": "display_data"
    }
   ],
   "source": [
    "cols = ['vote_count', 'rating',  'prep_time', 'cook_time']\n",
    "plt.figure(figsize=(20, 5))\n",
    "sns.boxplot(data=df[cols], orient='h')"
   ]
  },
  {
   "cell_type": "code",
   "execution_count": null,
   "id": "f2928632-682c-48d8-b89f-b662d2cb8b85",
   "metadata": {},
   "outputs": [],
   "source": []
  }
 ],
 "metadata": {
  "kernelspec": {
   "display_name": "Python 3",
   "language": "python",
   "name": "python3"
  },
  "language_info": {
   "codemirror_mode": {
    "name": "ipython",
    "version": 3
   },
   "file_extension": ".py",
   "mimetype": "text/x-python",
   "name": "python",
   "nbconvert_exporter": "python",
   "pygments_lexer": "ipython3",
   "version": "3.8.10"
  }
 },
 "nbformat": 4,
 "nbformat_minor": 5
}
