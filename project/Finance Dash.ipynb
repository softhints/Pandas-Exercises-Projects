{
 "cells": [
  {
   "cell_type": "markdown",
   "id": "7ef87d6f-78af-4109-a553-2c4107bab40f",
   "metadata": {
    "extensions": {
     "jupyter_dashboards": {
      "activeView": "grid_default",
      "views": {
       "grid_default": {
        "col": 0,
        "height": 2,
        "hidden": false,
        "locked": true,
        "row": 0,
        "width": 6
       }
      }
     }
    },
    "tags": []
   },
   "source": [
    "## 1. Global Rates"
   ]
  },
  {
   "cell_type": "code",
   "execution_count": 1,
   "id": "27cff86d-7587-46bf-8595-370d122f9ea4",
   "metadata": {
    "extensions": {
     "jupyter_dashboards": {
      "activeView": "grid_default",
      "views": {
       "grid_default": {
        "col": 0,
        "height": 9,
        "hidden": false,
        "locked": true,
        "row": 2,
        "width": 6
       }
      }
     }
    },
    "tags": []
   },
   "outputs": [
    {
     "data": {
      "text/html": [
       "<style type=\"text/css\">\n",
       "#T_741b9_row0_col1, #T_741b9_row0_col3 {\n",
       "  background-color: #f7fcf5;\n",
       "  color: #000000;\n",
       "}\n",
       "#T_741b9_row0_col2, #T_741b9_row1_col2, #T_741b9_row2_col2, #T_741b9_row3_col2, #T_741b9_row4_col2, #T_741b9_row5_col2, #T_741b9_row6_col2, #T_741b9_row7_col2, #T_741b9_row8_col2, #T_741b9_row9_col2 {\n",
       "  background-color: salmon;\n",
       "}\n",
       "#T_741b9_row1_col1, #T_741b9_row1_col3 {\n",
       "  background-color: #c3e7bc;\n",
       "  color: #000000;\n",
       "}\n",
       "#T_741b9_row2_col1, #T_741b9_row2_col3 {\n",
       "  background-color: #91d28e;\n",
       "  color: #000000;\n",
       "}\n",
       "#T_741b9_row3_col1 {\n",
       "  background-color: #d7efd1;\n",
       "  color: #000000;\n",
       "}\n",
       "#T_741b9_row3_col3 {\n",
       "  background-color: #d1edcb;\n",
       "  color: #000000;\n",
       "}\n",
       "#T_741b9_row4_col1, #T_741b9_row4_col3 {\n",
       "  background-color: #e9f7e5;\n",
       "  color: #000000;\n",
       "}\n",
       "#T_741b9_row5_col1, #T_741b9_row5_col3 {\n",
       "  background-color: #ddf2d8;\n",
       "  color: #000000;\n",
       "}\n",
       "#T_741b9_row6_col1, #T_741b9_row6_col3 {\n",
       "  background-color: #00441b;\n",
       "  color: #f1f1f1;\n",
       "}\n",
       "#T_741b9_row7_col1, #T_741b9_row7_col3 {\n",
       "  background-color: #a3da9d;\n",
       "  color: #000000;\n",
       "}\n",
       "#T_741b9_row8_col1, #T_741b9_row8_col3 {\n",
       "  background-color: #abdda5;\n",
       "  color: #000000;\n",
       "}\n",
       "#T_741b9_row9_col1 {\n",
       "  background-color: #5eb96b;\n",
       "  color: #f1f1f1;\n",
       "}\n",
       "#T_741b9_row9_col3 {\n",
       "  background-color: #58b668;\n",
       "  color: #f1f1f1;\n",
       "}\n",
       "</style>\n",
       "<table id=\"T_741b9\">\n",
       "  <thead>\n",
       "    <tr>\n",
       "      <th class=\"blank level0\" >&nbsp;</th>\n",
       "      <th id=\"T_741b9_level0_col0\" class=\"col_heading level0 col0\" >country/region</th>\n",
       "      <th id=\"T_741b9_level0_col1\" class=\"col_heading level0 col1\" >current rate</th>\n",
       "      <th id=\"T_741b9_level0_col2\" class=\"col_heading level0 col2\" >direction</th>\n",
       "      <th id=\"T_741b9_level0_col3\" class=\"col_heading level0 col3\" >previous rate</th>\n",
       "      <th id=\"T_741b9_level0_col4\" class=\"col_heading level0 col4\" >change</th>\n",
       "    </tr>\n",
       "  </thead>\n",
       "  <tbody>\n",
       "    <tr>\n",
       "      <th id=\"T_741b9_level0_row0\" class=\"row_heading level0 row0\" >25</th>\n",
       "      <td id=\"T_741b9_row0_col0\" class=\"data row0 col0\" >Switzerland</td>\n",
       "      <td id=\"T_741b9_row0_col1\" class=\"data row0 col1\" >1.000000</td>\n",
       "      <td id=\"T_741b9_row0_col2\" class=\"data row0 col2\" >0.500000</td>\n",
       "      <td id=\"T_741b9_row0_col3\" class=\"data row0 col3\" >0.500000</td>\n",
       "      <td id=\"T_741b9_row0_col4\" class=\"data row0 col4\" >2022-12-15</td>\n",
       "    </tr>\n",
       "    <tr>\n",
       "      <th id=\"T_741b9_level0_row1\" class=\"row_heading level0 row1\" >6</th>\n",
       "      <td id=\"T_741b9_row1_col0\" class=\"data row1 col0\" >Great Britain</td>\n",
       "      <td id=\"T_741b9_row1_col1\" class=\"data row1 col1\" >3.500000</td>\n",
       "      <td id=\"T_741b9_row1_col2\" class=\"data row1 col2\" >0.500000</td>\n",
       "      <td id=\"T_741b9_row1_col3\" class=\"data row1 col3\" >3.000000</td>\n",
       "      <td id=\"T_741b9_row1_col4\" class=\"data row1 col4\" >2022-12-15</td>\n",
       "    </tr>\n",
       "    <tr>\n",
       "      <th id=\"T_741b9_level0_row2\" class=\"row_heading level0 row2\" >22</th>\n",
       "      <td id=\"T_741b9_row2_col0\" class=\"data row2 col0\" >Saudi Arabia</td>\n",
       "      <td id=\"T_741b9_row2_col1\" class=\"data row2 col1\" >5.000000</td>\n",
       "      <td id=\"T_741b9_row2_col2\" class=\"data row2 col2\" >0.500000</td>\n",
       "      <td id=\"T_741b9_row2_col3\" class=\"data row2 col3\" >4.500000</td>\n",
       "      <td id=\"T_741b9_row2_col4\" class=\"data row2 col4\" >2022-12-15</td>\n",
       "    </tr>\n",
       "    <tr>\n",
       "      <th id=\"T_741b9_level0_row3\" class=\"row_heading level0 row3\" >19</th>\n",
       "      <td id=\"T_741b9_row3_col0\" class=\"data row3 col0\" >Norway</td>\n",
       "      <td id=\"T_741b9_row3_col1\" class=\"data row3 col1\" >2.750000</td>\n",
       "      <td id=\"T_741b9_row3_col2\" class=\"data row3 col2\" >0.250000</td>\n",
       "      <td id=\"T_741b9_row3_col3\" class=\"data row3 col3\" >2.500000</td>\n",
       "      <td id=\"T_741b9_row3_col4\" class=\"data row3 col4\" >2022-12-15</td>\n",
       "    </tr>\n",
       "    <tr>\n",
       "      <th id=\"T_741b9_level0_row4\" class=\"row_heading level0 row4\" >10</th>\n",
       "      <td id=\"T_741b9_row4_col0\" class=\"data row4 col0\" >Denmark</td>\n",
       "      <td id=\"T_741b9_row4_col1\" class=\"data row4 col1\" >1.900000</td>\n",
       "      <td id=\"T_741b9_row4_col2\" class=\"data row4 col2\" >0.500000</td>\n",
       "      <td id=\"T_741b9_row4_col3\" class=\"data row4 col3\" >1.400000</td>\n",
       "      <td id=\"T_741b9_row4_col4\" class=\"data row4 col4\" >2022-12-15</td>\n",
       "    </tr>\n",
       "    <tr>\n",
       "      <th id=\"T_741b9_level0_row5\" class=\"row_heading level0 row5\" >11</th>\n",
       "      <td id=\"T_741b9_row5_col0\" class=\"data row5 col0\" >Europe</td>\n",
       "      <td id=\"T_741b9_row5_col1\" class=\"data row5 col1\" >2.500000</td>\n",
       "      <td id=\"T_741b9_row5_col2\" class=\"data row5 col2\" >0.500000</td>\n",
       "      <td id=\"T_741b9_row5_col3\" class=\"data row5 col3\" >2.000000</td>\n",
       "      <td id=\"T_741b9_row5_col4\" class=\"data row5 col4\" >2022-12-15</td>\n",
       "    </tr>\n",
       "    <tr>\n",
       "      <th id=\"T_741b9_level0_row6\" class=\"row_heading level0 row6\" >17</th>\n",
       "      <td id=\"T_741b9_row6_col0\" class=\"data row6 col0\" >Mexico</td>\n",
       "      <td id=\"T_741b9_row6_col1\" class=\"data row6 col1\" >10.500000</td>\n",
       "      <td id=\"T_741b9_row6_col2\" class=\"data row6 col2\" >0.500000</td>\n",
       "      <td id=\"T_741b9_row6_col3\" class=\"data row6 col3\" >10.000000</td>\n",
       "      <td id=\"T_741b9_row6_col4\" class=\"data row6 col4\" >2022-12-15</td>\n",
       "    </tr>\n",
       "    <tr>\n",
       "      <th id=\"T_741b9_level0_row7\" class=\"row_heading level0 row7\" >1</th>\n",
       "      <td id=\"T_741b9_row7_col0\" class=\"data row7 col0\" >United States</td>\n",
       "      <td id=\"T_741b9_row7_col1\" class=\"data row7 col1\" >4.500000</td>\n",
       "      <td id=\"T_741b9_row7_col2\" class=\"data row7 col2\" >0.500000</td>\n",
       "      <td id=\"T_741b9_row7_col3\" class=\"data row7 col3\" >4.000000</td>\n",
       "      <td id=\"T_741b9_row7_col4\" class=\"data row7 col4\" >2022-12-14</td>\n",
       "    </tr>\n",
       "    <tr>\n",
       "      <th id=\"T_741b9_level0_row8\" class=\"row_heading level0 row8\" >7</th>\n",
       "      <td id=\"T_741b9_row8_col0\" class=\"data row8 col0\" >Canada</td>\n",
       "      <td id=\"T_741b9_row8_col1\" class=\"data row8 col1\" >4.250000</td>\n",
       "      <td id=\"T_741b9_row8_col2\" class=\"data row8 col2\" >0.500000</td>\n",
       "      <td id=\"T_741b9_row8_col3\" class=\"data row8 col3\" >3.750000</td>\n",
       "      <td id=\"T_741b9_row8_col4\" class=\"data row8 col4\" >2022-12-07</td>\n",
       "    </tr>\n",
       "    <tr>\n",
       "      <th id=\"T_741b9_level0_row9\" class=\"row_heading level0 row9\" >13</th>\n",
       "      <td id=\"T_741b9_row9_col0\" class=\"data row9 col0\" >India</td>\n",
       "      <td id=\"T_741b9_row9_col1\" class=\"data row9 col1\" >6.250000</td>\n",
       "      <td id=\"T_741b9_row9_col2\" class=\"data row9 col2\" >0.350000</td>\n",
       "      <td id=\"T_741b9_row9_col3\" class=\"data row9 col3\" >5.900000</td>\n",
       "      <td id=\"T_741b9_row9_col4\" class=\"data row9 col4\" >2022-12-07</td>\n",
       "    </tr>\n",
       "  </tbody>\n",
       "</table>\n"
      ],
      "text/plain": [
       "<pandas.io.formats.style.Styler at 0x7f07b9193a30>"
      ]
     },
     "execution_count": 1,
     "metadata": {},
     "output_type": "execute_result"
    }
   ],
   "source": [
    "import pandas as pd\n",
    "import matplotlib.pyplot as plt\n",
    "import requests\n",
    "\n",
    "url = 'https://www.global-rates.com/en/interest-rates/central-banks/central-banks.aspx'\n",
    "\n",
    "def style_negative(v):\n",
    "    if v > 0:\n",
    "        return 'background-color:salmon;' \n",
    "    else:\n",
    "        return 'background-color:greenyellow;'\n",
    "\n",
    "df = None\n",
    "for df_temp in pd.read_html(url):\n",
    "    if df_temp.iloc[0,0] == 'Name of interest rate':\n",
    "        df_temp = df_temp.rename(columns=df_temp.iloc[0]).drop(df_temp.index[0])\n",
    "        df = df_temp\n",
    "        \n",
    "df['change'] = pd.to_datetime(df['change']).dt.date\n",
    "df['current rate'] = df['current rate'].str.replace('\\xa0%', '').astype(float)\n",
    "df['previous rate'] = df['previous rate'].str.replace('\\xa0%', '').astype(float)\n",
    "df['direction'] =  df['current rate'] - df['previous rate']\n",
    "# df.sort_values(by='change', ascending=False).style.background_gradient(cmap='summer_r')   \n",
    "df.drop('Name of interest rate', axis=1).sort_values(by='change', ascending=False).head(10)\\\n",
    "    .style.applymap(style_negative, subset='direction')\\\n",
    "    .background_gradient(cmap='Greens', subset=['current rate', 'previous rate'])"
   ]
  },
  {
   "cell_type": "markdown",
   "id": "e13beab1-50b3-4b62-847e-e7219ddf9963",
   "metadata": {
    "extensions": {
     "jupyter_dashboards": {
      "activeView": "grid_default",
      "views": {
       "grid_default": {
        "col": 6,
        "height": 2,
        "hidden": false,
        "locked": true,
        "row": 0,
        "width": 6
       }
      }
     }
    },
    "tags": []
   },
   "source": [
    "## 2. Currencies"
   ]
  },
  {
   "cell_type": "code",
   "execution_count": 2,
   "id": "b4b62901-fa74-4072-8629-a30a4373eb81",
   "metadata": {
    "extensions": {
     "jupyter_dashboards": {
      "activeView": "grid_default",
      "views": {
       "grid_default": {
        "col": null,
        "height": 2,
        "hidden": true,
        "locked": true,
        "row": null,
        "width": 2
       }
      }
     }
    }
   },
   "outputs": [],
   "source": [
    "url_cur = 'https://tradingeconomics.com/currencies'\n",
    "\n",
    "header = {\n",
    "  \"User-Agent\": \"Mozilla/5.0 (X11; Linux x86_64) AppleWebKit/537.36 (KHTML, like Gecko) Chrome/50.0.2661.75 Safari/537.36\",\n",
    "  \"X-Requested-With\": \"XMLHttpRequest\"\n",
    "}\n",
    "\n",
    "r = requests.get(url_cur, headers=header)\n",
    "\n",
    "ls_cur = pd.read_html(r.text)"
   ]
  },
  {
   "cell_type": "code",
   "execution_count": 3,
   "id": "6b1a77be-97cb-407c-a136-5b50081ee844",
   "metadata": {
    "extensions": {
     "jupyter_dashboards": {
      "activeView": "grid_default",
      "views": {
       "grid_default": {
        "col": null,
        "height": 2,
        "hidden": true,
        "locked": true,
        "row": null,
        "width": 2
       }
      }
     }
    }
   },
   "outputs": [],
   "source": [
    "cols = ls_cur[0].columns\n",
    "[df if 'Major' in df.columns else df.set_axis(cols, axis=1, inplace=True)  for df in ls_cur]\n",
    "\n",
    "df_cur = pd.concat(ls_cur)"
   ]
  },
  {
   "cell_type": "code",
   "execution_count": 4,
   "id": "129c3e51-1c50-495d-9a82-3853aeef85f1",
   "metadata": {
    "extensions": {
     "jupyter_dashboards": {
      "activeView": "grid_default",
      "views": {
       "grid_default": {
        "col": 6,
        "height": 5,
        "hidden": false,
        "locked": true,
        "row": 2,
        "width": 6
       }
      }
     }
    },
    "tags": []
   },
   "outputs": [
    {
     "data": {
      "text/html": [
       "<style type=\"text/css\">\n",
       "#T_7bcbe_row0_col1, #T_7bcbe_row2_col1 {\n",
       "  background-color: #f7fbff;\n",
       "  color: #000000;\n",
       "}\n",
       "#T_7bcbe_row0_col2 {\n",
       "  background-color: #1e8741;\n",
       "  color: #f1f1f1;\n",
       "}\n",
       "#T_7bcbe_row0_col3, #T_7bcbe_row1_col5, #T_7bcbe_row2_col4, #T_7bcbe_row4_col2 {\n",
       "  background-color: #f7fcf5;\n",
       "  color: #000000;\n",
       "}\n",
       "#T_7bcbe_row0_col4 {\n",
       "  background-color: #e3f4de;\n",
       "  color: #000000;\n",
       "}\n",
       "#T_7bcbe_row0_col5 {\n",
       "  background-color: #c2e7bb;\n",
       "  color: #000000;\n",
       "}\n",
       "#T_7bcbe_row1_col1 {\n",
       "  background-color: #f6faff;\n",
       "  color: #000000;\n",
       "}\n",
       "#T_7bcbe_row1_col2 {\n",
       "  background-color: #006729;\n",
       "  color: #f1f1f1;\n",
       "}\n",
       "#T_7bcbe_row1_col3 {\n",
       "  background-color: #84cc83;\n",
       "  color: #000000;\n",
       "}\n",
       "#T_7bcbe_row1_col4 {\n",
       "  background-color: #f4fbf1;\n",
       "  color: #000000;\n",
       "}\n",
       "#T_7bcbe_row2_col2 {\n",
       "  background-color: #edf8e9;\n",
       "  color: #000000;\n",
       "}\n",
       "#T_7bcbe_row2_col3 {\n",
       "  background-color: #1d8640;\n",
       "  color: #f1f1f1;\n",
       "}\n",
       "#T_7bcbe_row2_col5 {\n",
       "  background-color: #339c52;\n",
       "  color: #f1f1f1;\n",
       "}\n",
       "#T_7bcbe_row3_col1 {\n",
       "  background-color: #08306b;\n",
       "  color: #f1f1f1;\n",
       "}\n",
       "#T_7bcbe_row3_col2, #T_7bcbe_row3_col4, #T_7bcbe_row4_col3, #T_7bcbe_row4_col5 {\n",
       "  background-color: #00441b;\n",
       "  color: #f1f1f1;\n",
       "}\n",
       "#T_7bcbe_row3_col3 {\n",
       "  background-color: #7ac77b;\n",
       "  color: #000000;\n",
       "}\n",
       "#T_7bcbe_row3_col5 {\n",
       "  background-color: #97d492;\n",
       "  color: #000000;\n",
       "}\n",
       "#T_7bcbe_row4_col1 {\n",
       "  background-color: #f5f9fe;\n",
       "  color: #000000;\n",
       "}\n",
       "#T_7bcbe_row4_col4 {\n",
       "  background-color: #f6fcf4;\n",
       "  color: #000000;\n",
       "}\n",
       "</style>\n",
       "<table id=\"T_7bcbe\">\n",
       "  <thead>\n",
       "    <tr>\n",
       "      <th class=\"blank level0\" >&nbsp;</th>\n",
       "      <th id=\"T_7bcbe_level0_col0\" class=\"col_heading level0 col0\" >Major</th>\n",
       "      <th id=\"T_7bcbe_level0_col1\" class=\"col_heading level0 col1\" >Price</th>\n",
       "      <th id=\"T_7bcbe_level0_col2\" class=\"col_heading level0 col2\" >%</th>\n",
       "      <th id=\"T_7bcbe_level0_col3\" class=\"col_heading level0 col3\" >Weekly</th>\n",
       "      <th id=\"T_7bcbe_level0_col4\" class=\"col_heading level0 col4\" >Monthly</th>\n",
       "      <th id=\"T_7bcbe_level0_col5\" class=\"col_heading level0 col5\" >YoY</th>\n",
       "    </tr>\n",
       "  </thead>\n",
       "  <tbody>\n",
       "    <tr>\n",
       "      <th id=\"T_7bcbe_level0_row0\" class=\"row_heading level0 row0\" >0</th>\n",
       "      <td id=\"T_7bcbe_row0_col0\" class=\"data row0 col0\" >EURUSD</td>\n",
       "      <td id=\"T_7bcbe_row0_col1\" class=\"data row0 col1\" >1.064400</td>\n",
       "      <td id=\"T_7bcbe_row0_col2\" class=\"data row0 col2\" >1.180000</td>\n",
       "      <td id=\"T_7bcbe_row0_col3\" class=\"data row0 col3\" >-0.540000</td>\n",
       "      <td id=\"T_7bcbe_row0_col4\" class=\"data row0 col4\" >1.320000</td>\n",
       "      <td id=\"T_7bcbe_row0_col5\" class=\"data row0 col5\" >-6.290000</td>\n",
       "    </tr>\n",
       "    <tr>\n",
       "      <th id=\"T_7bcbe_level0_row1\" class=\"row_heading level0 row1\" >1</th>\n",
       "      <td id=\"T_7bcbe_row1_col0\" class=\"data row1 col0\" >GBPUSD</td>\n",
       "      <td id=\"T_7bcbe_row1_col1\" class=\"data row1 col1\" >1.209200</td>\n",
       "      <td id=\"T_7bcbe_row1_col2\" class=\"data row1 col2\" >1.560000</td>\n",
       "      <td id=\"T_7bcbe_row1_col3\" class=\"data row1 col3\" >-0.040000</td>\n",
       "      <td id=\"T_7bcbe_row1_col4\" class=\"data row1 col4\" >-0.880000</td>\n",
       "      <td id=\"T_7bcbe_row1_col5\" class=\"data row1 col5\" >-10.990000</td>\n",
       "    </tr>\n",
       "    <tr>\n",
       "      <th id=\"T_7bcbe_level0_row2\" class=\"row_heading level0 row2\" >6</th>\n",
       "      <td id=\"T_7bcbe_row2_col0\" class=\"data row2 col0\" >USDCHF</td>\n",
       "      <td id=\"T_7bcbe_row2_col1\" class=\"data row2 col1\" >0.927300</td>\n",
       "      <td id=\"T_7bcbe_row2_col2\" class=\"data row2 col2\" >-0.940000</td>\n",
       "      <td id=\"T_7bcbe_row2_col3\" class=\"data row2 col3\" >0.310000</td>\n",
       "      <td id=\"T_7bcbe_row2_col4\" class=\"data row2 col4\" >-1.410000</td>\n",
       "      <td id=\"T_7bcbe_row2_col5\" class=\"data row2 col5\" >0.970000</td>\n",
       "    </tr>\n",
       "    <tr>\n",
       "      <th id=\"T_7bcbe_level0_row3\" class=\"row_heading level0 row3\" >11</th>\n",
       "      <td id=\"T_7bcbe_row3_col0\" class=\"data row3 col0\" >USDRUB</td>\n",
       "      <td id=\"T_7bcbe_row3_col1\" class=\"data row3 col1\" >72.495500</td>\n",
       "      <td id=\"T_7bcbe_row3_col2\" class=\"data row3 col2\" >1.890000</td>\n",
       "      <td id=\"T_7bcbe_row3_col3\" class=\"data row3 col3\" >-0.010000</td>\n",
       "      <td id=\"T_7bcbe_row3_col4\" class=\"data row3 col4\" >18.850000</td>\n",
       "      <td id=\"T_7bcbe_row3_col5\" class=\"data row3 col5\" >-3.880000</td>\n",
       "    </tr>\n",
       "    <tr>\n",
       "      <th id=\"T_7bcbe_level0_row4\" class=\"row_heading level0 row4\" >20</th>\n",
       "      <td id=\"T_7bcbe_row4_col0\" class=\"data row4 col0\" >USDBGN</td>\n",
       "      <td id=\"T_7bcbe_row4_col1\" class=\"data row4 col1\" >1.837100</td>\n",
       "      <td id=\"T_7bcbe_row4_col2\" class=\"data row4 col2\" >-1.160000</td>\n",
       "      <td id=\"T_7bcbe_row4_col3\" class=\"data row4 col3\" >0.560000</td>\n",
       "      <td id=\"T_7bcbe_row4_col4\" class=\"data row4 col4\" >-1.330000</td>\n",
       "      <td id=\"T_7bcbe_row4_col5\" class=\"data row4 col5\" >6.560000</td>\n",
       "    </tr>\n",
       "  </tbody>\n",
       "</table>\n"
      ],
      "text/plain": [
       "<pandas.io.formats.style.Styler at 0x7f080c7020d0>"
      ]
     },
     "execution_count": 4,
     "metadata": {},
     "output_type": "execute_result"
    }
   ],
   "source": [
    "pairs = ['EURUSD', 'USDRUB', 'GBPUSD', 'USDCHF', 'USDBGN']\n",
    "\n",
    "str_cols = ['Weekly', 'Monthly', 'YoY', '%']\n",
    "df_cur[str_cols] = df_cur[str_cols].replace('%', '', regex=True).astype(float)\n",
    "\n",
    "df_cur = df_cur[df_cur['Major'].isin(pairs)][['Major', 'Price', '%', 'Weekly', 'Monthly', 'YoY']]\n",
    "\n",
    "df_cur.drop_duplicates().style.background_gradient(cmap='Greens', subset=str_cols)\\\n",
    "    .background_gradient(cmap='Blues', subset='Price')\n",
    "    "
   ]
  },
  {
   "cell_type": "code",
   "execution_count": 5,
   "id": "770a7e96-a994-454f-abfb-f95831845434",
   "metadata": {
    "extensions": {
     "jupyter_dashboards": {
      "activeView": "grid_default",
      "views": {
       "grid_default": {
        "col": null,
        "height": 2,
        "hidden": true,
        "locked": true,
        "row": null,
        "width": 2
       }
      }
     }
    }
   },
   "outputs": [
    {
     "data": {
      "text/html": [
       "<div>\n",
       "<style scoped>\n",
       "    .dataframe tbody tr th:only-of-type {\n",
       "        vertical-align: middle;\n",
       "    }\n",
       "\n",
       "    .dataframe tbody tr th {\n",
       "        vertical-align: top;\n",
       "    }\n",
       "\n",
       "    .dataframe thead th {\n",
       "        text-align: right;\n",
       "    }\n",
       "</style>\n",
       "<table border=\"1\" class=\"dataframe\">\n",
       "  <thead>\n",
       "    <tr style=\"text-align: right;\">\n",
       "      <th></th>\n",
       "      <th>Crypto</th>\n",
       "      <th>Price</th>\n",
       "      <th>Day</th>\n",
       "      <th>%</th>\n",
       "      <th>Weekly</th>\n",
       "      <th>Monthly</th>\n",
       "      <th>YoY</th>\n",
       "      <th>MarketCap</th>\n",
       "      <th>Date</th>\n",
       "    </tr>\n",
       "  </thead>\n",
       "  <tbody>\n",
       "    <tr>\n",
       "      <th>0</th>\n",
       "      <td>Bitcoin</td>\n",
       "      <td>16928.00000</td>\n",
       "      <td>4.0000</td>\n",
       "      <td>-0.03%</td>\n",
       "      <td>2.35%</td>\n",
       "      <td>-1.50%</td>\n",
       "      <td>-59.40%</td>\n",
       "      <td>$320,977M</td>\n",
       "      <td>Jan/07</td>\n",
       "    </tr>\n",
       "    <tr>\n",
       "      <th>1</th>\n",
       "      <td>Ether</td>\n",
       "      <td>1264.90000</td>\n",
       "      <td>1.1800</td>\n",
       "      <td>-0.09%</td>\n",
       "      <td>5.49%</td>\n",
       "      <td>-1.03%</td>\n",
       "      <td>-58.93%</td>\n",
       "      <td>$150,827M</td>\n",
       "      <td>Jan/07</td>\n",
       "    </tr>\n",
       "    <tr>\n",
       "      <th>2</th>\n",
       "      <td>Binance</td>\n",
       "      <td>261.10000</td>\n",
       "      <td>1.3000</td>\n",
       "      <td>0.51%</td>\n",
       "      <td>5.79%</td>\n",
       "      <td>-9.84%</td>\n",
       "      <td>-38.36%</td>\n",
       "      <td>$42,686M</td>\n",
       "      <td>Jan/07</td>\n",
       "    </tr>\n",
       "    <tr>\n",
       "      <th>3</th>\n",
       "      <td>Cardano</td>\n",
       "      <td>0.27721</td>\n",
       "      <td>0.0018</td>\n",
       "      <td>-0.65%</td>\n",
       "      <td>12.98%</td>\n",
       "      <td>-11.88%</td>\n",
       "      <td>-76.52%</td>\n",
       "      <td>$9,323M</td>\n",
       "      <td>Jan/07</td>\n",
       "    </tr>\n",
       "    <tr>\n",
       "      <th>4</th>\n",
       "      <td>Solana</td>\n",
       "      <td>13.23000</td>\n",
       "      <td>0.3098</td>\n",
       "      <td>-2.29%</td>\n",
       "      <td>32.70%</td>\n",
       "      <td>-3.43%</td>\n",
       "      <td>-90.69%</td>\n",
       "      <td>$4,132M</td>\n",
       "      <td>Jan/07</td>\n",
       "    </tr>\n",
       "  </tbody>\n",
       "</table>\n",
       "</div>"
      ],
      "text/plain": [
       "    Crypto        Price     Day       %  Weekly  Monthly      YoY  MarketCap  \\\n",
       "0  Bitcoin  16928.00000  4.0000  -0.03%   2.35%   -1.50%  -59.40%  $320,977M   \n",
       "1    Ether   1264.90000  1.1800  -0.09%   5.49%   -1.03%  -58.93%  $150,827M   \n",
       "2  Binance    261.10000  1.3000   0.51%   5.79%   -9.84%  -38.36%   $42,686M   \n",
       "3  Cardano      0.27721  0.0018  -0.65%  12.98%  -11.88%  -76.52%    $9,323M   \n",
       "4   Solana     13.23000  0.3098  -2.29%  32.70%   -3.43%  -90.69%    $4,132M   \n",
       "\n",
       "     Date  \n",
       "0  Jan/07  \n",
       "1  Jan/07  \n",
       "2  Jan/07  \n",
       "3  Jan/07  \n",
       "4  Jan/07  "
      ]
     },
     "execution_count": 5,
     "metadata": {},
     "output_type": "execute_result"
    }
   ],
   "source": [
    "url_cry = 'https://tradingeconomics.com/crypto'\n",
    "\n",
    "header = {\n",
    "  \"User-Agent\": \"Mozilla/5.0 (X11; Linux x86_64) AppleWebKit/537.36 (KHTML, like Gecko) Chrome/50.0.2661.75 Safari/537.36\",\n",
    "  \"X-Requested-With\": \"XMLHttpRequest\"\n",
    "}\n",
    "\n",
    "r = requests.get(url_cry, headers=header)\n",
    "\n",
    "df_cry = pd.read_html(r.text)[0]\n",
    "df_cry.head(5)"
   ]
  },
  {
   "cell_type": "code",
   "execution_count": 6,
   "id": "7022c9c8-0189-4cfc-9621-4d6a299baf26",
   "metadata": {
    "extensions": {
     "jupyter_dashboards": {
      "activeView": "grid_default",
      "views": {
       "grid_default": {
        "col": 6,
        "height": 4,
        "hidden": false,
        "locked": true,
        "row": 7,
        "width": 6
       }
      }
     }
    },
    "tags": []
   },
   "outputs": [
    {
     "data": {
      "text/html": [
       "<style type=\"text/css\">\n",
       "#T_c7136_row0_col1 {\n",
       "  background-color: #08306b;\n",
       "  color: #f1f1f1;\n",
       "}\n",
       "#T_c7136_row0_col2 {\n",
       "  background-color: #e9f7e5;\n",
       "  color: #000000;\n",
       "}\n",
       "#T_c7136_row0_col3, #T_c7136_row0_col5, #T_c7136_row1_col2, #T_c7136_row2_col4 {\n",
       "  background-color: #f7fcf5;\n",
       "  color: #000000;\n",
       "}\n",
       "#T_c7136_row0_col4 {\n",
       "  background-color: #005522;\n",
       "  color: #f1f1f1;\n",
       "}\n",
       "#T_c7136_row1_col1 {\n",
       "  background-color: #ebf3fb;\n",
       "  color: #000000;\n",
       "}\n",
       "#T_c7136_row1_col3 {\n",
       "  background-color: #006027;\n",
       "  color: #f1f1f1;\n",
       "}\n",
       "#T_c7136_row1_col4, #T_c7136_row2_col2, #T_c7136_row2_col3, #T_c7136_row2_col5 {\n",
       "  background-color: #00441b;\n",
       "  color: #f1f1f1;\n",
       "}\n",
       "#T_c7136_row1_col5 {\n",
       "  background-color: #f4fbf2;\n",
       "  color: #000000;\n",
       "}\n",
       "#T_c7136_row2_col1 {\n",
       "  background-color: #f7fbff;\n",
       "  color: #000000;\n",
       "}\n",
       "</style>\n",
       "<table id=\"T_c7136\">\n",
       "  <thead>\n",
       "    <tr>\n",
       "      <th class=\"blank level0\" >&nbsp;</th>\n",
       "      <th id=\"T_c7136_level0_col0\" class=\"col_heading level0 col0\" >Crypto</th>\n",
       "      <th id=\"T_c7136_level0_col1\" class=\"col_heading level0 col1\" >Price</th>\n",
       "      <th id=\"T_c7136_level0_col2\" class=\"col_heading level0 col2\" >%</th>\n",
       "      <th id=\"T_c7136_level0_col3\" class=\"col_heading level0 col3\" >Weekly</th>\n",
       "      <th id=\"T_c7136_level0_col4\" class=\"col_heading level0 col4\" >Monthly</th>\n",
       "      <th id=\"T_c7136_level0_col5\" class=\"col_heading level0 col5\" >YoY</th>\n",
       "    </tr>\n",
       "  </thead>\n",
       "  <tbody>\n",
       "    <tr>\n",
       "      <th id=\"T_c7136_level0_row0\" class=\"row_heading level0 row0\" >0</th>\n",
       "      <td id=\"T_c7136_row0_col0\" class=\"data row0 col0\" >Bitcoin</td>\n",
       "      <td id=\"T_c7136_row0_col1\" class=\"data row0 col1\" >16928.000000</td>\n",
       "      <td id=\"T_c7136_row0_col2\" class=\"data row0 col2\" >-0.030000</td>\n",
       "      <td id=\"T_c7136_row0_col3\" class=\"data row0 col3\" >2.350000</td>\n",
       "      <td id=\"T_c7136_row0_col4\" class=\"data row0 col4\" >-1.500000</td>\n",
       "      <td id=\"T_c7136_row0_col5\" class=\"data row0 col5\" >-59.400000</td>\n",
       "    </tr>\n",
       "    <tr>\n",
       "      <th id=\"T_c7136_level0_row1\" class=\"row_heading level0 row1\" >1</th>\n",
       "      <td id=\"T_c7136_row1_col0\" class=\"data row1 col0\" >Ether</td>\n",
       "      <td id=\"T_c7136_row1_col1\" class=\"data row1 col1\" >1264.900000</td>\n",
       "      <td id=\"T_c7136_row1_col2\" class=\"data row1 col2\" >-0.090000</td>\n",
       "      <td id=\"T_c7136_row1_col3\" class=\"data row1 col3\" >5.490000</td>\n",
       "      <td id=\"T_c7136_row1_col4\" class=\"data row1 col4\" >-1.030000</td>\n",
       "      <td id=\"T_c7136_row1_col5\" class=\"data row1 col5\" >-58.930000</td>\n",
       "    </tr>\n",
       "    <tr>\n",
       "      <th id=\"T_c7136_level0_row2\" class=\"row_heading level0 row2\" >2</th>\n",
       "      <td id=\"T_c7136_row2_col0\" class=\"data row2 col0\" >Binance</td>\n",
       "      <td id=\"T_c7136_row2_col1\" class=\"data row2 col1\" >261.100000</td>\n",
       "      <td id=\"T_c7136_row2_col2\" class=\"data row2 col2\" >0.510000</td>\n",
       "      <td id=\"T_c7136_row2_col3\" class=\"data row2 col3\" >5.790000</td>\n",
       "      <td id=\"T_c7136_row2_col4\" class=\"data row2 col4\" >-9.840000</td>\n",
       "      <td id=\"T_c7136_row2_col5\" class=\"data row2 col5\" >-38.360000</td>\n",
       "    </tr>\n",
       "  </tbody>\n",
       "</table>\n"
      ],
      "text/plain": [
       "<pandas.io.formats.style.Styler at 0x7f080c7025b0>"
      ]
     },
     "execution_count": 6,
     "metadata": {},
     "output_type": "execute_result"
    }
   ],
   "source": [
    "str_cols = ['Weekly', 'Monthly', 'YoY', '%']\n",
    "df_cry[str_cols] = df_cry[str_cols].replace('%', '', regex=True).astype(float)\n",
    "df_cry = df_cry[['Crypto', 'Price', '%', 'Weekly', 'Monthly', 'YoY']]\n",
    "df_cry.head(3).style.background_gradient(cmap='Greens', subset=str_cols)\\\n",
    "    .background_gradient(cmap='Blues', subset='Price')"
   ]
  },
  {
   "cell_type": "markdown",
   "id": "f6219faa-9333-482a-baeb-550929bac2fa",
   "metadata": {
    "extensions": {
     "jupyter_dashboards": {
      "activeView": "grid_default",
      "views": {
       "grid_default": {
        "col": 2,
        "height": 2,
        "hidden": false,
        "locked": true,
        "row": 11,
        "width": 10
       }
      }
     }
    },
    "tags": []
   },
   "source": [
    "## 3. Oil"
   ]
  },
  {
   "cell_type": "code",
   "execution_count": 7,
   "id": "908162b3-cfc0-434a-8fc5-ef4f90400ae7",
   "metadata": {
    "extensions": {
     "jupyter_dashboards": {
      "activeView": "grid_default",
      "views": {
       "grid_default": {
        "col": null,
        "height": 2,
        "hidden": true,
        "locked": true,
        "row": null,
        "width": 2
       }
      }
     }
    }
   },
   "outputs": [
    {
     "data": {
      "text/html": [
       "<div>\n",
       "<style scoped>\n",
       "    .dataframe tbody tr th:only-of-type {\n",
       "        vertical-align: middle;\n",
       "    }\n",
       "\n",
       "    .dataframe tbody tr th {\n",
       "        vertical-align: top;\n",
       "    }\n",
       "\n",
       "    .dataframe thead th {\n",
       "        text-align: right;\n",
       "    }\n",
       "</style>\n",
       "<table border=\"1\" class=\"dataframe\">\n",
       "  <thead>\n",
       "    <tr style=\"text-align: right;\">\n",
       "      <th></th>\n",
       "      <th>Year</th>\n",
       "      <th>AverageClosing Price</th>\n",
       "      <th>Year Open</th>\n",
       "      <th>Year High</th>\n",
       "      <th>Year Low</th>\n",
       "      <th>Year Close</th>\n",
       "      <th>Annual% Change</th>\n",
       "      <th>date</th>\n",
       "    </tr>\n",
       "  </thead>\n",
       "  <tbody>\n",
       "    <tr>\n",
       "      <th>0</th>\n",
       "      <td>2023</td>\n",
       "      <td>75.54</td>\n",
       "      <td>$80.26</td>\n",
       "      <td>$80.26</td>\n",
       "      <td>$72.84</td>\n",
       "      <td>$73.73</td>\n",
       "      <td>-8.42</td>\n",
       "      <td>2023-01-01</td>\n",
       "    </tr>\n",
       "    <tr>\n",
       "      <th>1</th>\n",
       "      <td>2022</td>\n",
       "      <td>94.53</td>\n",
       "      <td>$76.08</td>\n",
       "      <td>$123.70</td>\n",
       "      <td>$71.59</td>\n",
       "      <td>$80.51</td>\n",
       "      <td>7.05</td>\n",
       "      <td>2022-01-01</td>\n",
       "    </tr>\n",
       "    <tr>\n",
       "      <th>2</th>\n",
       "      <td>2021</td>\n",
       "      <td>68.17</td>\n",
       "      <td>$47.62</td>\n",
       "      <td>$84.65</td>\n",
       "      <td>$47.62</td>\n",
       "      <td>$75.21</td>\n",
       "      <td>55.01</td>\n",
       "      <td>2021-01-01</td>\n",
       "    </tr>\n",
       "    <tr>\n",
       "      <th>3</th>\n",
       "      <td>2020</td>\n",
       "      <td>39.68</td>\n",
       "      <td>$61.17</td>\n",
       "      <td>$63.27</td>\n",
       "      <td>$11.26</td>\n",
       "      <td>$48.52</td>\n",
       "      <td>-20.64</td>\n",
       "      <td>2020-01-01</td>\n",
       "    </tr>\n",
       "    <tr>\n",
       "      <th>4</th>\n",
       "      <td>2019</td>\n",
       "      <td>56.99</td>\n",
       "      <td>$46.31</td>\n",
       "      <td>$66.24</td>\n",
       "      <td>$46.31</td>\n",
       "      <td>$61.14</td>\n",
       "      <td>35.42</td>\n",
       "      <td>2019-01-01</td>\n",
       "    </tr>\n",
       "  </tbody>\n",
       "</table>\n",
       "</div>"
      ],
      "text/plain": [
       "   Year  AverageClosing Price Year Open Year High Year Low Year Close  \\\n",
       "0  2023                 75.54    $80.26    $80.26   $72.84     $73.73   \n",
       "1  2022                 94.53    $76.08   $123.70   $71.59     $80.51   \n",
       "2  2021                 68.17    $47.62    $84.65   $47.62     $75.21   \n",
       "3  2020                 39.68    $61.17    $63.27   $11.26     $48.52   \n",
       "4  2019                 56.99    $46.31    $66.24   $46.31     $61.14   \n",
       "\n",
       "   Annual% Change       date  \n",
       "0           -8.42 2023-01-01  \n",
       "1            7.05 2022-01-01  \n",
       "2           55.01 2021-01-01  \n",
       "3          -20.64 2020-01-01  \n",
       "4           35.42 2019-01-01  "
      ]
     },
     "execution_count": 7,
     "metadata": {},
     "output_type": "execute_result"
    }
   ],
   "source": [
    "# collect data\n",
    "url_oil = 'https://www.macrotrends.net/1369/crude-oil-price-history-chart'\n",
    "df_oil = pd.read_html(url_oil)[0]\n",
    "\n",
    "# clean\n",
    "df_oil = df_oil.droplevel(level=0,axis=1)\n",
    "df_oil['Annual% Change'] = df_oil['Annual% Change'].str.replace('%','').astype(float)\n",
    "df_oil['AverageClosing Price'] = df_oil['AverageClosing Price'].str.replace(r'$','', regex=False).astype(float)\n",
    "df_oil['date'] = pd.to_datetime(df_oil['Year'], format='%Y')\n",
    "df_oil['Year'] = df_oil['date'].dt.year\n",
    "df_oil.head(5)"
   ]
  },
  {
   "cell_type": "code",
   "execution_count": 8,
   "id": "77b84d3b-d0b5-49ab-a7bd-5c007d8edfdb",
   "metadata": {
    "extensions": {
     "jupyter_dashboards": {
      "activeView": "grid_default",
      "views": {
       "grid_default": {
        "col": 2,
        "height": 6,
        "hidden": false,
        "locked": true,
        "row": 13,
        "width": 10
       }
      }
     }
    },
    "tags": []
   },
   "outputs": [
    {
     "data": {
      "image/png": "[encoded data removed]",
      "text/plain": [
       "<Figure size 1080x216 with 2 Axes>"
      ]
     },
     "metadata": {
      "needs_background": "light"
     },
     "output_type": "display_data"
    }
   ],
   "source": [
    "import seaborn as sns\n",
    "\n",
    "fig, ax =plt.subplots(1,2)\n",
    "fig.set_size_inches(15, 3)\n",
    "\n",
    "g = sns.barplot(data=df_oil, x=\"Year\", y='Annual% Change', ax=ax[0])\n",
    "g1 = sns.barplot(data=df_oil, x=\"Year\", y='AverageClosing Price', ax=ax[1])\n",
    "g.tick_params(axis='x', rotation=90)\n",
    "g1.tick_params(axis='x', rotation=90)"
   ]
  },
  {
   "cell_type": "markdown",
   "id": "a5600881-c34d-4884-9a1a-cb517229ef0b",
   "metadata": {
    "extensions": {
     "jupyter_dashboards": {
      "activeView": "grid_default",
      "views": {
       "grid_default": {
        "col": 0,
        "height": 2,
        "hidden": false,
        "locked": true,
        "row": 19,
        "width": 6
       }
      }
     }
    },
    "tags": []
   },
   "source": [
    "## 4. Resources"
   ]
  },
  {
   "cell_type": "code",
   "execution_count": 9,
   "id": "24dba8f4-9bf2-4b07-a185-6f032bc46af7",
   "metadata": {
    "extensions": {
     "jupyter_dashboards": {
      "activeView": "grid_default",
      "views": {
       "grid_default": {
        "col": null,
        "height": 2,
        "hidden": true,
        "locked": true,
        "row": null,
        "width": 2
       }
      }
     }
    }
   },
   "outputs": [],
   "source": [
    "url_res = 'https://tradingeconomics.com/commodities'\n",
    "\n",
    "header = {\n",
    "  \"User-Agent\": \"Mozilla/5.0 (X11; Linux x86_64) AppleWebKit/537.36 (KHTML, like Gecko) Chrome/50.0.2661.75 Safari/537.36\",\n",
    "  \"X-Requested-With\": \"XMLHttpRequest\"\n",
    "}\n",
    "\n",
    "r = requests.get(url_res, headers=header)\n",
    "\n",
    "ls_res = pd.read_html(r.text)\n",
    "\n",
    "cols = list(ls_res[0].columns)\n",
    "cols[0] = 'Resource'\n",
    "cols = pd.Index(cols)\n",
    "[df if 'Major' in df.columns else df.set_axis(cols, axis=1, inplace=True)  for df in ls_res]\n",
    "\n",
    "df_res = pd.concat(ls_res)"
   ]
  },
  {
   "cell_type": "code",
   "execution_count": 11,
   "id": "7faab3bc-d8d7-41da-a7f8-1a0217e47aa7",
   "metadata": {
    "extensions": {
     "jupyter_dashboards": {
      "activeView": "grid_default",
      "views": {
       "grid_default": {
        "col": 0,
        "height": 6,
        "hidden": false,
        "locked": true,
        "row": 21,
        "width": 6
       }
      }
     }
    },
    "tags": []
   },
   "outputs": [
    {
     "data": {
      "text/html": [
       "<style type=\"text/css\">\n",
       "#T_b4328_row0_col1 {\n",
       "  background-color: #f0f6fd;\n",
       "  color: #000000;\n",
       "}\n",
       "#T_b4328_row0_col2 {\n",
       "  background-color: #aadda4;\n",
       "  color: #000000;\n",
       "}\n",
       "#T_b4328_row0_col3 {\n",
       "  background-color: #ecf8e8;\n",
       "  color: #000000;\n",
       "}\n",
       "#T_b4328_row0_col4, #T_b4328_row3_col2, #T_b4328_row3_col3 {\n",
       "  background-color: #bce4b5;\n",
       "  color: #000000;\n",
       "}\n",
       "#T_b4328_row0_col5, #T_b4328_row1_col3, #T_b4328_row3_col4, #T_b4328_row4_col2 {\n",
       "  background-color: #f7fcf5;\n",
       "  color: #000000;\n",
       "}\n",
       "#T_b4328_row1_col1 {\n",
       "  background-color: #f7fbff;\n",
       "  color: #000000;\n",
       "}\n",
       "#T_b4328_row1_col2 {\n",
       "  background-color: #e8f6e4;\n",
       "  color: #000000;\n",
       "}\n",
       "#T_b4328_row1_col4, #T_b4328_row2_col2, #T_b4328_row2_col3, #T_b4328_row4_col5 {\n",
       "  background-color: #00441b;\n",
       "  color: #f1f1f1;\n",
       "}\n",
       "#T_b4328_row1_col5 {\n",
       "  background-color: #dbf1d6;\n",
       "  color: #000000;\n",
       "}\n",
       "#T_b4328_row2_col1 {\n",
       "  background-color: #08306b;\n",
       "  color: #f1f1f1;\n",
       "}\n",
       "#T_b4328_row2_col4 {\n",
       "  background-color: #56b567;\n",
       "  color: #f1f1f1;\n",
       "}\n",
       "#T_b4328_row2_col5 {\n",
       "  background-color: #8dd08a;\n",
       "  color: #000000;\n",
       "}\n",
       "#T_b4328_row3_col1 {\n",
       "  background-color: #94c4df;\n",
       "  color: #000000;\n",
       "}\n",
       "#T_b4328_row3_col5 {\n",
       "  background-color: #d5efcf;\n",
       "  color: #000000;\n",
       "}\n",
       "#T_b4328_row4_col1 {\n",
       "  background-color: #f5fafe;\n",
       "  color: #000000;\n",
       "}\n",
       "#T_b4328_row4_col3, #T_b4328_row4_col4 {\n",
       "  background-color: #8ed08b;\n",
       "  color: #000000;\n",
       "}\n",
       "</style>\n",
       "<table id=\"T_b4328\">\n",
       "  <thead>\n",
       "    <tr>\n",
       "      <th class=\"blank level0\" >&nbsp;</th>\n",
       "      <th id=\"T_b4328_level0_col0\" class=\"col_heading level0 col0\" >Resource</th>\n",
       "      <th id=\"T_b4328_level0_col1\" class=\"col_heading level0 col1\" >Price</th>\n",
       "      <th id=\"T_b4328_level0_col2\" class=\"col_heading level0 col2\" >%</th>\n",
       "      <th id=\"T_b4328_level0_col3\" class=\"col_heading level0 col3\" >Weekly</th>\n",
       "      <th id=\"T_b4328_level0_col4\" class=\"col_heading level0 col4\" >Monthly</th>\n",
       "      <th id=\"T_b4328_level0_col5\" class=\"col_heading level0 col5\" >YoY</th>\n",
       "    </tr>\n",
       "  </thead>\n",
       "  <tbody>\n",
       "    <tr>\n",
       "      <th id=\"T_b4328_level0_row0\" class=\"row_heading level0 row0\" >0</th>\n",
       "      <td id=\"T_b4328_row0_col0\" class=\"data row0 col0\" >Crude Oil USD/Bbl</td>\n",
       "      <td id=\"T_b4328_row0_col1\" class=\"data row0 col1\" >73.770000</td>\n",
       "      <td id=\"T_b4328_row0_col2\" class=\"data row0 col2\" >0.140000</td>\n",
       "      <td id=\"T_b4328_row0_col3\" class=\"data row0 col3\" >-8.090000</td>\n",
       "      <td id=\"T_b4328_row0_col4\" class=\"data row0 col4\" >2.060000</td>\n",
       "      <td id=\"T_b4328_row0_col5\" class=\"data row0 col5\" >-5.950000</td>\n",
       "    </tr>\n",
       "    <tr>\n",
       "      <th id=\"T_b4328_level0_row1\" class=\"row_heading level0 row1\" >1</th>\n",
       "      <td id=\"T_b4328_row1_col0\" class=\"data row1 col0\" >Gasoline USD/Gal</td>\n",
       "      <td id=\"T_b4328_row1_col1\" class=\"data row1 col1\" >2.256600</td>\n",
       "      <td id=\"T_b4328_row1_col2\" class=\"data row1 col2\" >-0.460000</td>\n",
       "      <td id=\"T_b4328_row1_col3\" class=\"data row1 col3\" >-8.950000</td>\n",
       "      <td id=\"T_b4328_row1_col4\" class=\"data row1 col4\" >8.040000</td>\n",
       "      <td id=\"T_b4328_row1_col5\" class=\"data row1 col5\" >-2.130000</td>\n",
       "    </tr>\n",
       "    <tr>\n",
       "      <th id=\"T_b4328_level0_row2\" class=\"row_heading level0 row2\" >2</th>\n",
       "      <td id=\"T_b4328_row2_col0\" class=\"data row2 col0\" >Gold USD/t.oz</td>\n",
       "      <td id=\"T_b4328_row2_col1\" class=\"data row2 col1\" >1865.790000</td>\n",
       "      <td id=\"T_b4328_row2_col2\" class=\"data row2 col2\" >1.780000</td>\n",
       "      <td id=\"T_b4328_row2_col3\" class=\"data row2 col3\" >2.270000</td>\n",
       "      <td id=\"T_b4328_row2_col4\" class=\"data row2 col4\" >4.450000</td>\n",
       "      <td id=\"T_b4328_row2_col5\" class=\"data row2 col5\" >3.910000</td>\n",
       "    </tr>\n",
       "    <tr>\n",
       "      <th id=\"T_b4328_level0_row3\" class=\"row_heading level0 row3\" >3</th>\n",
       "      <td id=\"T_b4328_row3_col0\" class=\"data row3 col0\" >Wheat USd/Bu</td>\n",
       "      <td id=\"T_b4328_row3_col1\" class=\"data row3 col1\" >746.750000</td>\n",
       "      <td id=\"T_b4328_row3_col2\" class=\"data row3 col2\" >0.000000</td>\n",
       "      <td id=\"T_b4328_row3_col3\" class=\"data row3 col3\" >-5.710000</td>\n",
       "      <td id=\"T_b4328_row3_col4\" class=\"data row3 col4\" >-0.370000</td>\n",
       "      <td id=\"T_b4328_row3_col5\" class=\"data row3 col5\" >-1.550000</td>\n",
       "    </tr>\n",
       "    <tr>\n",
       "      <th id=\"T_b4328_level0_row4\" class=\"row_heading level0 row4\" >4</th>\n",
       "      <td id=\"T_b4328_row4_col0\" class=\"data row4 col0\" >Rice USD/cwt</td>\n",
       "      <td id=\"T_b4328_row4_col1\" class=\"data row4 col1\" >17.250000</td>\n",
       "      <td id=\"T_b4328_row4_col2\" class=\"data row4 col2\" >-0.720000</td>\n",
       "      <td id=\"T_b4328_row4_col3\" class=\"data row4 col3\" >-4.140000</td>\n",
       "      <td id=\"T_b4328_row4_col4\" class=\"data row4 col4\" >3.230000</td>\n",
       "      <td id=\"T_b4328_row4_col5\" class=\"data row4 col5\" >16.830000</td>\n",
       "    </tr>\n",
       "  </tbody>\n",
       "</table>\n"
      ],
      "text/plain": [
       "<pandas.io.formats.style.Styler at 0x7f0787cdfa60>"
      ]
     },
     "execution_count": 11,
     "metadata": {},
     "output_type": "execute_result"
    }
   ],
   "source": [
    "str_cols = ['Weekly', 'Monthly', 'YoY', '%']\n",
    "df_res[str_cols] = df_res[str_cols].replace(',', '', regex=True).replace('%', '', regex=True).astype(float)\n",
    "\n",
    "cols = ['Resource', 'Price', '%', 'Weekly', 'Monthly', 'YoY']\n",
    "\n",
    "ress = ['Crude Oil USD/Bbl', 'Gasoline USD/Gal', 'Gold USD/t.oz', 'Wheat USd/Bu', 'Rice USD/cwt']\n",
    "df_res[df_res['Resource'].isin(ress)].reset_index()[cols].style.background_gradient(cmap='Greens', subset=str_cols)\\\n",
    "    .background_gradient(cmap='Blues', subset='Price')"
   ]
  },
  {
   "cell_type": "markdown",
   "id": "1b71cb76-a824-47d9-8439-53a28d6a3554",
   "metadata": {
    "extensions": {
     "jupyter_dashboards": {
      "activeView": "grid_default",
      "views": {
       "grid_default": {
        "col": 6,
        "height": 2,
        "hidden": false,
        "locked": true,
        "row": 19,
        "width": 6
       }
      }
     }
    },
    "tags": []
   },
   "source": [
    "## 5. Inflation"
   ]
  },
  {
   "cell_type": "code",
   "execution_count": 12,
   "id": "d23580e6-9298-4a4a-ab49-cc0e710fdf6e",
   "metadata": {
    "extensions": {
     "jupyter_dashboards": {
      "activeView": "grid_default",
      "views": {
       "grid_default": {
        "col": null,
        "height": 2,
        "hidden": true,
        "locked": true,
        "row": null,
        "width": 2
       }
      }
     }
    },
    "tags": []
   },
   "outputs": [],
   "source": [
    "url_infla = 'https://tradingeconomics.com/country-list/inflation-rate'\n",
    "\n",
    "header = {\n",
    "  \"User-Agent\": \"Mozilla/5.0 (X11; Linux x86_64) AppleWebKit/537.36 (KHTML, like Gecko) Chrome/50.0.2661.75 Safari/537.36\",\n",
    "  \"X-Requested-With\": \"XMLHttpRequest\"\n",
    "}\n",
    "\n",
    "r = requests.get(url_infla, headers=header)\n",
    "\n",
    "df_inf = pd.read_html(r.text)[0]\n"
   ]
  },
  {
   "cell_type": "code",
   "execution_count": 13,
   "id": "55afbcd4-7bb4-4221-93af-235c8fbd9198",
   "metadata": {
    "extensions": {
     "jupyter_dashboards": {
      "activeView": "grid_default",
      "views": {
       "grid_default": {
        "col": 6,
        "height": 6,
        "hidden": false,
        "locked": true,
        "row": 21,
        "width": 6
       }
      }
     }
    },
    "tags": []
   },
   "outputs": [
    {
     "data": {
      "text/html": [
       "<style type=\"text/css\">\n",
       "#T_14f2f_row0_col1, #T_14f2f_row0_col2 {\n",
       "  background-color: #f7fbff;\n",
       "  color: #000000;\n",
       "}\n",
       "#T_14f2f_row1_col1 {\n",
       "  background-color: #8fc2de;\n",
       "  color: #000000;\n",
       "}\n",
       "#T_14f2f_row1_col2 {\n",
       "  background-color: #99c7e0;\n",
       "  color: #000000;\n",
       "}\n",
       "#T_14f2f_row2_col1 {\n",
       "  background-color: #61a7d2;\n",
       "  color: #f1f1f1;\n",
       "}\n",
       "#T_14f2f_row2_col2 {\n",
       "  background-color: #60a7d2;\n",
       "  color: #f1f1f1;\n",
       "}\n",
       "#T_14f2f_row3_col1 {\n",
       "  background-color: #3585bf;\n",
       "  color: #f1f1f1;\n",
       "}\n",
       "#T_14f2f_row3_col2 {\n",
       "  background-color: #2070b4;\n",
       "  color: #f1f1f1;\n",
       "}\n",
       "#T_14f2f_row4_col1 {\n",
       "  background-color: #2575b7;\n",
       "  color: #f1f1f1;\n",
       "}\n",
       "#T_14f2f_row4_col2 {\n",
       "  background-color: #1e6db2;\n",
       "  color: #f1f1f1;\n",
       "}\n",
       "#T_14f2f_row5_col1, #T_14f2f_row5_col2 {\n",
       "  background-color: #08306b;\n",
       "  color: #f1f1f1;\n",
       "}\n",
       "</style>\n",
       "<table id=\"T_14f2f\">\n",
       "  <thead>\n",
       "    <tr>\n",
       "      <th class=\"blank level0\" >&nbsp;</th>\n",
       "      <th id=\"T_14f2f_level0_col0\" class=\"col_heading level0 col0\" >Country</th>\n",
       "      <th id=\"T_14f2f_level0_col1\" class=\"col_heading level0 col1\" >Last</th>\n",
       "      <th id=\"T_14f2f_level0_col2\" class=\"col_heading level0 col2\" >Previous</th>\n",
       "      <th id=\"T_14f2f_level0_col3\" class=\"col_heading level0 col3\" >Reference</th>\n",
       "      <th id=\"T_14f2f_level0_col4\" class=\"col_heading level0 col4\" >Unit</th>\n",
       "    </tr>\n",
       "  </thead>\n",
       "  <tbody>\n",
       "    <tr>\n",
       "      <th id=\"T_14f2f_level0_row0\" class=\"row_heading level0 row0\" >0</th>\n",
       "      <td id=\"T_14f2f_row0_col0\" class=\"data row0 col0\" >China</td>\n",
       "      <td id=\"T_14f2f_row0_col1\" class=\"data row0 col1\" >1.600000</td>\n",
       "      <td id=\"T_14f2f_row0_col2\" class=\"data row0 col2\" >2.100000</td>\n",
       "      <td id=\"T_14f2f_row0_col3\" class=\"data row0 col3\" >Nov/22</td>\n",
       "      <td id=\"T_14f2f_row0_col4\" class=\"data row0 col4\" >%</td>\n",
       "    </tr>\n",
       "    <tr>\n",
       "      <th id=\"T_14f2f_level0_row1\" class=\"row_heading level0 row1\" >9</th>\n",
       "      <td id=\"T_14f2f_row1_col0\" class=\"data row1 col0\" >France</td>\n",
       "      <td id=\"T_14f2f_row1_col1\" class=\"data row1 col1\" >5.900000</td>\n",
       "      <td id=\"T_14f2f_row1_col2\" class=\"data row1 col2\" >6.200000</td>\n",
       "      <td id=\"T_14f2f_row1_col3\" class=\"data row1 col3\" >Dec/22</td>\n",
       "      <td id=\"T_14f2f_row1_col4\" class=\"data row1 col4\" >%</td>\n",
       "    </tr>\n",
       "    <tr>\n",
       "      <th id=\"T_14f2f_level0_row2\" class=\"row_heading level0 row2\" >12</th>\n",
       "      <td id=\"T_14f2f_row2_col0\" class=\"data row2 col0\" >United States</td>\n",
       "      <td id=\"T_14f2f_row2_col1\" class=\"data row2 col1\" >7.100000</td>\n",
       "      <td id=\"T_14f2f_row2_col2\" class=\"data row2 col2\" >7.700000</td>\n",
       "      <td id=\"T_14f2f_row2_col3\" class=\"data row2 col3\" >Nov/22</td>\n",
       "      <td id=\"T_14f2f_row2_col4\" class=\"data row2 col4\" >%</td>\n",
       "    </tr>\n",
       "    <tr>\n",
       "      <th id=\"T_14f2f_level0_row3\" class=\"row_heading level0 row3\" >16</th>\n",
       "      <td id=\"T_14f2f_row3_col0\" class=\"data row3 col0\" >Germany</td>\n",
       "      <td id=\"T_14f2f_row3_col1\" class=\"data row3 col1\" >8.600000</td>\n",
       "      <td id=\"T_14f2f_row3_col2\" class=\"data row3 col2\" >10.000000</td>\n",
       "      <td id=\"T_14f2f_row3_col3\" class=\"data row3 col3\" >Dec/22</td>\n",
       "      <td id=\"T_14f2f_row3_col4\" class=\"data row3 col4\" >%</td>\n",
       "    </tr>\n",
       "    <tr>\n",
       "      <th id=\"T_14f2f_level0_row4\" class=\"row_heading level0 row4\" >17</th>\n",
       "      <td id=\"T_14f2f_row4_col0\" class=\"data row4 col0\" >Euro Area</td>\n",
       "      <td id=\"T_14f2f_row4_col1\" class=\"data row4 col1\" >9.200000</td>\n",
       "      <td id=\"T_14f2f_row4_col2\" class=\"data row4 col2\" >10.100000</td>\n",
       "      <td id=\"T_14f2f_row4_col3\" class=\"data row4 col3\" >Dec/22</td>\n",
       "      <td id=\"T_14f2f_row4_col4\" class=\"data row4 col4\" >%</td>\n",
       "    </tr>\n",
       "    <tr>\n",
       "      <th id=\"T_14f2f_level0_row5\" class=\"row_heading level0 row5\" >21</th>\n",
       "      <td id=\"T_14f2f_row5_col0\" class=\"data row5 col0\" >Russia</td>\n",
       "      <td id=\"T_14f2f_row5_col1\" class=\"data row5 col1\" >12.000000</td>\n",
       "      <td id=\"T_14f2f_row5_col2\" class=\"data row5 col2\" >12.600000</td>\n",
       "      <td id=\"T_14f2f_row5_col3\" class=\"data row5 col3\" >Nov/22</td>\n",
       "      <td id=\"T_14f2f_row5_col4\" class=\"data row5 col4\" >%</td>\n",
       "    </tr>\n",
       "  </tbody>\n",
       "</table>\n"
      ],
      "text/plain": [
       "<pandas.io.formats.style.Styler at 0x7f078b77c1f0>"
      ]
     },
     "execution_count": 13,
     "metadata": {},
     "output_type": "execute_result"
    }
   ],
   "source": [
    "countries = ['China', 'United States', 'France', 'Germany', 'Euro Area', 'Russia']\n",
    "df_inf[df_inf['Country'].isin(countries)].style.background_gradient(cmap='Blues', subset=['Last', 'Previous'])"
   ]
  },
  {
   "cell_type": "code",
   "execution_count": null,
   "id": "f2b16a0f-4526-4cd7-98a8-d9eb81cb58e0",
   "metadata": {
    "extensions": {
     "jupyter_dashboards": {
      "activeView": "grid_default",
      "views": {
       "grid_default": {
        "col": null,
        "height": 2,
        "hidden": true,
        "locked": true,
        "row": null,
        "width": 2
       }
      }
     }
    }
   },
   "outputs": [],
   "source": []
  },
  {
   "cell_type": "code",
   "execution_count": null,
   "id": "89a46414-3871-46b5-8104-a719cef87eaf",
   "metadata": {},
   "outputs": [],
   "source": []
  }
 ],
 "metadata": {
  "extensions": {
   "jupyter_dashboards": {
    "activeView": "grid_default",
    "version": 1,
    "views": {
     "grid_default": {
      "cellMargin": 2,
      "defaultCellHeight": 40,
      "maxColumns": 12,
      "name": "grid",
      "type": "grid"
     }
    }
   }
  },
  "kernelspec": {
   "display_name": "Python 3",
   "language": "python",
   "name": "python3"
  },
  "language_info": {
   "codemirror_mode": {
    "name": "ipython",
    "version": 3
   },
   "file_extension": ".py",
   "mimetype": "text/x-python",
   "name": "python",
   "nbconvert_exporter": "python",
   "pygments_lexer": "ipython3",
   "version": "3.8.10"
  }
 },
 "nbformat": 4,
 "nbformat_minor": 5
}
