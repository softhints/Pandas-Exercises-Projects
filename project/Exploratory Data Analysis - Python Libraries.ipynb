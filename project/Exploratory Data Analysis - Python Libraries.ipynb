{
 "cells": [
  {
   "cell_type": "markdown",
   "id": "91d0e98a-afff-4d2d-9bde-fe101355386a",
   "metadata": {},
   "source": [
    "<a href=\"https://colab.research.google.com/github/softhints/Pandas-Exercises-Projects/blob/main/project/Exploratory%20Data%20Analysis.ipynb\" target=\"_parent\"><img src=\"https://colab.research.google.com/assets/colab-badge.svg\" alt=\"Open In Colab\"/></a>"
   ]
  },
  {
   "cell_type": "markdown",
   "id": "ecca6edc-53e3-4762-9dad-40856536692d",
   "metadata": {},
   "source": [
    "# Reading dataset"
   ]
  },
  {
   "cell_type": "code",
   "execution_count": null,
   "id": "c2e55f9d-41e1-4cde-96c2-be55558cc1e5",
   "metadata": {},
   "outputs": [],
   "source": [
    "import pandas as pd\n",
    "file = 'https://raw.githubusercontent.com/softhints/Pandas-Exercises-Projects/main/data/food_recipes.csv'\n",
    "df = pd.read_csv(file, low_memory=False)\n",
    "\n",
    "file_m = 'https://raw.githubusercontent.com/softhints/Pandas-Exercises-Projects/main/data/movies_metadata.csv'\n",
    "df_m = pd.read_csv(file_m, low_memory=False)"
   ]
  },
  {
   "cell_type": "markdown",
   "id": "59e8ab4c-9b46-4759-ac45-5886da3894fe",
   "metadata": {},
   "source": [
    "# 1. [sweetviz](https://pypi.org/project/sweetviz/)\n",
    "\n",
    "> In-depth EDA (target analysis, comparison, feature analysis, correlation) in two lines of code!\n",
    "\n",
    "* `pip install sweetviz` \n",
    "\n",
    "[github - sweetviz](https://github.com/fbdesignpro/sweetviz)\n",
    "\n",
    "### Features\n",
    "* Target analysis\n",
    "* Visualize and compare\n",
    "* Mixed-type associations\n",
    "* Type inference\n",
    "* Summary information"
   ]
  },
  {
   "cell_type": "code",
   "execution_count": null,
   "id": "32929a33-1e2b-4f26-8b42-654cbebc87eb",
   "metadata": {},
   "outputs": [],
   "source": [
    "import sweetviz as sv\n",
    "\n",
    "my_report = sv.analyze(df)\n",
    "my_report.show_html()"
   ]
  },
  {
   "cell_type": "markdown",
   "id": "12b0fd6e-a1b3-434f-888e-fb04829e8bd7",
   "metadata": {},
   "source": [
    "## 1.1 haisweetviz\n",
    "\n",
    "* `pip install haisweetviz` "
   ]
  },
  {
   "cell_type": "code",
   "execution_count": null,
   "id": "f05167ec-5c5b-479d-94e0-852ad5810a38",
   "metadata": {},
   "outputs": [],
   "source": [
    "import sweetviz as sv\n",
    "\n",
    "my_report = sv.analyze(df)\n",
    "my_report.show_html()"
   ]
  },
  {
   "cell_type": "markdown",
   "id": "512b57c9-971e-4ce6-94ea-b43256d7f546",
   "metadata": {},
   "source": [
    "# 2. [autoviz](https://pypi.org/project/autoviz/)\n",
    "\n",
    "> Automatically Visualize any dataset, any size with a single line of code. Now you can save these interactive charts as HTML files automatically with the \"html\" setting.\n",
    "\n",
    "* `pip install autoviz`\n",
    "\n",
    "\n",
    "[github - autoviz](https://github.com/AutoViML/AutoViz)\n",
    "\n",
    "### Features\n",
    "* Visualize and compare\n",
    "* Summary information\n",
    "* Outliers and missing values\n",
    "* Data cleaning improvement suggestions"
   ]
  },
  {
   "cell_type": "code",
   "execution_count": null,
   "id": "7c634528-f893-4f92-9efa-bd8252808237",
   "metadata": {},
   "outputs": [],
   "source": [
    "from autoviz.AutoViz_Class import AutoViz_Class\n",
    "\n",
    "AV = AutoViz_Class()\n",
    "\n",
    "dft = AV.AutoViz( file, sep=\",\")"
   ]
  },
  {
   "cell_type": "markdown",
   "id": "e6c669ce-b5ad-4f97-a506-265ff50b42fa",
   "metadata": {},
   "source": [
    "## 3. [pandas-profiling](https://pypi.org/project/pandas-profiling/)\n",
    "\n",
    "> pandas-profiling generates profile reports from a pandas DataFrame. pandas-profiling extends pandas DataFrame with df.profile_report(), which automatically generates a standardized univariate and multivariate report for data understanding.\n",
    "\n",
    "* `pip install pandas-profiling` \n",
    "\n",
    "[github - profiling](https://github.com/ydataai/pandas-profiling)\n",
    "\n",
    "### Features\n",
    "*   **Type inference**: detect the types of columns in a DataFrame\n",
    "*   **Essentials**: type, unique values, indication of missing values\n",
    "*   **Quantile statistics**: minimum value, Q1, median, Q3, maximum, range, interquartile range\n",
    "*   **Descriptive statistics**: mean, mode, standard deviation, sum, median absolute deviation, coefficient of variation, kurtosis, skewness\n",
    "*   **Most frequent and extreme values**\n",
    "*   **Histograms**: categorical and numerical\n",
    "*   **Correlations**: high correlation warnings, based on different correlation metrics (Spearman, Pearson, Kendall, Cramér’s V, Phik)\n",
    "*   **Missing values**: through counts, matrix, heatmap and dendrograms\n",
    "*   **Duplicate rows**: list of the most common duplicated rows\n",
    "*   **Text analysis**: most common categories (uppercase, lowercase, separator), scripts (Latin, Cyrillic) and blocks (ASCII, Cyrilic)\n",
    "*   **File and Image analysis**:\n"
   ]
  },
  {
   "cell_type": "code",
   "execution_count": null,
   "id": "daba6fef-5f32-42bd-b6d6-2bfdad5e5dd6",
   "metadata": {},
   "outputs": [],
   "source": [
    "from pandas_profiling import ProfileReport\n",
    "\n",
    "profile = ProfileReport(df, explorative=True)\n",
    "profile"
   ]
  },
  {
   "cell_type": "markdown",
   "id": "fc3f384e-a793-483e-85e2-fdebc097957c",
   "metadata": {},
   "source": [
    "# 4. [dataprep](https://pypi.org/project/dataprep/)\n",
    "\n",
    "> DataPrep lets you prepare your data using a single library with a few lines of code.\n",
    "\n",
    "* `pip install -U dataprep` \n",
    "\n",
    "[github - dataprep](https://github.com/sfu-db/dataprep)\n",
    "\n",
    "### Features\n",
    "* Collect data from common data sources (through dataprep.connector)\n",
    "* Do your exploratory data analysis (through dataprep.eda)\n",
    "* Clean and standardize data (through dataprep.clean)"
   ]
  },
  {
   "cell_type": "code",
   "execution_count": null,
   "id": "fba1efde-af6c-4c92-887c-ede91cd04625",
   "metadata": {},
   "outputs": [],
   "source": [
    "from dataprep.datasets import load_dataset\n",
    "from dataprep.eda import create_report\n",
    "# df = load_dataset(\"titanic\")\n",
    "create_report(df).show_browser()"
   ]
  },
  {
   "cell_type": "markdown",
   "id": "bdbe9793-013d-42c9-a990-39df5e5f1674",
   "metadata": {},
   "source": [
    "# 5. [dabl](https://pypi.org/project/dabl/)\n",
    "\n",
    "> Data Analysis Baseline Library.\n",
    "\n",
    "* `pip install dabl` \n",
    "\n",
    "### Features\n",
    "* Analyse single columns\n",
    "* Grouped univariate histograms\n",
    "* Scatter plot for categories\n",
    "* Determine a good grid shape for subplots\n",
    "* Create a mosaic plot from a dataframe\n",
    "* Plots for categorical features in classification\n",
    "* Visualize coefficients of a linear model"
   ]
  },
  {
   "cell_type": "code",
   "execution_count": null,
   "id": "12084fa9-fabb-420f-8e26-5c3f7fc30c2a",
   "metadata": {},
   "outputs": [],
   "source": [
    "import dabl\n",
    "\n",
    "dabl.plot(df_m, target_col=\"vote_count\")"
   ]
  },
  {
   "cell_type": "markdown",
   "id": "42bda85d-d65f-4665-b02a-3c20f421738f",
   "metadata": {},
   "source": [
    "# 6. [dtale](https://pypi.org/project/dtale/)\n",
    "\n",
    "> Data Analysis Baseline Library.\n",
    "\n",
    "* `pip install dtale` \n",
    "\n",
    "[dtale - github](https://github.com/man-group/dtale)\n",
    "\n",
    "### Features\n",
    "\n",
    "* Summarize Data\n",
    "* Duplicates detection\n",
    "* Missing Analysis\n",
    "* Outlier Detection\n",
    "* Custom Filter\n",
    "* Network Viewer\n",
    "* Correlations\n",
    "* Predictive Power Score\n",
    "* Heat Map\n",
    "* Load Data & Sample Datasets"
   ]
  },
  {
   "cell_type": "code",
   "execution_count": null,
   "id": "40de9624-e8b6-4b7e-b051-c700ab18ac28",
   "metadata": {},
   "outputs": [],
   "source": [
    "import dtale\n",
    "import pandas as pd\n",
    "\n",
    "dtale.show(df_m)"
   ]
  },
  {
   "cell_type": "markdown",
   "id": "cadb49c9-2381-45da-89fa-69d981fad0ec",
   "metadata": {},
   "source": [
    "# 7. [klib](https://pypi.org/project/klib/)\n",
    "\n",
    "> Customized data preprocessing functions for frequent tasks..\n",
    "\n",
    "* `pip install klib` \n",
    "\n",
    "[klib - github](https://github.com/akanz1/klib)\n",
    "\n",
    "### Features\n",
    "**klib.describe** - functions for visualizing datasets\n",
    "- `klib.cat_plot(df)` - returns a visualization of the number and frequency of categorical features\n",
    "- `klib.corr_mat(df)` - returns a color-encoded correlation matrix\n",
    "- `klib.corr_plot(df)` - returns a color-encoded heatmap, ideal for correlations\n",
    "- `klib.dist_plot(df)` - returns a distribution plot for every numeric feature\n",
    "- `klib.missingval_plot(df)` - returns a figure containing information about missing values\n",
    "\n",
    "**klib.clean** - functions for cleaning datasets\n",
    "- `klib.data_cleaning(df)` - performs datacleaning (drop duplicates & empty rows/cols, adjust dtypes,...)\n",
    "- `klib.clean_column_names(df)` - cleans and standardizes column names, also called inside data_cleaning()\n",
    "- `klib.convert_datatypes(df)` - converts existing to more efficient dtypes, also called inside data_cleaning()\n",
    "- `klib.drop_missing(df)` - drops missing values, also called in data_cleaning()\n",
    "- `klib.mv_col_handling(df)` - drops features with high ratio of missing vals based on informational content\n",
    "- `klib.pool_duplicate_subsets(df)` - pools subset of cols based on duplicates with min. loss of information"
   ]
  },
  {
   "cell_type": "code",
   "execution_count": null,
   "id": "55333b4c-7555-4d14-af4b-3feba4e122aa",
   "metadata": {},
   "outputs": [],
   "source": [
    "import klib\n",
    "\n",
    "klib.missingval_plot(df_m)"
   ]
  },
  {
   "cell_type": "code",
   "execution_count": null,
   "id": "538271ec-c3b9-4d96-ae8f-d8a3638c0c02",
   "metadata": {},
   "outputs": [],
   "source": [
    "df_cleaned = klib.data_cleaning(df_m)"
   ]
  },
  {
   "cell_type": "code",
   "execution_count": null,
   "id": "331c8440-11a5-4446-b749-f25a0191c8dc",
   "metadata": {},
   "outputs": [],
   "source": [
    "klib.corr_plot(df_m)"
   ]
  },
  {
   "cell_type": "code",
   "execution_count": null,
   "id": "6e24f465-08f7-44a8-9b5a-e0c0c28867f4",
   "metadata": {},
   "outputs": [],
   "source": [
    "klib.corr_plot(df_cleaned, target='revenue')"
   ]
  },
  {
   "cell_type": "code",
   "execution_count": null,
   "id": "6a060125-5ec7-4d2e-87e4-ea6c91c907e2",
   "metadata": {},
   "outputs": [],
   "source": [
    "klib.dist_plot(df_m)"
   ]
  },
  {
   "cell_type": "code",
   "execution_count": null,
   "id": "6dcd133e-eb79-4104-ad00-53703c9dd83e",
   "metadata": {},
   "outputs": [],
   "source": [
    "klib.corr_mat(df_cleaned)"
   ]
  },
  {
   "cell_type": "code",
   "execution_count": null,
   "id": "3073882f-b6ed-44c8-8d83-ba4649da983d",
   "metadata": {},
   "outputs": [],
   "source": []
  },
  {
   "cell_type": "code",
   "execution_count": null,
   "id": "b9d07c14-b583-4124-9c3e-b93ee95fed3b",
   "metadata": {},
   "outputs": [],
   "source": []
  }
 ],
 "metadata": {
  "kernelspec": {
   "display_name": "Python 3",
   "language": "python",
   "name": "python3"
  },
  "language_info": {
   "codemirror_mode": {
    "name": "ipython",
    "version": 3
   },
   "file_extension": ".py",
   "mimetype": "text/x-python",
   "name": "python",
   "nbconvert_exporter": "python",
   "pygments_lexer": "ipython3",
   "version": "3.8.10"
  }
 },
 "nbformat": 4,
 "nbformat_minor": 5
}
