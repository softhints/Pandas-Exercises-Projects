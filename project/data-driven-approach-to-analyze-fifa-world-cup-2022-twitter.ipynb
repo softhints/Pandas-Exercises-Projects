{
 "cells": [
  {
   "cell_type": "markdown",
   "id": "6f0519de-d1ec-4cb0-934a-ad51f70c87a2",
   "metadata": {},
   "source": [
    "# A Data-Driven Approach to Find a Winner - FIFA World Cup 2022\n",
    "\n",
    "* FIFA World Cup 2018: A Data-Driven Approach to Ideal Team Line-Ups\n",
    "\n",
    "https://towardsdatascience.com/fifa-world-cup-2018-a-data-driven-approach-to-ideal-team-line-ups-93505cfe36f8 \n",
    "\n",
    "* Finding the favorite team in 2018 FIFA World Cup through scraping TweetsFinding the favorite team in 2018 FIFA World Cup through scraping Tweets\n",
    "\n",
    "https://towardsdatascience.com/estimate-the-favorite-scraping-tweets-using-python-863303384e29https://towardsdatascience.com/estimate-the-favorite-scraping-tweets-using-python-863303384e29\n",
    "\n",
    "```python\n",
    "pip install tweepy\n",
    "pip install python-dotenv\n",
    "pip install pycountry # England is not available due to issue https://github.com/flyingcircusio/pycountry/issues/126\n",
    "pip install emoji-country-flag\n",
    "```"
   ]
  },
  {
   "cell_type": "markdown",
   "id": "7e71bb03-0895-4e92-bd31-c456bd086e5d",
   "metadata": {},
   "source": [
    "## 1. Collect meta data\n",
    "\n",
    "For this analysis we will need to get finalists names and flags. For the names we can use Pandas to extract wiki data. \n",
    "Flags will be collected using Python libraries:\n",
    "* pycountry\n",
    "* emoji-country-flag"
   ]
  },
  {
   "cell_type": "markdown",
   "id": "c8dfd34a-8452-49f8-8815-a44f31d81466",
   "metadata": {},
   "source": [
    "### 1.1 Collect finalists\n",
    "\n",
    "https://en.wikipedia.org/wiki/2022_FIFA_World_Cup_qualification\n",
    "\n",
    "More info about scraping wiki info:\n",
    "\n",
    "[Easily extract tables from websites with pandas and python](https://www.youtube.com/watch?v=OXA_ZD1gR6A)"
   ]
  },
  {
   "cell_type": "code",
   "execution_count": 1,
   "id": "eebcc734-49ea-4f76-8896-9d672813aae9",
   "metadata": {},
   "outputs": [
    {
     "data": {
      "text/plain": [
       "30"
      ]
     },
     "execution_count": 1,
     "metadata": {},
     "output_type": "execute_result"
    }
   ],
   "source": [
    "from pandas.io.html import read_html\n",
    "page = 'https://en.wikipedia.org/wiki/2022_FIFA_World_Cup_qualification'\n",
    "\n",
    "wikitables = read_html(page)\n",
    "len(wikitables)"
   ]
  },
  {
   "cell_type": "code",
   "execution_count": 2,
   "id": "389317ce-e5db-4da5-a05b-1553149cbf1d",
   "metadata": {},
   "outputs": [
    {
     "data": {
      "text/html": [
       "<div>\n",
       "<style scoped>\n",
       "    .dataframe tbody tr th:only-of-type {\n",
       "        vertical-align: middle;\n",
       "    }\n",
       "\n",
       "    .dataframe tbody tr th {\n",
       "        vertical-align: top;\n",
       "    }\n",
       "\n",
       "    .dataframe thead th {\n",
       "        text-align: right;\n",
       "    }\n",
       "</style>\n",
       "<table border=\"1\" class=\"dataframe\">\n",
       "  <thead>\n",
       "    <tr style=\"text-align: right;\">\n",
       "      <th></th>\n",
       "      <th>Team</th>\n",
       "      <th>Method ofqualification</th>\n",
       "      <th>Date ofqualification</th>\n",
       "      <th>Totaltimesqualified</th>\n",
       "      <th>Lasttimequalified</th>\n",
       "      <th>Currentconsecutiveappearances</th>\n",
       "      <th>Previous bestperformance</th>\n",
       "    </tr>\n",
       "  </thead>\n",
       "  <tbody>\n",
       "    <tr>\n",
       "      <th>0</th>\n",
       "      <td>Qatar</td>\n",
       "      <td>Hosts</td>\n",
       "      <td>2 December 2010</td>\n",
       "      <td>1</td>\n",
       "      <td>–</td>\n",
       "      <td>1</td>\n",
       "      <td>–</td>\n",
       "    </tr>\n",
       "    <tr>\n",
       "      <th>1</th>\n",
       "      <td>Germany</td>\n",
       "      <td>UEFA Group J winners</td>\n",
       "      <td>11 October 2021</td>\n",
       "      <td>20[a]</td>\n",
       "      <td>2018</td>\n",
       "      <td>18</td>\n",
       "      <td>Winners (1954, 1974, 1990, 2014)</td>\n",
       "    </tr>\n",
       "    <tr>\n",
       "      <th>2</th>\n",
       "      <td>Denmark</td>\n",
       "      <td>UEFA Group F winners</td>\n",
       "      <td>12 October 2021</td>\n",
       "      <td>6</td>\n",
       "      <td>2018</td>\n",
       "      <td>2</td>\n",
       "      <td>Quarter-finals (1998)</td>\n",
       "    </tr>\n",
       "    <tr>\n",
       "      <th>3</th>\n",
       "      <td>Brazil</td>\n",
       "      <td>CONMEBOL winners</td>\n",
       "      <td>11 November 2021</td>\n",
       "      <td>22</td>\n",
       "      <td>2018</td>\n",
       "      <td>22</td>\n",
       "      <td>Winners (1958, 1962, 1970, 1994, 2002)</td>\n",
       "    </tr>\n",
       "    <tr>\n",
       "      <th>4</th>\n",
       "      <td>France</td>\n",
       "      <td>UEFA Group D winners</td>\n",
       "      <td>13 November 2021</td>\n",
       "      <td>16</td>\n",
       "      <td>2018</td>\n",
       "      <td>7</td>\n",
       "      <td>Winners (1998, 2018)</td>\n",
       "    </tr>\n",
       "  </tbody>\n",
       "</table>\n",
       "</div>"
      ],
      "text/plain": [
       "      Team Method ofqualification Date ofqualification Totaltimesqualified  \\\n",
       "0    Qatar                  Hosts      2 December 2010                   1   \n",
       "1  Germany   UEFA Group J winners      11 October 2021               20[a]   \n",
       "2  Denmark   UEFA Group F winners      12 October 2021                   6   \n",
       "3   Brazil       CONMEBOL winners     11 November 2021                  22   \n",
       "4   France   UEFA Group D winners     13 November 2021                  16   \n",
       "\n",
       "  Lasttimequalified  Currentconsecutiveappearances  \\\n",
       "0                 –                              1   \n",
       "1              2018                             18   \n",
       "2              2018                              2   \n",
       "3              2018                             22   \n",
       "4              2018                              7   \n",
       "\n",
       "                 Previous bestperformance  \n",
       "0                                       –  \n",
       "1        Winners (1954, 1974, 1990, 2014)  \n",
       "2                   Quarter-finals (1998)  \n",
       "3  Winners (1958, 1962, 1970, 1994, 2002)  \n",
       "4                    Winners (1998, 2018)  "
      ]
     },
     "execution_count": 2,
     "metadata": {},
     "output_type": "execute_result"
    }
   ],
   "source": [
    "df_fin = wikitables[1]\n",
    "df_fin.head()"
   ]
  },
  {
   "cell_type": "code",
   "execution_count": 48,
   "id": "b9656008-9556-40cc-924d-b17b46e61405",
   "metadata": {},
   "outputs": [
    {
     "data": {
      "text/html": [
       "<div>\n",
       "<style scoped>\n",
       "    .dataframe tbody tr th:only-of-type {\n",
       "        vertical-align: middle;\n",
       "    }\n",
       "\n",
       "    .dataframe tbody tr th {\n",
       "        vertical-align: top;\n",
       "    }\n",
       "\n",
       "    .dataframe thead th {\n",
       "        text-align: right;\n",
       "    }\n",
       "</style>\n",
       "<table border=\"1\" class=\"dataframe\">\n",
       "  <thead>\n",
       "    <tr style=\"text-align: right;\">\n",
       "      <th></th>\n",
       "      <th>created_at</th>\n",
       "      <th>id</th>\n",
       "      <th>text</th>\n",
       "    </tr>\n",
       "  </thead>\n",
       "  <tbody>\n",
       "    <tr>\n",
       "      <th>0</th>\n",
       "      <td>2022-11-20 11:14:41+00:00</td>\n",
       "      <td>1594288115992043520</td>\n",
       "      <td>RT @sushimmii: @rahmdess27 @BTS_twt DREAMERS B...</td>\n",
       "    </tr>\n",
       "    <tr>\n",
       "      <th>1</th>\n",
       "      <td>2022-11-20 11:14:41+00:00</td>\n",
       "      <td>1594288115895914496</td>\n",
       "      <td>RT @FIFAWorldCup: \"See you at the Opening!\" - ...</td>\n",
       "    </tr>\n",
       "    <tr>\n",
       "      <th>2</th>\n",
       "      <td>2022-11-20 11:14:41+00:00</td>\n",
       "      <td>1594288115635539969</td>\n",
       "      <td>@kingnyamjoon DREAMERS BY JUNGKOOK\\nDREAMERS S...</td>\n",
       "    </tr>\n",
       "    <tr>\n",
       "      <th>3</th>\n",
       "      <td>2022-11-20 11:14:41+00:00</td>\n",
       "      <td>1594288115581358081</td>\n",
       "      <td>RT @btsarmy39521947: Jungkook 💜\\nI’m so addict...</td>\n",
       "    </tr>\n",
       "    <tr>\n",
       "      <th>4</th>\n",
       "      <td>2022-11-20 11:14:41+00:00</td>\n",
       "      <td>1594288115283214336</td>\n",
       "      <td>RT @Bangtan_twt_com: @btssomma DREAMERS BY JUN...</td>\n",
       "    </tr>\n",
       "  </tbody>\n",
       "</table>\n",
       "</div>"
      ],
      "text/plain": [
       "                 created_at                   id  \\\n",
       "0 2022-11-20 11:14:41+00:00  1594288115992043520   \n",
       "1 2022-11-20 11:14:41+00:00  1594288115895914496   \n",
       "2 2022-11-20 11:14:41+00:00  1594288115635539969   \n",
       "3 2022-11-20 11:14:41+00:00  1594288115581358081   \n",
       "4 2022-11-20 11:14:41+00:00  1594288115283214336   \n",
       "\n",
       "                                                text  \n",
       "0  RT @sushimmii: @rahmdess27 @BTS_twt DREAMERS B...  \n",
       "1  RT @FIFAWorldCup: \"See you at the Opening!\" - ...  \n",
       "2  @kingnyamjoon DREAMERS BY JUNGKOOK\\nDREAMERS S...  \n",
       "3  RT @btsarmy39521947: Jungkook 💜\\nI’m so addict...  \n",
       "4  RT @Bangtan_twt_com: @btssomma DREAMERS BY JUN...  "
      ]
     },
     "execution_count": 48,
     "metadata": {},
     "output_type": "execute_result"
    }
   ],
   "source": [
    "df2[['created_at', 'id', 'text']].head(5)"
   ]
  },
  {
   "cell_type": "code",
   "execution_count": 49,
   "id": "f8635827-b747-4831-9d6a-d4bb9dd87acc",
   "metadata": {},
   "outputs": [],
   "source": [
    "import pyperclip\n",
    "\n",
    "pyperclip.copy((df2[['created_at', 'id', 'text']].head(5).to_html(classes='table table-striped text-center', justify='center', index=True)))"
   ]
  },
  {
   "cell_type": "code",
   "execution_count": 3,
   "id": "3f03870b-c8c7-4d9e-be02-8ada880ca959",
   "metadata": {},
   "outputs": [
    {
     "name": "stdout",
     "output_type": "stream",
     "text": [
      "['Qatar' 'Germany' 'Denmark' 'Brazil' 'France' 'Belgium' 'Serbia' 'Spain'\n",
      " 'Croatia' 'Switzerland' 'England' 'Netherlands' 'Argentina' 'Iran'\n",
      " 'South Korea' 'Saudi Arabia' 'Japan' 'Uruguay' 'Ecuador' 'Canada' 'Ghana'\n",
      " 'Senegal' 'Poland' 'Portugal' 'Tunisia' 'Morocco' 'Cameroon'\n",
      " 'United States' 'Mexico' 'Wales' 'Australia' 'Costa Rica']\n"
     ]
    },
    {
     "data": {
      "text/plain": [
       "32"
      ]
     },
     "execution_count": 3,
     "metadata": {},
     "output_type": "execute_result"
    }
   ],
   "source": [
    "finalists = df_fin['Team'].values\n",
    "print(finalists)\n",
    "len(finalists)"
   ]
  },
  {
   "cell_type": "markdown",
   "id": "9ba60eba-77c8-41f6-93b0-62eb1a330cc8",
   "metadata": {},
   "source": [
    "### 1.2 Get Country Flags"
   ]
  },
  {
   "cell_type": "code",
   "execution_count": 41,
   "id": "6e97c10b-e757-40b9-9a92-68ae60e0d807",
   "metadata": {},
   "outputs": [
    {
     "data": {
      "text/plain": [
       "[Country(alpha_2='BR', alpha_3='BRA', flag='🇧🇷', name='Brazil', numeric='076', official_name='Federative Republic of Brazil')]"
      ]
     },
     "execution_count": 41,
     "metadata": {},
     "output_type": "execute_result"
    }
   ],
   "source": [
    "import pycountry\n",
    "pycountry.countries.search_fuzzy('Brazil')"
   ]
  },
  {
   "cell_type": "code",
   "execution_count": 5,
   "id": "01a024a8-2b8b-4d36-b83e-4ecfda9dbe98",
   "metadata": {},
   "outputs": [
    {
     "name": "stdout",
     "output_type": "stream",
     "text": [
      "England\n",
      "[{'Qatar': '🇶🇦'}, {'Germany': '🇩🇪'}, {'Denmark': '🇩🇰'}, {'Brazil': '🇧🇷'}, {'France': '🇫🇷'}, {'Belgium': '🇧🇪'}, {'Serbia': '🇷🇸'}, {'Spain': '🇪🇸'}, {'Croatia': '🇭🇷'}, {'Switzerland': '🇨🇭'}, {'Switzerland': '🇨🇭'}, {'Netherlands': '🇳🇱'}, {'Argentina': '🇦🇷'}, {'Iran': '🇮🇷'}, {'South Korea': '🇰🇷'}, {'Saudi Arabia': '🇸🇦'}, {'Japan': '🇯🇵'}, {'Uruguay': '🇺🇾'}, {'Ecuador': '🇪🇨'}, {'Canada': '🇨🇦'}, {'Ghana': '🇬🇭'}, {'Senegal': '🇸🇳'}, {'Poland': '🇵🇱'}, {'Portugal': '🇵🇹'}, {'Tunisia': '🇹🇳'}, {'Morocco': '🇲🇦'}, {'Cameroon': '🇨🇲'}, {'United States': '🇺🇸'}, {'Mexico': '🇲🇽'}, {'Wales': '🇦🇺'}, {'Australia': '🇦🇺'}, {'Costa Rica': '🇨🇷'}]\n"
     ]
    }
   ],
   "source": [
    "countries = []\n",
    "for fin in finalists:\n",
    "    try:\n",
    "        country = pycountry.countries.search_fuzzy(fin)[0]\n",
    "        flag = country.flag\n",
    "        country = {fin:flag}\n",
    "    except:\n",
    "        print(fin)\n",
    "    countries.append(country)        \n",
    "print(countries)"
   ]
  },
  {
   "cell_type": "code",
   "execution_count": 6,
   "id": "c9acf282-1578-4c32-a83e-5326c7894a3f",
   "metadata": {},
   "outputs": [
    {
     "data": {
      "text/plain": [
       "{'England': '\\U000e0067\\U000e0062\\U000e0065\\U000e006e\\U000e0067🏴\\U000e0067\\U000e0062\\U000e0065\\U000e006e\\U000e0067\\U000e007f'}"
      ]
     },
     "execution_count": 6,
     "metadata": {},
     "output_type": "execute_result"
    }
   ],
   "source": [
    "{'England': '󠁧󠁢󠁥󠁮󠁧🏴󠁧󠁢󠁥󠁮󠁧󠁿'}"
   ]
  },
  {
   "cell_type": "code",
   "execution_count": 38,
   "id": "cd809d3d-d4c6-4215-bbdd-7d4b552245ad",
   "metadata": {},
   "outputs": [
    {
     "data": {
      "text/plain": [
       "'🇧🇷'"
      ]
     },
     "execution_count": 38,
     "metadata": {},
     "output_type": "execute_result"
    }
   ],
   "source": [
    "import flag\n",
    "    \n",
    "flag.flag(\"BR\")"
   ]
  },
  {
   "cell_type": "code",
   "execution_count": 8,
   "id": "fb988d2a-2d95-4be6-9acb-529965ed2fbb",
   "metadata": {},
   "outputs": [
    {
     "data": {
      "text/plain": [
       "'🏴\\U000e0067\\U000e0062\\U000e0065\\U000e006e\\U000e0067\\U000e007f'"
      ]
     },
     "execution_count": 8,
     "metadata": {},
     "output_type": "execute_result"
    }
   ],
   "source": [
    "# England is not working again\n",
    "flag.flag(\"GBENG\")"
   ]
  },
  {
   "cell_type": "code",
   "execution_count": 9,
   "id": "9ff29c57-efdd-44b8-9155-f0e08692a455",
   "metadata": {},
   "outputs": [
    {
     "name": "stdout",
     "output_type": "stream",
     "text": [
      "[{'Qatar': '🇶🇦'}, {'Germany': '🇩🇪'}, {'Denmark': '🇩🇰'}, {'Brazil': '🇧🇷'}, {'France': '🇫🇷'}, {'Belgium': '🇧🇪'}, {'Serbia': '🇷🇸'}, {'Spain': '🇪🇸'}, {'Croatia': '🇭🇷'}, {'Switzerland': '🇨🇭'}, {'Switzerland': '🇨🇭'}, {'Netherlands': '🇳🇱'}, {'Argentina': '🇦🇷'}, {'Iran': '🇮🇷'}, {'South Korea': '🇰🇷'}, {'Saudi Arabia': '🇸🇦'}, {'Japan': '🇯🇵'}, {'Uruguay': '🇺🇾'}, {'Ecuador': '🇪🇨'}, {'Canada': '🇨🇦'}, {'Ghana': '🇬🇭'}, {'Senegal': '🇸🇳'}, {'Poland': '🇵🇱'}, {'Portugal': '🇵🇹'}, {'Tunisia': '🇹🇳'}, {'Morocco': '🇲🇦'}, {'Cameroon': '🇨🇲'}, {'United States': '🇺🇸'}, {'Mexico': '🇲🇽'}, {'Wales': '🇦🇺'}, {'Australia': '🇦🇺'}, {'Costa Rica': '🇨🇷'}, {'England': '🇬🇧'}]\n"
     ]
    }
   ],
   "source": [
    "countries.append({'England': flag.flag(\"GB\")})\n",
    "print(countries)"
   ]
  },
  {
   "cell_type": "markdown",
   "id": "b7b165ed-d03d-4e14-a2f0-62af1cccf654",
   "metadata": {},
   "source": [
    "## 2. Extract Tweets\n",
    "\n",
    "You may need `Elevated access` to avoid error with the first example:\n",
    "\n",
    "> Forbidden: 403 Forbidden\n",
    "453 - You currently have Essential access which includes access to Twitter API v2 endpoints only. If you need access to this endpoint, you’ll need to apply for Elevated access via the Developer Portal. You can learn more here: https://developer.twitter.com/en/docs/twitter-api/getting-started/about-twitter-api#v2-access-leve"
   ]
  },
  {
   "cell_type": "markdown",
   "id": "50b8a517-2eee-4bc5-9469-d5aea79d2cde",
   "metadata": {},
   "source": [
    "### 2.1 Elevated access"
   ]
  },
  {
   "cell_type": "code",
   "execution_count": 11,
   "id": "ed3b2553-631c-4f46-aabc-3967afed5a78",
   "metadata": {},
   "outputs": [],
   "source": [
    "import os\n",
    "import tweepy\n",
    "from dotenv import load_dotenv, find_dotenv\n",
    "from pathlib import Path\n",
    "\n",
    "path='./conf/.env'\n",
    "load_dotenv(dotenv_path=path,verbose=True)\n",
    "\n",
    "\n",
    "consumer_key = os.environ[\"API_KEY\"]\n",
    "consumer_secret = os.environ[\"API_KEY_SECRET\"]\n",
    "access_token = os.environ[\"ACCESS_TOKEN\"]\n",
    "access_token_secret = os.environ[\"ACCESS_TOKEN_SECRET\"]\n",
    "\n",
    "auth = tweepy.OAuth1UserHandler(\n",
    "  consumer_key, \n",
    "  consumer_secret, \n",
    "  access_token, \n",
    "  access_token_secret\n",
    ")\n",
    "\n",
    "api = tweepy.API(auth)\n",
    "\n",
    "tweets = api.search_tweets(\"World cup\", tweet_mode=\"extended\")\n",
    "\n",
    "for tweet in tweets:\n",
    "    try:\n",
    "        print(tweet.retweeted_status.full_text)\n",
    "        print(\"=====\")\n",
    "    except AttributeError:\n",
    "        print(tweet.full_text)\n",
    "        print(\"=====\")"
   ]
  },
  {
   "cell_type": "markdown",
   "id": "d5fb573d-e16b-419d-9171-f604bf5ec013",
   "metadata": {},
   "source": [
    "### 2.2 BEARER_TOKEN"
   ]
  },
  {
   "cell_type": "code",
   "execution_count": 43,
   "id": "3bf136b1-1cfb-48a7-aac3-e4d7c9010965",
   "metadata": {},
   "outputs": [],
   "source": [
    "import tweepy\n",
    "import pandas as pd\n",
    "\n",
    "bearer_token = os.environ[\"BEARER_TOKEN\"]\n",
    "client = tweepy.Client(bearer_token=bearer_token)\n",
    "\n",
    "\"\"\"\n",
    "More examples\n",
    "https://github.com/twitterdev/getting-started-with-the-twitter-api-v2-for-academic-research/blob/main/modules/5-how-to-write-search-queries.md\n",
    "\"\"\"\n",
    "\n",
    "query = '#FIFAWorldCup'\n",
    "tweets = client.search_recent_tweets(query=query, tweet_fields=['context_annotations', 'created_at'], max_results=10)\n",
    "\n",
    "df2 = pd.DataFrame(tweets.data)"
   ]
  },
  {
   "cell_type": "markdown",
   "id": "99eab569-27b8-4cc2-ab41-c9ed5c4c8555",
   "metadata": {},
   "source": [
    "### 2.3. Search more than 100 twits"
   ]
  },
  {
   "cell_type": "code",
   "execution_count": 30,
   "id": "0b988409-e1d8-49ec-8b5f-8b644ed00a88",
   "metadata": {},
   "outputs": [],
   "source": [
    "import tweepy\n",
    "\n",
    "client = tweepy.Client(bearer_token=bearer_token)\n",
    "\n",
    "query = '#FIFAWorldCup'\n",
    "tweets = tweepy.Paginator(client.search_recent_tweets, query=query,\n",
    "                              tweet_fields=['context_annotations', 'created_at'], max_results=100).flatten(limit=10000)\n",
    "\n",
    "ls = []\n",
    "for tweet in tweets:\n",
    "    ls.append(tweet)\n",
    "import pandas as pd\n",
    "df = pd.DataFrame(ls)"
   ]
  },
  {
   "cell_type": "code",
   "execution_count": 15,
   "id": "a1fbc45b-8e06-4e19-9853-71481469f76a",
   "metadata": {},
   "outputs": [
    {
     "data": {
      "text/html": [
       "<div>\n",
       "<style scoped>\n",
       "    .dataframe tbody tr th:only-of-type {\n",
       "        vertical-align: middle;\n",
       "    }\n",
       "\n",
       "    .dataframe tbody tr th {\n",
       "        vertical-align: top;\n",
       "    }\n",
       "\n",
       "    .dataframe thead th {\n",
       "        text-align: right;\n",
       "    }\n",
       "</style>\n",
       "<table border=\"1\" class=\"dataframe\">\n",
       "  <thead>\n",
       "    <tr style=\"text-align: right;\">\n",
       "      <th></th>\n",
       "      <th>context_annotations</th>\n",
       "      <th>created_at</th>\n",
       "      <th>edit_history_tweet_ids</th>\n",
       "      <th>id</th>\n",
       "      <th>text</th>\n",
       "      <th>withheld</th>\n",
       "    </tr>\n",
       "  </thead>\n",
       "  <tbody>\n",
       "    <tr>\n",
       "      <th>0</th>\n",
       "      <td>[{'domain': {'id': '6', 'name': 'Sports Event'...</td>\n",
       "      <td>2022-11-20 09:45:27+00:00</td>\n",
       "      <td>[1594265659239813126]</td>\n",
       "      <td>1594265659239813126</td>\n",
       "      <td>#رونالدو يقود حصة تدريبية للاعبي منتخب البرتغا...</td>\n",
       "      <td>NaN</td>\n",
       "    </tr>\n",
       "    <tr>\n",
       "      <th>1</th>\n",
       "      <td>[{'domain': {'id': '6', 'name': 'Sports Event'...</td>\n",
       "      <td>2022-11-20 09:45:27+00:00</td>\n",
       "      <td>[1594265658787008512]</td>\n",
       "      <td>1594265658787008512</td>\n",
       "      <td>Possibly the finest footballer there ever was ...</td>\n",
       "      <td>NaN</td>\n",
       "    </tr>\n",
       "    <tr>\n",
       "      <th>2</th>\n",
       "      <td>[{'domain': {'id': '6', 'name': 'Sports Event'...</td>\n",
       "      <td>2022-11-20 09:45:27+00:00</td>\n",
       "      <td>[1594265658082066435]</td>\n",
       "      <td>1594265658082066435</td>\n",
       "      <td>RT @FIFAWorldCup: \"See you at the Opening!\" - ...</td>\n",
       "      <td>NaN</td>\n",
       "    </tr>\n",
       "    <tr>\n",
       "      <th>3</th>\n",
       "      <td>[{'domain': {'id': '6', 'name': 'Sports Event'...</td>\n",
       "      <td>2022-11-20 09:45:27+00:00</td>\n",
       "      <td>[1594265658073944064]</td>\n",
       "      <td>1594265658073944064</td>\n",
       "      <td>RT @breathMessi23: Every Stadium for the match...</td>\n",
       "      <td>NaN</td>\n",
       "    </tr>\n",
       "    <tr>\n",
       "      <th>4</th>\n",
       "      <td>NaN</td>\n",
       "      <td>2022-11-20 09:45:27+00:00</td>\n",
       "      <td>[1594265657872650240]</td>\n",
       "      <td>1594265657872650240</td>\n",
       "      <td>RT @soccernews_euro: カタールW杯開幕を記念して初のプレゼント企画🎁\\n...</td>\n",
       "      <td>NaN</td>\n",
       "    </tr>\n",
       "    <tr>\n",
       "      <th>...</th>\n",
       "      <td>...</td>\n",
       "      <td>...</td>\n",
       "      <td>...</td>\n",
       "      <td>...</td>\n",
       "      <td>...</td>\n",
       "      <td>...</td>\n",
       "    </tr>\n",
       "    <tr>\n",
       "      <th>995</th>\n",
       "      <td>[{'domain': {'id': '6', 'name': 'Sports Event'...</td>\n",
       "      <td>2022-11-20 09:44:13+00:00</td>\n",
       "      <td>[1594265348072669184]</td>\n",
       "      <td>1594265348072669184</td>\n",
       "      <td>RT @promisethv: OMG! I’m so addicted with #Jun...</td>\n",
       "      <td>NaN</td>\n",
       "    </tr>\n",
       "    <tr>\n",
       "      <th>996</th>\n",
       "      <td>[{'domain': {'id': '6', 'name': 'Sports Event'...</td>\n",
       "      <td>2022-11-20 09:44:13+00:00</td>\n",
       "      <td>[1594265348026601472]</td>\n",
       "      <td>1594265348026601472</td>\n",
       "      <td>RT @BTSChartsDailyx: 📊| #Dreamers by Jungkook ...</td>\n",
       "      <td>NaN</td>\n",
       "    </tr>\n",
       "    <tr>\n",
       "      <th>997</th>\n",
       "      <td>[{'domain': {'id': '6', 'name': 'Sports Event'...</td>\n",
       "      <td>2022-11-20 09:44:13+00:00</td>\n",
       "      <td>[1594265347716153344]</td>\n",
       "      <td>1594265347716153344</td>\n",
       "      <td>RT @unitedmasters: ‘Dreamers’ Official Fan Cha...</td>\n",
       "      <td>NaN</td>\n",
       "    </tr>\n",
       "    <tr>\n",
       "      <th>998</th>\n",
       "      <td>[{'domain': {'id': '6', 'name': 'Sports Event'...</td>\n",
       "      <td>2022-11-20 09:44:13+00:00</td>\n",
       "      <td>[1594265347648999424]</td>\n",
       "      <td>1594265347648999424</td>\n",
       "      <td>@ENERGY @LaCasaBlanca @Casablanca @SecCardona ...</td>\n",
       "      <td>NaN</td>\n",
       "    </tr>\n",
       "    <tr>\n",
       "      <th>999</th>\n",
       "      <td>[{'domain': {'id': '6', 'name': 'Sports Event'...</td>\n",
       "      <td>2022-11-20 09:44:13+00:00</td>\n",
       "      <td>[1594265347372494848]</td>\n",
       "      <td>1594265347372494848</td>\n",
       "      <td>RT @Wilson34David: On the eve of the World Cup...</td>\n",
       "      <td>NaN</td>\n",
       "    </tr>\n",
       "  </tbody>\n",
       "</table>\n",
       "<p>1000 rows × 6 columns</p>\n",
       "</div>"
      ],
      "text/plain": [
       "                                   context_annotations  \\\n",
       "0    [{'domain': {'id': '6', 'name': 'Sports Event'...   \n",
       "1    [{'domain': {'id': '6', 'name': 'Sports Event'...   \n",
       "2    [{'domain': {'id': '6', 'name': 'Sports Event'...   \n",
       "3    [{'domain': {'id': '6', 'name': 'Sports Event'...   \n",
       "4                                                  NaN   \n",
       "..                                                 ...   \n",
       "995  [{'domain': {'id': '6', 'name': 'Sports Event'...   \n",
       "996  [{'domain': {'id': '6', 'name': 'Sports Event'...   \n",
       "997  [{'domain': {'id': '6', 'name': 'Sports Event'...   \n",
       "998  [{'domain': {'id': '6', 'name': 'Sports Event'...   \n",
       "999  [{'domain': {'id': '6', 'name': 'Sports Event'...   \n",
       "\n",
       "                   created_at edit_history_tweet_ids                   id  \\\n",
       "0   2022-11-20 09:45:27+00:00  [1594265659239813126]  1594265659239813126   \n",
       "1   2022-11-20 09:45:27+00:00  [1594265658787008512]  1594265658787008512   \n",
       "2   2022-11-20 09:45:27+00:00  [1594265658082066435]  1594265658082066435   \n",
       "3   2022-11-20 09:45:27+00:00  [1594265658073944064]  1594265658073944064   \n",
       "4   2022-11-20 09:45:27+00:00  [1594265657872650240]  1594265657872650240   \n",
       "..                        ...                    ...                  ...   \n",
       "995 2022-11-20 09:44:13+00:00  [1594265348072669184]  1594265348072669184   \n",
       "996 2022-11-20 09:44:13+00:00  [1594265348026601472]  1594265348026601472   \n",
       "997 2022-11-20 09:44:13+00:00  [1594265347716153344]  1594265347716153344   \n",
       "998 2022-11-20 09:44:13+00:00  [1594265347648999424]  1594265347648999424   \n",
       "999 2022-11-20 09:44:13+00:00  [1594265347372494848]  1594265347372494848   \n",
       "\n",
       "                                                  text withheld  \n",
       "0    #رونالدو يقود حصة تدريبية للاعبي منتخب البرتغا...      NaN  \n",
       "1    Possibly the finest footballer there ever was ...      NaN  \n",
       "2    RT @FIFAWorldCup: \"See you at the Opening!\" - ...      NaN  \n",
       "3    RT @breathMessi23: Every Stadium for the match...      NaN  \n",
       "4    RT @soccernews_euro: カタールW杯開幕を記念して初のプレゼント企画🎁\\n...      NaN  \n",
       "..                                                 ...      ...  \n",
       "995  RT @promisethv: OMG! I’m so addicted with #Jun...      NaN  \n",
       "996  RT @BTSChartsDailyx: 📊| #Dreamers by Jungkook ...      NaN  \n",
       "997  RT @unitedmasters: ‘Dreamers’ Official Fan Cha...      NaN  \n",
       "998  @ENERGY @LaCasaBlanca @Casablanca @SecCardona ...      NaN  \n",
       "999  RT @Wilson34David: On the eve of the World Cup...      NaN  \n",
       "\n",
       "[1000 rows x 6 columns]"
      ]
     },
     "execution_count": 15,
     "metadata": {},
     "output_type": "execute_result"
    }
   ],
   "source": [
    "df"
   ]
  },
  {
   "cell_type": "markdown",
   "id": "ca8d22c7-6100-4c21-a084-bd25d8ca5667",
   "metadata": {},
   "source": [
    "## 4. Analyse Extracted Data"
   ]
  },
  {
   "cell_type": "markdown",
   "id": "5af2d854-cdcd-4d91-b65d-7eabf2e3415e",
   "metadata": {},
   "source": [
    "### 4.1 Search by name"
   ]
  },
  {
   "cell_type": "code",
   "execution_count": 50,
   "id": "3cb14077-34d3-4053-8b4e-fe3e3d8e810a",
   "metadata": {},
   "outputs": [
    {
     "data": {
      "text/html": [
       "<div>\n",
       "<style scoped>\n",
       "    .dataframe tbody tr th:only-of-type {\n",
       "        vertical-align: middle;\n",
       "    }\n",
       "\n",
       "    .dataframe tbody tr th {\n",
       "        vertical-align: top;\n",
       "    }\n",
       "\n",
       "    .dataframe thead th {\n",
       "        text-align: right;\n",
       "    }\n",
       "</style>\n",
       "<table border=\"1\" class=\"dataframe\">\n",
       "  <thead>\n",
       "    <tr style=\"text-align: right;\">\n",
       "      <th></th>\n",
       "      <th>context_annotations</th>\n",
       "      <th>created_at</th>\n",
       "      <th>edit_history_tweet_ids</th>\n",
       "      <th>id</th>\n",
       "      <th>text</th>\n",
       "      <th>withheld</th>\n",
       "    </tr>\n",
       "  </thead>\n",
       "  <tbody>\n",
       "    <tr>\n",
       "      <th>1527</th>\n",
       "      <td>[{'domain': {'id': '6', 'name': 'Sports Event'...</td>\n",
       "      <td>2022-11-20 09:47:08+00:00</td>\n",
       "      <td>[1594266081128222720]</td>\n",
       "      <td>1594266081128222720</td>\n",
       "      <td>My predictions for the 2022 FIFA World Cup\\n\\n...</td>\n",
       "      <td>NaN</td>\n",
       "    </tr>\n",
       "    <tr>\n",
       "      <th>3044</th>\n",
       "      <td>[{'domain': {'id': '6', 'name': 'Sports Event'...</td>\n",
       "      <td>2022-11-20 09:45:14+00:00</td>\n",
       "      <td>[1594265604483354624]</td>\n",
       "      <td>1594265604483354624</td>\n",
       "      <td>The time is over now. This is the event where ...</td>\n",
       "      <td>NaN</td>\n",
       "    </tr>\n",
       "    <tr>\n",
       "      <th>3236</th>\n",
       "      <td>[{'domain': {'id': '46', 'name': 'Business Tax...</td>\n",
       "      <td>2022-11-20 09:44:59+00:00</td>\n",
       "      <td>[1594265540822007810]</td>\n",
       "      <td>1594265540822007810</td>\n",
       "      <td>RT @Jungkook_Spain_: 🎯 METAS ESPAÑA 🇪🇦🎯\\n\\nLa ...</td>\n",
       "      <td>NaN</td>\n",
       "    </tr>\n",
       "    <tr>\n",
       "      <th>3362</th>\n",
       "      <td>[{'domain': {'id': '46', 'name': 'Business Tax...</td>\n",
       "      <td>2022-11-20 09:44:49+00:00</td>\n",
       "      <td>[1594265500347142150]</td>\n",
       "      <td>1594265500347142150</td>\n",
       "      <td>RT @PHGoldenA: DREAMERS by Jungkook topped iTu...</td>\n",
       "      <td>NaN</td>\n",
       "    </tr>\n",
       "    <tr>\n",
       "      <th>4852</th>\n",
       "      <td>[{'domain': {'id': '6', 'name': 'Sports Event'...</td>\n",
       "      <td>2022-11-20 09:43:02+00:00</td>\n",
       "      <td>[1594265048137928704]</td>\n",
       "      <td>1594265048137928704</td>\n",
       "      <td>World Cup Football Finals \\n\\n2010 - Spain🇪🇸 (...</td>\n",
       "      <td>NaN</td>\n",
       "    </tr>\n",
       "    <tr>\n",
       "      <th>8968</th>\n",
       "      <td>[{'domain': {'id': '6', 'name': 'Sports Event'...</td>\n",
       "      <td>2022-11-20 09:38:07+00:00</td>\n",
       "      <td>[1594263810306605056]</td>\n",
       "      <td>1594263810306605056</td>\n",
       "      <td>The #FIFAWorldCup starts today and I want to k...</td>\n",
       "      <td>NaN</td>\n",
       "    </tr>\n",
       "    <tr>\n",
       "      <th>9886</th>\n",
       "      <td>[{'domain': {'id': '6', 'name': 'Sports Event'...</td>\n",
       "      <td>2022-11-20 09:37:05+00:00</td>\n",
       "      <td>[1594263553221050368]</td>\n",
       "      <td>1594263553221050368</td>\n",
       "      <td>RT @Jungkook_Spain_: [TRAD] #Dreamers2022\\n\\nL...</td>\n",
       "      <td>NaN</td>\n",
       "    </tr>\n",
       "  </tbody>\n",
       "</table>\n",
       "</div>"
      ],
      "text/plain": [
       "                                    context_annotations  \\\n",
       "1527  [{'domain': {'id': '6', 'name': 'Sports Event'...   \n",
       "3044  [{'domain': {'id': '6', 'name': 'Sports Event'...   \n",
       "3236  [{'domain': {'id': '46', 'name': 'Business Tax...   \n",
       "3362  [{'domain': {'id': '46', 'name': 'Business Tax...   \n",
       "4852  [{'domain': {'id': '6', 'name': 'Sports Event'...   \n",
       "8968  [{'domain': {'id': '6', 'name': 'Sports Event'...   \n",
       "9886  [{'domain': {'id': '6', 'name': 'Sports Event'...   \n",
       "\n",
       "                    created_at edit_history_tweet_ids                   id  \\\n",
       "1527 2022-11-20 09:47:08+00:00  [1594266081128222720]  1594266081128222720   \n",
       "3044 2022-11-20 09:45:14+00:00  [1594265604483354624]  1594265604483354624   \n",
       "3236 2022-11-20 09:44:59+00:00  [1594265540822007810]  1594265540822007810   \n",
       "3362 2022-11-20 09:44:49+00:00  [1594265500347142150]  1594265500347142150   \n",
       "4852 2022-11-20 09:43:02+00:00  [1594265048137928704]  1594265048137928704   \n",
       "8968 2022-11-20 09:38:07+00:00  [1594263810306605056]  1594263810306605056   \n",
       "9886 2022-11-20 09:37:05+00:00  [1594263553221050368]  1594263553221050368   \n",
       "\n",
       "                                                   text withheld  \n",
       "1527  My predictions for the 2022 FIFA World Cup\\n\\n...      NaN  \n",
       "3044  The time is over now. This is the event where ...      NaN  \n",
       "3236  RT @Jungkook_Spain_: 🎯 METAS ESPAÑA 🇪🇦🎯\\n\\nLa ...      NaN  \n",
       "3362  RT @PHGoldenA: DREAMERS by Jungkook topped iTu...      NaN  \n",
       "4852  World Cup Football Finals \\n\\n2010 - Spain🇪🇸 (...      NaN  \n",
       "8968  The #FIFAWorldCup starts today and I want to k...      NaN  \n",
       "9886  RT @Jungkook_Spain_: [TRAD] #Dreamers2022\\n\\nL...      NaN  "
      ]
     },
     "execution_count": 50,
     "metadata": {},
     "output_type": "execute_result"
    }
   ],
   "source": [
    "df[df.text.str.contains('Spain')]"
   ]
  },
  {
   "cell_type": "code",
   "execution_count": 51,
   "id": "e769bd36-f3bf-44a1-8ced-931f733e1070",
   "metadata": {},
   "outputs": [
    {
     "data": {
      "text/html": [
       "<div>\n",
       "<style scoped>\n",
       "    .dataframe tbody tr th:only-of-type {\n",
       "        vertical-align: middle;\n",
       "    }\n",
       "\n",
       "    .dataframe tbody tr th {\n",
       "        vertical-align: top;\n",
       "    }\n",
       "\n",
       "    .dataframe thead th {\n",
       "        text-align: right;\n",
       "    }\n",
       "</style>\n",
       "<table border=\"1\" class=\"dataframe\">\n",
       "  <thead>\n",
       "    <tr style=\"text-align: right;\">\n",
       "      <th></th>\n",
       "      <th>context_annotations</th>\n",
       "      <th>created_at</th>\n",
       "      <th>edit_history_tweet_ids</th>\n",
       "      <th>id</th>\n",
       "      <th>text</th>\n",
       "      <th>withheld</th>\n",
       "    </tr>\n",
       "  </thead>\n",
       "  <tbody>\n",
       "    <tr>\n",
       "      <th>61</th>\n",
       "      <td>[{'domain': {'id': '6', 'name': 'Sports Event'...</td>\n",
       "      <td>2022-11-20 09:48:59+00:00</td>\n",
       "      <td>[1594266546037469184]</td>\n",
       "      <td>1594266546037469184</td>\n",
       "      <td>Pro-Russian forces brutally drop bombs over Uk...</td>\n",
       "      <td>NaN</td>\n",
       "    </tr>\n",
       "    <tr>\n",
       "      <th>485</th>\n",
       "      <td>[{'domain': {'id': '6', 'name': 'Sports Event'...</td>\n",
       "      <td>2022-11-20 09:48:28+00:00</td>\n",
       "      <td>[1594266417683402754]</td>\n",
       "      <td>1594266417683402754</td>\n",
       "      <td>In honour of the #FIFAWorldCup starting today,...</td>\n",
       "      <td>NaN</td>\n",
       "    </tr>\n",
       "    <tr>\n",
       "      <th>672</th>\n",
       "      <td>[{'domain': {'id': '6', 'name': 'Sports Event'...</td>\n",
       "      <td>2022-11-20 09:48:14+00:00</td>\n",
       "      <td>[1594266359458066432]</td>\n",
       "      <td>1594266359458066432</td>\n",
       "      <td>My #FIFAWorldCup predictions :\\n1. Argentina\\n...</td>\n",
       "      <td>NaN</td>\n",
       "    </tr>\n",
       "    <tr>\n",
       "      <th>700</th>\n",
       "      <td>[{'domain': {'id': '6', 'name': 'Sports Event'...</td>\n",
       "      <td>2022-11-20 09:48:12+00:00</td>\n",
       "      <td>[1594266350087995392]</td>\n",
       "      <td>1594266350087995392</td>\n",
       "      <td>Gol di Grosso!!!\\n#Italy #Germany2006 #FabioGr...</td>\n",
       "      <td>NaN</td>\n",
       "    </tr>\n",
       "    <tr>\n",
       "      <th>1101</th>\n",
       "      <td>[{'domain': {'id': '6', 'name': 'Sports Event'...</td>\n",
       "      <td>2022-11-20 09:47:42+00:00</td>\n",
       "      <td>[1594266226028683267]</td>\n",
       "      <td>1594266226028683267</td>\n",
       "      <td>Ukrainian forces target Russian soldiers with ...</td>\n",
       "      <td>NaN</td>\n",
       "    </tr>\n",
       "    <tr>\n",
       "      <th>1681</th>\n",
       "      <td>[{'domain': {'id': '6', 'name': 'Sports Event'...</td>\n",
       "      <td>2022-11-20 09:46:57+00:00</td>\n",
       "      <td>[1594266034218860544]</td>\n",
       "      <td>1594266034218860544</td>\n",
       "      <td>AL RUWAIS, QATAR - NOVEMBER 20: Thilo #Kehrer ...</td>\n",
       "      <td>NaN</td>\n",
       "    </tr>\n",
       "    <tr>\n",
       "      <th>2098</th>\n",
       "      <td>[{'domain': {'id': '6', 'name': 'Sports Event'...</td>\n",
       "      <td>2022-11-20 09:46:26+00:00</td>\n",
       "      <td>[1594265906955563008]</td>\n",
       "      <td>1594265906955563008</td>\n",
       "      <td>Counter-attack!!! Ukrainian 30th Brigade destr...</td>\n",
       "      <td>NaN</td>\n",
       "    </tr>\n",
       "    <tr>\n",
       "      <th>2997</th>\n",
       "      <td>[{'domain': {'id': '6', 'name': 'Sports Event'...</td>\n",
       "      <td>2022-11-20 09:45:18+00:00</td>\n",
       "      <td>[1594265618122883073]</td>\n",
       "      <td>1594265618122883073</td>\n",
       "      <td>\"world cup is not political\" yeah except that ...</td>\n",
       "      <td>NaN</td>\n",
       "    </tr>\n",
       "    <tr>\n",
       "      <th>3044</th>\n",
       "      <td>[{'domain': {'id': '6', 'name': 'Sports Event'...</td>\n",
       "      <td>2022-11-20 09:45:14+00:00</td>\n",
       "      <td>[1594265604483354624]</td>\n",
       "      <td>1594265604483354624</td>\n",
       "      <td>The time is over now. This is the event where ...</td>\n",
       "      <td>NaN</td>\n",
       "    </tr>\n",
       "    <tr>\n",
       "      <th>3378</th>\n",
       "      <td>[{'domain': {'id': '6', 'name': 'Sports Event'...</td>\n",
       "      <td>2022-11-20 09:44:48+00:00</td>\n",
       "      <td>[1594265495385030657]</td>\n",
       "      <td>1594265495385030657</td>\n",
       "      <td>Ukrainian Troops Attack Dozens of Russian Tank...</td>\n",
       "      <td>NaN</td>\n",
       "    </tr>\n",
       "    <tr>\n",
       "      <th>3643</th>\n",
       "      <td>[{'domain': {'id': '6', 'name': 'Sports Event'...</td>\n",
       "      <td>2022-11-20 09:44:30+00:00</td>\n",
       "      <td>[1594265416657944577]</td>\n",
       "      <td>1594265416657944577</td>\n",
       "      <td>My picks… \\n\\nWinner = Brazil\\n\\nSemi-finals =...</td>\n",
       "      <td>NaN</td>\n",
       "    </tr>\n",
       "    <tr>\n",
       "      <th>4411</th>\n",
       "      <td>[{'domain': {'id': '6', 'name': 'Sports Event'...</td>\n",
       "      <td>2022-11-20 09:43:31+00:00</td>\n",
       "      <td>[1594265173120143361]</td>\n",
       "      <td>1594265173120143361</td>\n",
       "      <td>All-Out Battle!! Ukrainian forces destroyed Ru...</td>\n",
       "      <td>NaN</td>\n",
       "    </tr>\n",
       "    <tr>\n",
       "      <th>5470</th>\n",
       "      <td>[{'domain': {'id': '6', 'name': 'Sports Event'...</td>\n",
       "      <td>2022-11-20 09:42:15+00:00</td>\n",
       "      <td>[1594264850762551297]</td>\n",
       "      <td>1594264850762551297</td>\n",
       "      <td>Ukrainian mortars destroy Russian ammo depot i...</td>\n",
       "      <td>NaN</td>\n",
       "    </tr>\n",
       "    <tr>\n",
       "      <th>6184</th>\n",
       "      <td>[{'domain': {'id': '6', 'name': 'Sports Event'...</td>\n",
       "      <td>2022-11-20 09:41:23+00:00</td>\n",
       "      <td>[1594264636203085825]</td>\n",
       "      <td>1594264636203085825</td>\n",
       "      <td>Locked in Germany 🏆\\nBacking Morocco for Afric...</td>\n",
       "      <td>NaN</td>\n",
       "    </tr>\n",
       "    <tr>\n",
       "      <th>6497</th>\n",
       "      <td>[{'domain': {'id': '6', 'name': 'Sports Event'...</td>\n",
       "      <td>2022-11-20 09:40:59+00:00</td>\n",
       "      <td>[1594264531924316160]</td>\n",
       "      <td>1594264531924316160</td>\n",
       "      <td>HORRIBLE (Nov 20) Ukraine troops destroyed thr...</td>\n",
       "      <td>NaN</td>\n",
       "    </tr>\n",
       "    <tr>\n",
       "      <th>7078</th>\n",
       "      <td>[{'domain': {'id': '3', 'name': 'TV Shows', 'd...</td>\n",
       "      <td>2022-11-20 09:40:16+00:00</td>\n",
       "      <td>[1594264354840535041]</td>\n",
       "      <td>1594264354840535041</td>\n",
       "      <td>What a day, last F1 race for the season and FI...</td>\n",
       "      <td>NaN</td>\n",
       "    </tr>\n",
       "    <tr>\n",
       "      <th>7205</th>\n",
       "      <td>[{'domain': {'id': '6', 'name': 'Sports Event'...</td>\n",
       "      <td>2022-11-20 09:40:07+00:00</td>\n",
       "      <td>[1594264317200928768]</td>\n",
       "      <td>1594264317200928768</td>\n",
       "      <td>I was hoping that England or Germany could win...</td>\n",
       "      <td>NaN</td>\n",
       "    </tr>\n",
       "    <tr>\n",
       "      <th>7778</th>\n",
       "      <td>[{'domain': {'id': '6', 'name': 'Sports Event'...</td>\n",
       "      <td>2022-11-20 09:39:30+00:00</td>\n",
       "      <td>[1594264158660616192]</td>\n",
       "      <td>1594264158660616192</td>\n",
       "      <td>今夜はカタールW杯開幕。いつもと違ってまだシーズン中で所属クラブの結果も出てないタイミングだ...</td>\n",
       "      <td>NaN</td>\n",
       "    </tr>\n",
       "    <tr>\n",
       "      <th>7910</th>\n",
       "      <td>[{'domain': {'id': '6', 'name': 'Sports Event'...</td>\n",
       "      <td>2022-11-20 09:39:20+00:00</td>\n",
       "      <td>[1594264120257232897]</td>\n",
       "      <td>1594264120257232897</td>\n",
       "      <td>Ukrainian paratrooper single-handedly destroys...</td>\n",
       "      <td>NaN</td>\n",
       "    </tr>\n",
       "    <tr>\n",
       "      <th>9018</th>\n",
       "      <td>[{'domain': {'id': '6', 'name': 'Sports Event'...</td>\n",
       "      <td>2022-11-20 09:38:04+00:00</td>\n",
       "      <td>[1594263797975367680]</td>\n",
       "      <td>1594263797975367680</td>\n",
       "      <td>Ukrainian back using HIMARS destroys Russian h...</td>\n",
       "      <td>NaN</td>\n",
       "    </tr>\n",
       "  </tbody>\n",
       "</table>\n",
       "</div>"
      ],
      "text/plain": [
       "                                    context_annotations  \\\n",
       "61    [{'domain': {'id': '6', 'name': 'Sports Event'...   \n",
       "485   [{'domain': {'id': '6', 'name': 'Sports Event'...   \n",
       "672   [{'domain': {'id': '6', 'name': 'Sports Event'...   \n",
       "700   [{'domain': {'id': '6', 'name': 'Sports Event'...   \n",
       "1101  [{'domain': {'id': '6', 'name': 'Sports Event'...   \n",
       "1681  [{'domain': {'id': '6', 'name': 'Sports Event'...   \n",
       "2098  [{'domain': {'id': '6', 'name': 'Sports Event'...   \n",
       "2997  [{'domain': {'id': '6', 'name': 'Sports Event'...   \n",
       "3044  [{'domain': {'id': '6', 'name': 'Sports Event'...   \n",
       "3378  [{'domain': {'id': '6', 'name': 'Sports Event'...   \n",
       "3643  [{'domain': {'id': '6', 'name': 'Sports Event'...   \n",
       "4411  [{'domain': {'id': '6', 'name': 'Sports Event'...   \n",
       "5470  [{'domain': {'id': '6', 'name': 'Sports Event'...   \n",
       "6184  [{'domain': {'id': '6', 'name': 'Sports Event'...   \n",
       "6497  [{'domain': {'id': '6', 'name': 'Sports Event'...   \n",
       "7078  [{'domain': {'id': '3', 'name': 'TV Shows', 'd...   \n",
       "7205  [{'domain': {'id': '6', 'name': 'Sports Event'...   \n",
       "7778  [{'domain': {'id': '6', 'name': 'Sports Event'...   \n",
       "7910  [{'domain': {'id': '6', 'name': 'Sports Event'...   \n",
       "9018  [{'domain': {'id': '6', 'name': 'Sports Event'...   \n",
       "\n",
       "                    created_at edit_history_tweet_ids                   id  \\\n",
       "61   2022-11-20 09:48:59+00:00  [1594266546037469184]  1594266546037469184   \n",
       "485  2022-11-20 09:48:28+00:00  [1594266417683402754]  1594266417683402754   \n",
       "672  2022-11-20 09:48:14+00:00  [1594266359458066432]  1594266359458066432   \n",
       "700  2022-11-20 09:48:12+00:00  [1594266350087995392]  1594266350087995392   \n",
       "1101 2022-11-20 09:47:42+00:00  [1594266226028683267]  1594266226028683267   \n",
       "1681 2022-11-20 09:46:57+00:00  [1594266034218860544]  1594266034218860544   \n",
       "2098 2022-11-20 09:46:26+00:00  [1594265906955563008]  1594265906955563008   \n",
       "2997 2022-11-20 09:45:18+00:00  [1594265618122883073]  1594265618122883073   \n",
       "3044 2022-11-20 09:45:14+00:00  [1594265604483354624]  1594265604483354624   \n",
       "3378 2022-11-20 09:44:48+00:00  [1594265495385030657]  1594265495385030657   \n",
       "3643 2022-11-20 09:44:30+00:00  [1594265416657944577]  1594265416657944577   \n",
       "4411 2022-11-20 09:43:31+00:00  [1594265173120143361]  1594265173120143361   \n",
       "5470 2022-11-20 09:42:15+00:00  [1594264850762551297]  1594264850762551297   \n",
       "6184 2022-11-20 09:41:23+00:00  [1594264636203085825]  1594264636203085825   \n",
       "6497 2022-11-20 09:40:59+00:00  [1594264531924316160]  1594264531924316160   \n",
       "7078 2022-11-20 09:40:16+00:00  [1594264354840535041]  1594264354840535041   \n",
       "7205 2022-11-20 09:40:07+00:00  [1594264317200928768]  1594264317200928768   \n",
       "7778 2022-11-20 09:39:30+00:00  [1594264158660616192]  1594264158660616192   \n",
       "7910 2022-11-20 09:39:20+00:00  [1594264120257232897]  1594264120257232897   \n",
       "9018 2022-11-20 09:38:04+00:00  [1594263797975367680]  1594263797975367680   \n",
       "\n",
       "                                                   text withheld  \n",
       "61    Pro-Russian forces brutally drop bombs over Uk...      NaN  \n",
       "485   In honour of the #FIFAWorldCup starting today,...      NaN  \n",
       "672   My #FIFAWorldCup predictions :\\n1. Argentina\\n...      NaN  \n",
       "700   Gol di Grosso!!!\\n#Italy #Germany2006 #FabioGr...      NaN  \n",
       "1101  Ukrainian forces target Russian soldiers with ...      NaN  \n",
       "1681  AL RUWAIS, QATAR - NOVEMBER 20: Thilo #Kehrer ...      NaN  \n",
       "2098  Counter-attack!!! Ukrainian 30th Brigade destr...      NaN  \n",
       "2997  \"world cup is not political\" yeah except that ...      NaN  \n",
       "3044  The time is over now. This is the event where ...      NaN  \n",
       "3378  Ukrainian Troops Attack Dozens of Russian Tank...      NaN  \n",
       "3643  My picks… \\n\\nWinner = Brazil\\n\\nSemi-finals =...      NaN  \n",
       "4411  All-Out Battle!! Ukrainian forces destroyed Ru...      NaN  \n",
       "5470  Ukrainian mortars destroy Russian ammo depot i...      NaN  \n",
       "6184  Locked in Germany 🏆\\nBacking Morocco for Afric...      NaN  \n",
       "6497  HORRIBLE (Nov 20) Ukraine troops destroyed thr...      NaN  \n",
       "7078  What a day, last F1 race for the season and FI...      NaN  \n",
       "7205  I was hoping that England or Germany could win...      NaN  \n",
       "7778  今夜はカタールW杯開幕。いつもと違ってまだシーズン中で所属クラブの結果も出てないタイミングだ...      NaN  \n",
       "7910  Ukrainian paratrooper single-handedly destroys...      NaN  \n",
       "9018  Ukrainian back using HIMARS destroys Russian h...      NaN  "
      ]
     },
     "execution_count": 51,
     "metadata": {},
     "output_type": "execute_result"
    }
   ],
   "source": [
    "df[df.text.str.contains('Germany')]"
   ]
  },
  {
   "cell_type": "markdown",
   "id": "b16bd316-31dd-4508-88e3-c924f4644841",
   "metadata": {},
   "source": [
    "### 4.2 Search by Flag"
   ]
  },
  {
   "cell_type": "code",
   "execution_count": 80,
   "id": "a5c39b90-1e6b-45c9-aad8-81e47bdac152",
   "metadata": {},
   "outputs": [
    {
     "data": {
      "text/plain": [
       "(45, 6)"
      ]
     },
     "execution_count": 80,
     "metadata": {},
     "output_type": "execute_result"
    }
   ],
   "source": [
    "df[df.text.str.contains(flag.flag(\"FR\"))].shape"
   ]
  },
  {
   "cell_type": "code",
   "execution_count": 82,
   "id": "c2bf44e2-b24f-49f7-8714-a9a3329fd7d7",
   "metadata": {},
   "outputs": [
    {
     "data": {
      "text/plain": [
       "(48, 6)"
      ]
     },
     "execution_count": 82,
     "metadata": {},
     "output_type": "execute_result"
    }
   ],
   "source": [
    "df[df.text.str.contains(flag.flag(\"BR\"))].shape"
   ]
  },
  {
   "cell_type": "code",
   "execution_count": null,
   "id": "0b79f21c-bc1a-42e2-9a33-0260fd9f420d",
   "metadata": {},
   "outputs": [],
   "source": [
    "df[df.text.str.contains(flag.flag(\"BR\"))].shape"
   ]
  },
  {
   "cell_type": "markdown",
   "id": "459dedae-a2e7-4cb8-a0d0-38bcf793bf20",
   "metadata": {},
   "source": [
    "## 5. Select Winner by tweets"
   ]
  },
  {
   "cell_type": "markdown",
   "id": "cd3b7f09-ef65-4a9a-9123-667ec66e9e00",
   "metadata": {},
   "source": [
    "## 6. Check most tweeted countries"
   ]
  },
  {
   "cell_type": "code",
   "execution_count": 60,
   "id": "c81111ea-95c0-4a36-818f-c631540f6c7b",
   "metadata": {},
   "outputs": [],
   "source": [
    "count_team = []\n",
    "for team in df_fin['Team']:\n",
    "    count_team.append(df[df['text'].str.contains(team)].shape[0])\n",
    "df_fin['count'] = count_team"
   ]
  },
  {
   "cell_type": "code",
   "execution_count": 69,
   "id": "e54c9112-6d5d-4318-b994-b8a603fabd6b",
   "metadata": {},
   "outputs": [
    {
     "data": {
      "text/plain": [
       "<AxesSubplot:xlabel='Team'>"
      ]
     },
     "execution_count": 69,
     "metadata": {},
     "output_type": "execute_result"
    },
    {
     "data": {
      "image/png": "[encoded data removed]",
      "text/plain": [
       "<Figure size 432x288 with 1 Axes>"
      ]
     },
     "metadata": {
      "needs_background": "light"
     },
     "output_type": "display_data"
    }
   ],
   "source": [
    "df_fin.sort_values('count', ascending=False).set_index('Team').tail(31)['count' ].plot(kind='bar')"
   ]
  },
  {
   "cell_type": "code",
   "execution_count": 76,
   "id": "dfd1d80a-7b24-45b2-a3e4-ec84f7ef714a",
   "metadata": {},
   "outputs": [
    {
     "name": "stdout",
     "output_type": "stream",
     "text": [
      "dict_values(['🇶🇦'])\n"
     ]
    },
    {
     "ename": "TypeError",
     "evalue": "unhashable type: 'dict'",
     "output_type": "error",
     "traceback": [
      "\u001b[0;31m---------------------------------------------------------------------------\u001b[0m",
      "\u001b[0;31mTypeError\u001b[0m                                 Traceback (most recent call last)",
      "Input \u001b[0;32mIn [76]\u001b[0m, in \u001b[0;36m<cell line: 2>\u001b[0;34m()\u001b[0m\n\u001b[1;32m      2\u001b[0m \u001b[38;5;28;01mfor\u001b[39;00m team \u001b[38;5;129;01min\u001b[39;00m countries:\n\u001b[1;32m      3\u001b[0m     \u001b[38;5;28mprint\u001b[39m(team\u001b[38;5;241m.\u001b[39mvalues())\n\u001b[0;32m----> 4\u001b[0m     count_team\u001b[38;5;241m.\u001b[39mappend(df[\u001b[43mdf\u001b[49m\u001b[43m[\u001b[49m\u001b[38;5;124;43m'\u001b[39;49m\u001b[38;5;124;43mtext\u001b[39;49m\u001b[38;5;124;43m'\u001b[39;49m\u001b[43m]\u001b[49m\u001b[38;5;241;43m.\u001b[39;49m\u001b[43mstr\u001b[49m\u001b[38;5;241;43m.\u001b[39;49m\u001b[43mcontains\u001b[49m\u001b[43m(\u001b[49m\u001b[43mteam\u001b[49m\u001b[43m)\u001b[49m]\u001b[38;5;241m.\u001b[39mshape[\u001b[38;5;241m0\u001b[39m])\n\u001b[1;32m      5\u001b[0m df_fin[\u001b[38;5;124m'\u001b[39m\u001b[38;5;124mcount\u001b[39m\u001b[38;5;124m'\u001b[39m] \u001b[38;5;241m=\u001b[39m count_team\n",
      "File \u001b[0;32m~/PycharmProjects/Pandas-Exercises-Projects/venv/lib/python3.8/site-packages/pandas/core/strings/accessor.py:125\u001b[0m, in \u001b[0;36mforbid_nonstring_types.<locals>._forbid_nonstring_types.<locals>.wrapper\u001b[0;34m(self, *args, **kwargs)\u001b[0m\n\u001b[1;32m    120\u001b[0m     msg \u001b[38;5;241m=\u001b[39m (\n\u001b[1;32m    121\u001b[0m         \u001b[38;5;124mf\u001b[39m\u001b[38;5;124m\"\u001b[39m\u001b[38;5;124mCannot use .str.\u001b[39m\u001b[38;5;132;01m{\u001b[39;00mfunc_name\u001b[38;5;132;01m}\u001b[39;00m\u001b[38;5;124m with values of \u001b[39m\u001b[38;5;124m\"\u001b[39m\n\u001b[1;32m    122\u001b[0m         \u001b[38;5;124mf\u001b[39m\u001b[38;5;124m\"\u001b[39m\u001b[38;5;124minferred dtype \u001b[39m\u001b[38;5;124m'\u001b[39m\u001b[38;5;132;01m{\u001b[39;00m\u001b[38;5;28mself\u001b[39m\u001b[38;5;241m.\u001b[39m_inferred_dtype\u001b[38;5;132;01m}\u001b[39;00m\u001b[38;5;124m'\u001b[39m\u001b[38;5;124m.\u001b[39m\u001b[38;5;124m\"\u001b[39m\n\u001b[1;32m    123\u001b[0m     )\n\u001b[1;32m    124\u001b[0m     \u001b[38;5;28;01mraise\u001b[39;00m \u001b[38;5;167;01mTypeError\u001b[39;00m(msg)\n\u001b[0;32m--> 125\u001b[0m \u001b[38;5;28;01mreturn\u001b[39;00m \u001b[43mfunc\u001b[49m\u001b[43m(\u001b[49m\u001b[38;5;28;43mself\u001b[39;49m\u001b[43m,\u001b[49m\u001b[43m \u001b[49m\u001b[38;5;241;43m*\u001b[39;49m\u001b[43margs\u001b[49m\u001b[43m,\u001b[49m\u001b[43m \u001b[49m\u001b[38;5;241;43m*\u001b[39;49m\u001b[38;5;241;43m*\u001b[39;49m\u001b[43mkwargs\u001b[49m\u001b[43m)\u001b[49m\n",
      "File \u001b[0;32m~/PycharmProjects/Pandas-Exercises-Projects/venv/lib/python3.8/site-packages/pandas/core/strings/accessor.py:1214\u001b[0m, in \u001b[0;36mStringMethods.contains\u001b[0;34m(self, pat, case, flags, na, regex)\u001b[0m\n\u001b[1;32m   1089\u001b[0m \u001b[38;5;129m@forbid_nonstring_types\u001b[39m([\u001b[38;5;124m\"\u001b[39m\u001b[38;5;124mbytes\u001b[39m\u001b[38;5;124m\"\u001b[39m])\n\u001b[1;32m   1090\u001b[0m \u001b[38;5;28;01mdef\u001b[39;00m \u001b[38;5;21mcontains\u001b[39m(\u001b[38;5;28mself\u001b[39m, pat, case\u001b[38;5;241m=\u001b[39m\u001b[38;5;28;01mTrue\u001b[39;00m, flags\u001b[38;5;241m=\u001b[39m\u001b[38;5;241m0\u001b[39m, na\u001b[38;5;241m=\u001b[39m\u001b[38;5;28;01mNone\u001b[39;00m, regex\u001b[38;5;241m=\u001b[39m\u001b[38;5;28;01mTrue\u001b[39;00m):\n\u001b[1;32m   1091\u001b[0m     \u001b[38;5;124mr\u001b[39m\u001b[38;5;124;03m\"\"\"\u001b[39;00m\n\u001b[1;32m   1092\u001b[0m \u001b[38;5;124;03m    Test if pattern or regex is contained within a string of a Series or Index.\u001b[39;00m\n\u001b[1;32m   1093\u001b[0m \n\u001b[0;32m   (...)\u001b[0m\n\u001b[1;32m   1212\u001b[0m \u001b[38;5;124;03m    dtype: bool\u001b[39;00m\n\u001b[1;32m   1213\u001b[0m \u001b[38;5;124;03m    \"\"\"\u001b[39;00m\n\u001b[0;32m-> 1214\u001b[0m     \u001b[38;5;28;01mif\u001b[39;00m regex \u001b[38;5;129;01mand\u001b[39;00m \u001b[43mre\u001b[49m\u001b[38;5;241;43m.\u001b[39;49m\u001b[43mcompile\u001b[49m\u001b[43m(\u001b[49m\u001b[43mpat\u001b[49m\u001b[43m)\u001b[49m\u001b[38;5;241m.\u001b[39mgroups:\n\u001b[1;32m   1215\u001b[0m         warnings\u001b[38;5;241m.\u001b[39mwarn(\n\u001b[1;32m   1216\u001b[0m             \u001b[38;5;124m\"\u001b[39m\u001b[38;5;124mThis pattern is interpreted as a regular expression, and has \u001b[39m\u001b[38;5;124m\"\u001b[39m\n\u001b[1;32m   1217\u001b[0m             \u001b[38;5;124m\"\u001b[39m\u001b[38;5;124mmatch groups. To actually get the groups, use str.extract.\u001b[39m\u001b[38;5;124m\"\u001b[39m,\n\u001b[1;32m   1218\u001b[0m             \u001b[38;5;167;01mUserWarning\u001b[39;00m,\n\u001b[1;32m   1219\u001b[0m             stacklevel\u001b[38;5;241m=\u001b[39mfind_stack_level(),\n\u001b[1;32m   1220\u001b[0m         )\n\u001b[1;32m   1222\u001b[0m     result \u001b[38;5;241m=\u001b[39m \u001b[38;5;28mself\u001b[39m\u001b[38;5;241m.\u001b[39m_data\u001b[38;5;241m.\u001b[39marray\u001b[38;5;241m.\u001b[39m_str_contains(pat, case, flags, na, regex)\n",
      "File \u001b[0;32m/usr/lib/python3.8/re.py:252\u001b[0m, in \u001b[0;36mcompile\u001b[0;34m(pattern, flags)\u001b[0m\n\u001b[1;32m    250\u001b[0m \u001b[38;5;28;01mdef\u001b[39;00m \u001b[38;5;21mcompile\u001b[39m(pattern, flags\u001b[38;5;241m=\u001b[39m\u001b[38;5;241m0\u001b[39m):\n\u001b[1;32m    251\u001b[0m     \u001b[38;5;124m\"\u001b[39m\u001b[38;5;124mCompile a regular expression pattern, returning a Pattern object.\u001b[39m\u001b[38;5;124m\"\u001b[39m\n\u001b[0;32m--> 252\u001b[0m     \u001b[38;5;28;01mreturn\u001b[39;00m \u001b[43m_compile\u001b[49m\u001b[43m(\u001b[49m\u001b[43mpattern\u001b[49m\u001b[43m,\u001b[49m\u001b[43m \u001b[49m\u001b[43mflags\u001b[49m\u001b[43m)\u001b[49m\n",
      "File \u001b[0;32m/usr/lib/python3.8/re.py:294\u001b[0m, in \u001b[0;36m_compile\u001b[0;34m(pattern, flags)\u001b[0m\n\u001b[1;32m    292\u001b[0m     flags \u001b[38;5;241m=\u001b[39m flags\u001b[38;5;241m.\u001b[39mvalue\n\u001b[1;32m    293\u001b[0m \u001b[38;5;28;01mtry\u001b[39;00m:\n\u001b[0;32m--> 294\u001b[0m     \u001b[38;5;28;01mreturn\u001b[39;00m \u001b[43m_cache\u001b[49m\u001b[43m[\u001b[49m\u001b[38;5;28;43mtype\u001b[39;49m\u001b[43m(\u001b[49m\u001b[43mpattern\u001b[49m\u001b[43m)\u001b[49m\u001b[43m,\u001b[49m\u001b[43m \u001b[49m\u001b[43mpattern\u001b[49m\u001b[43m,\u001b[49m\u001b[43m \u001b[49m\u001b[43mflags\u001b[49m\u001b[43m]\u001b[49m\n\u001b[1;32m    295\u001b[0m \u001b[38;5;28;01mexcept\u001b[39;00m \u001b[38;5;167;01mKeyError\u001b[39;00m:\n\u001b[1;32m    296\u001b[0m     \u001b[38;5;28;01mpass\u001b[39;00m\n",
      "\u001b[0;31mTypeError\u001b[0m: unhashable type: 'dict'"
     ]
    }
   ],
   "source": [
    "count_team = []\n",
    "for team in countries:\n",
    "    print(team.values())\n",
    "    count_team.append(df[df['text'].str.contains(team)].shape[0])\n",
    "df_fin['count'] = count_team"
   ]
  },
  {
   "cell_type": "code",
   "execution_count": null,
   "id": "99f5e6d7-a242-4494-ab9b-4efb4cf4840a",
   "metadata": {},
   "outputs": [],
   "source": []
  }
 ],
 "metadata": {
  "kernelspec": {
   "display_name": "Python 3",
   "language": "python",
   "name": "python3"
  },
  "language_info": {
   "codemirror_mode": {
    "name": "ipython",
    "version": 3
   },
   "file_extension": ".py",
   "mimetype": "text/x-python",
   "name": "python",
   "nbconvert_exporter": "python",
   "pygments_lexer": "ipython3",
   "version": "3.8.10"
  }
 },
 "nbformat": 4,
 "nbformat_minor": 5
}
