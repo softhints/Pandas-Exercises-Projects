{
 "cells": [
  {
   "cell_type": "markdown",
   "id": "d67bc9fc-4b44-4e2a-83e5-c887c755a5b6",
   "metadata": {},
   "source": [
    "# DataIsBeautiful - The Absolute Quality of Breaking Bad\n",
    "\n",
    "https://datascientyst.com/dataisbeautiful-the-absolute-quality-of-breaking-bad/\n",
    "\n",
    "```bash\n",
    "pip install cinemagoer\n",
    "```"
   ]
  },
  {
   "cell_type": "markdown",
   "id": "ec849f34-a5ff-4d9d-8714-0a7b92333638",
   "metadata": {},
   "source": [
    "## Step 2: Scrape IMDb Movie Data"
   ]
  },
  {
   "cell_type": "markdown",
   "id": "1baf5317-e44b-498e-af57-93190eb96bfb",
   "metadata": {},
   "source": [
    "### Get IMDb movie info"
   ]
  },
  {
   "cell_type": "code",
   "execution_count": null,
   "id": "33b20091-a870-4dc0-9379-cdb2c36336ac",
   "metadata": {},
   "outputs": [],
   "source": [
    "from imdb import Cinemagoer\n",
    "\n",
    "# create an instance of the Cinemagoer class\n",
    "ia = Cinemagoer()\n",
    "\n",
    "# get a movie and print its director(s)\n",
    "the_matrix = ia.get_movie('3728462')\n",
    "for director in the_matrix['directors']:\n",
    "    print(director['name'])"
   ]
  },
  {
   "cell_type": "markdown",
   "id": "c95ab5b9-dc74-4433-9525-c616b77b0ea9",
   "metadata": {},
   "source": [
    "### Search for movies"
   ]
  },
  {
   "cell_type": "code",
   "execution_count": null,
   "id": "f3d66ff3-9649-4f68-8b55-4c5ddec7ab5d",
   "metadata": {},
   "outputs": [],
   "source": [
    "movies = ia.search_movie('Game of Thrones')\n",
    "movies"
   ]
  },
  {
   "cell_type": "markdown",
   "id": "6efa3380-7f62-4a72-b777-a39f9e44003f",
   "metadata": {},
   "source": [
    "### Extract IMDb series"
   ]
  },
  {
   "cell_type": "code",
   "execution_count": null,
   "id": "2c929530-cc61-4cdb-b5ed-557782eb75b0",
   "metadata": {},
   "outputs": [],
   "source": [
    "series = ia.get_movie('0944947')\n",
    "\n",
    "ia.update(series, 'episodes')\n",
    "sorted(series['episodes'].keys())"
   ]
  },
  {
   "cell_type": "markdown",
   "id": "fb18bd1e-464e-451b-917a-4e3d003b0c3d",
   "metadata": {},
   "source": [
    "### Collect episode data"
   ]
  },
  {
   "cell_type": "code",
   "execution_count": null,
   "id": "51e35933-b0d5-47b2-bede-817f653eed38",
   "metadata": {},
   "outputs": [],
   "source": [
    "import pandas as pd\n",
    "from pandas import json_normalize\n",
    "\n",
    "ep_data = []\n",
    "\n",
    "ls = series.get('episodes')\n",
    "for l in ls.values():\n",
    "    for i in l.values():\n",
    "        data = i.data\n",
    "        if 'episode of' in data.keys():\n",
    "            data.pop('episode of')\n",
    "        df_temp = pd.DataFrame.from_records([data])\n",
    "        ep_data.append(df_temp)\n",
    "\n",
    "df = pd.concat(ep_data)  \n",
    "df"
   ]
  },
  {
   "cell_type": "markdown",
   "id": "68b6052c-e8b1-4fc7-abe8-9a993a281885",
   "metadata": {},
   "source": [
    "## Step 4: Visualize IMDb Data in Python"
   ]
  },
  {
   "cell_type": "code",
   "execution_count": null,
   "id": "ca52bc96-185d-4c61-aa31-ea9efb8438fc",
   "metadata": {},
   "outputs": [],
   "source": [
    "pd.pivot_table(df, index='episode', columns='season', values='rating').round(1).style.background_gradient(cmap='Greens')"
   ]
  },
  {
   "cell_type": "code",
   "execution_count": null,
   "id": "2b96bee6-a364-4b7f-9b40-cdd673af2bf4",
   "metadata": {},
   "outputs": [],
   "source": [
    "pd.pivot_table(df, index='episode', columns='season', values='rating').round(1).fillna('')"
   ]
  },
  {
   "cell_type": "code",
   "execution_count": null,
   "id": "dfca215f-6585-4885-9d3a-d92afafd8335",
   "metadata": {},
   "outputs": [],
   "source": [
    "pd.pivot_table(df, index='episode', columns='season', values='rating').style.background_gradient(cmap='GnBu', axis=None).format( precision=1, na_rep='')  "
   ]
  },
  {
   "cell_type": "code",
   "execution_count": null,
   "id": "e1809b16-adcd-48f2-be40-7058d1e5a5bd",
   "metadata": {},
   "outputs": [],
   "source": []
  }
 ],
 "metadata": {
  "kernelspec": {
   "display_name": "Python 3",
   "language": "python",
   "name": "python3"
  },
  "language_info": {
   "codemirror_mode": {
    "name": "ipython",
    "version": 3
   },
   "file_extension": ".py",
   "mimetype": "text/x-python",
   "name": "python",
   "nbconvert_exporter": "python",
   "pygments_lexer": "ipython3",
   "version": "3.8.10"
  }
 },
 "nbformat": 4,
 "nbformat_minor": 5
}
