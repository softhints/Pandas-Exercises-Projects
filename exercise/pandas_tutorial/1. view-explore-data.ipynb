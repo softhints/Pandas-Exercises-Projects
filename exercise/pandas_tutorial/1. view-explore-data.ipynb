{
 "cells": [
  {
   "cell_type": "markdown",
   "id": "ecea3188-a7b0-4229-a6a1-5d225af11830",
   "metadata": {},
   "source": [
    "# View and Explore Data in Pandas"
   ]
  },
  {
   "cell_type": "markdown",
   "id": "dc32e4d4-afd3-4fb9-831d-1419c8196b7f",
   "metadata": {},
   "source": [
    "## 1. Read Data and Imports"
   ]
  },
  {
   "cell_type": "code",
   "execution_count": null,
   "id": "9642b989-f2d1-43bf-b1ff-b99758aac8f2",
   "metadata": {},
   "outputs": [],
   "source": [
    "# Your code here"
   ]
  },
  {
   "cell_type": "code",
   "execution_count": null,
   "id": "ab877aa0-3df3-41d7-a6d1-b028e5399e6a",
   "metadata": {
    "tags": []
   },
   "outputs": [],
   "source": [
    "%load -r 2:4 solution1.py"
   ]
  },
  {
   "cell_type": "markdown",
   "id": "c7578e85-046e-48eb-871d-75c94b5d0e9c",
   "metadata": {},
   "source": [
    "## 2. How many rows and columns?\n",
    "\n",
    "(45466, 24)"
   ]
  },
  {
   "cell_type": "code",
   "execution_count": null,
   "id": "c60bf54e-c26f-43d7-b2e4-44bf6ce76b9c",
   "metadata": {},
   "outputs": [],
   "source": [
    "# Your code here"
   ]
  },
  {
   "cell_type": "code",
   "execution_count": null,
   "id": "34f9e0bf-6c18-4854-9790-7c1d7b05cf97",
   "metadata": {},
   "outputs": [],
   "source": [
    "%load -r 6:7 solution1.py"
   ]
  },
  {
   "cell_type": "markdown",
   "id": "60d988b9-bc47-461f-876c-8111936a6072",
   "metadata": {},
   "source": [
    "### Bonus question 1\n",
    "How many rows and columns?"
   ]
  },
  {
   "cell_type": "code",
   "execution_count": null,
   "id": "ed271512-402b-4e97-bbf0-42aa1e6565ff",
   "metadata": {},
   "outputs": [],
   "source": [
    "# Your code here"
   ]
  },
  {
   "cell_type": "code",
   "execution_count": null,
   "id": "d99122c3-dfec-4b1e-ac81-a07998720dd1",
   "metadata": {},
   "outputs": [],
   "source": [
    "%load -r 7:9 solution1.py"
   ]
  },
  {
   "cell_type": "markdown",
   "id": "8cb93490-a326-4c2d-b4a5-593caa000529",
   "metadata": {},
   "source": [
    "### Bonus Question 2\n",
    "\n",
    "Synonyms of rows? Synonyms of columns?"
   ]
  },
  {
   "cell_type": "code",
   "execution_count": null,
   "id": "ecdf1ac9-71b1-48c4-abb0-3a8df890ce3e",
   "metadata": {},
   "outputs": [],
   "source": [
    "# Your explanation here"
   ]
  },
  {
   "cell_type": "code",
   "execution_count": null,
   "id": "15833d11-afd4-446e-9764-ab3911bf4dde",
   "metadata": {},
   "outputs": [],
   "source": [
    "%load -r 11:13 solution1.py"
   ]
  },
  {
   "cell_type": "markdown",
   "id": "2ada66dc-365d-4ab5-a5ee-d32460672283",
   "metadata": {},
   "source": [
    "## 2. View the top and bottom rows\n",
    "\n",
    "Display top 5 rows? Bottom 5 rows"
   ]
  },
  {
   "cell_type": "code",
   "execution_count": null,
   "id": "33931f57-592d-4d2f-8a7c-a8948da64b59",
   "metadata": {},
   "outputs": [],
   "source": [
    "# Your code here"
   ]
  },
  {
   "cell_type": "code",
   "execution_count": null,
   "id": "4d141208-a41b-4b69-8885-674a7e9d85a8",
   "metadata": {},
   "outputs": [],
   "source": [
    "%load -r 15:17 solution1.py"
   ]
  },
  {
   "cell_type": "markdown",
   "id": "54304194-bf4c-4c25-9bd4-f83b002ecfb6",
   "metadata": {},
   "source": [
    "### Bonus question 3\n",
    "Top and bottom simultaneously"
   ]
  },
  {
   "cell_type": "code",
   "execution_count": null,
   "id": "7e428f3e-75a4-46c2-b9c2-2b7819177018",
   "metadata": {},
   "outputs": [],
   "source": [
    "# Your code here"
   ]
  },
  {
   "cell_type": "code",
   "execution_count": null,
   "id": "762ae050-d005-4797-9fe7-07e5b914116b",
   "metadata": {},
   "outputs": [],
   "source": [
    "%load -r 19:21 solution1.py"
   ]
  },
  {
   "cell_type": "markdown",
   "id": "b888f0e3-879e-4387-986d-3e4ff6b21ed2",
   "metadata": {},
   "source": [
    "What is `r_`"
   ]
  },
  {
   "cell_type": "code",
   "execution_count": null,
   "id": "a7d4ceb9-caf1-4f00-bfec-551e7cdd971f",
   "metadata": {},
   "outputs": [],
   "source": [
    "%load -r 23:24 solution1.py"
   ]
  },
  {
   "cell_type": "markdown",
   "id": "00c2dfde-35f4-4395-9c0d-52690763e018",
   "metadata": {},
   "source": [
    "### Bonus question 4\n",
    "\n",
    "\n",
    "Do you know when we need to use parentheses and sometimes not?\n",
    "\n",
    "`df.head()`\n",
    "`df.shape`\n",
    "`df.shape[1]`"
   ]
  },
  {
   "cell_type": "code",
   "execution_count": null,
   "id": "8c6a558b-0359-4ee4-b04a-ab12765363f0",
   "metadata": {},
   "outputs": [],
   "source": [
    "# Your explanation here"
   ]
  },
  {
   "cell_type": "code",
   "execution_count": null,
   "id": "9827302b-246c-4f1c-9cbd-e33a584e9094",
   "metadata": {},
   "outputs": [],
   "source": [
    "%load -r 54: solution1.py"
   ]
  },
  {
   "cell_type": "markdown",
   "id": "b8bb27fe-c753-4020-b6db-a4b755437aaa",
   "metadata": {},
   "source": [
    "## 3. Display the index and columns"
   ]
  },
  {
   "cell_type": "code",
   "execution_count": null,
   "id": "5e53330a-efc4-44f2-9fae-bf47a7f0a998",
   "metadata": {},
   "outputs": [],
   "source": [
    "# Your code here"
   ]
  },
  {
   "cell_type": "code",
   "execution_count": null,
   "id": "2f105120-423d-41e1-bf1b-a37de82271dc",
   "metadata": {},
   "outputs": [],
   "source": [
    "%load -r 26:27 solution1.py"
   ]
  },
  {
   "cell_type": "code",
   "execution_count": null,
   "id": "ff9ebda8-aa67-418c-8a39-f6ba4323c644",
   "metadata": {},
   "outputs": [],
   "source": [
    "# %load -r 27:28 solution1.py\n",
    "df.index"
   ]
  },
  {
   "cell_type": "markdown",
   "id": "78deeb98-2064-4cab-9943-85c6a1a6a341",
   "metadata": {},
   "source": [
    "## 4. Generate descriptive statistics"
   ]
  },
  {
   "cell_type": "code",
   "execution_count": null,
   "id": "0ef801ff-fb85-4d06-b45e-a64cf2c350c8",
   "metadata": {},
   "outputs": [],
   "source": [
    "# Your code here"
   ]
  },
  {
   "cell_type": "code",
   "execution_count": null,
   "id": "fadcdd1e-d42f-4089-a17c-5b9ebb18692f",
   "metadata": {},
   "outputs": [],
   "source": [
    "%load -r 30:31 solution1.py"
   ]
  },
  {
   "cell_type": "markdown",
   "id": "2df39920-4cda-4c5a-89fc-0ba642b4fffe",
   "metadata": {},
   "source": [
    "## 5. What are the dtypes?"
   ]
  },
  {
   "cell_type": "code",
   "execution_count": null,
   "id": "533ebe14-fe95-4b6a-ae4c-2b2a0c6544e7",
   "metadata": {},
   "outputs": [],
   "source": [
    "# Your code here"
   ]
  },
  {
   "cell_type": "code",
   "execution_count": null,
   "id": "956cdc6e-dbd6-4ff9-8af2-3047bb210a5c",
   "metadata": {},
   "outputs": [],
   "source": [
    "%load -r 33:34 solution1.py"
   ]
  },
  {
   "cell_type": "markdown",
   "id": "ccf5f9d4-d8fe-4f95-b6a7-b3400cfa67f0",
   "metadata": {},
   "source": [
    "## 6. Transpose rows"
   ]
  },
  {
   "cell_type": "code",
   "execution_count": null,
   "id": "f02168f3-55a1-4107-8cbc-b91b26bc2fee",
   "metadata": {},
   "outputs": [],
   "source": [
    "# Your code here"
   ]
  },
  {
   "cell_type": "code",
   "execution_count": null,
   "id": "b9fc1f22-1be2-4571-a61b-c534cbb1001d",
   "metadata": {},
   "outputs": [],
   "source": [
    "%load -r 36:37 solution1.py"
   ]
  },
  {
   "cell_type": "markdown",
   "id": "34aff8d3-85db-41f6-9ba8-2fbc9df4a9ea",
   "metadata": {},
   "source": [
    "## 7. Get the names and number of votes for the most voted movies in that dataset"
   ]
  },
  {
   "cell_type": "code",
   "execution_count": null,
   "id": "ca369a6e-f085-4001-b33f-0328809a9f73",
   "metadata": {},
   "outputs": [],
   "source": [
    "# Your code here"
   ]
  },
  {
   "cell_type": "code",
   "execution_count": null,
   "id": "37221e56-71fe-40de-bc9a-424efd0a5c97",
   "metadata": {},
   "outputs": [],
   "source": [
    "%load -r 39:40 solution1.py"
   ]
  },
  {
   "cell_type": "markdown",
   "id": "37951f8c-36bf-45dc-929a-e04193715b21",
   "metadata": {},
   "source": [
    "### Bonus question 5\n",
    "\n",
    "top 7 values for the numerical columns\n",
    "\n",
    "<table border=\"1\" class=\"dataframe table table-striped text-center\">\n",
    "  <thead>\n",
    "    <tr style=\"text-align: center;\">\n",
    "      <th></th>\n",
    "      <th>revenue</th>\n",
    "      <th>runtime</th>\n",
    "      <th>vote_average</th>\n",
    "      <th>vote_count</th>\n",
    "    </tr>\n",
    "  </thead>\n",
    "  <tbody>\n",
    "    <tr>\n",
    "      <th>0</th>\n",
    "      <td>2.787965e+09</td>\n",
    "      <td>1256.0</td>\n",
    "      <td>10.0</td>\n",
    "      <td>14075.0</td>\n",
    "    </tr>\n",
    "    <tr>\n",
    "      <th>1</th>\n",
    "      <td>2.068224e+09</td>\n",
    "      <td>1140.0</td>\n",
    "      <td>10.0</td>\n",
    "      <td>12269.0</td>\n",
    "    </tr>\n",
    "    <tr>\n",
    "      <th>2</th>\n",
    "      <td>1.845034e+09</td>\n",
    "      <td>1140.0</td>\n",
    "      <td>10.0</td>\n",
    "      <td>12114.0</td>\n",
    "    </tr>\n",
    "    <tr>\n",
    "      <th>3</th>\n",
    "      <td>1.519558e+09</td>\n",
    "      <td>931.0</td>\n",
    "      <td>10.0</td>\n",
    "      <td>12000.0</td>\n",
    "    </tr>\n",
    "    <tr>\n",
    "      <th>4</th>\n",
    "      <td>1.513529e+09</td>\n",
    "      <td>925.0</td>\n",
    "      <td>10.0</td>\n",
    "      <td>11444.0</td>\n",
    "    </tr>\n",
    "    <tr>\n",
    "      <th>5</th>\n",
    "      <td>1.506249e+09</td>\n",
    "      <td>900.0</td>\n",
    "      <td>10.0</td>\n",
    "      <td>11187.0</td>\n",
    "    </tr>\n",
    "    <tr>\n",
    "      <th>6</th>\n",
    "      <td>1.405404e+09</td>\n",
    "      <td>877.0</td>\n",
    "      <td>10.0</td>\n",
    "      <td>10297.0</td>\n",
    "    </tr>\n",
    "  </tbody>\n",
    "</table>"
   ]
  },
  {
   "cell_type": "code",
   "execution_count": null,
   "id": "0f12f428-571a-48d9-9209-a8146e0c58cc",
   "metadata": {},
   "outputs": [],
   "source": [
    "# Your code here"
   ]
  },
  {
   "cell_type": "code",
   "execution_count": null,
   "id": "6fedb436-ebd5-487f-91da-39b947452c0f",
   "metadata": {},
   "outputs": [],
   "source": [
    "%load -r 42:52 solution1.py"
   ]
  },
  {
   "cell_type": "markdown",
   "id": "2916094a-49f3-4e3f-bd2a-b74641ed45af",
   "metadata": {},
   "source": [
    "### Bonus question 6 Pandas Profiling"
   ]
  },
  {
   "cell_type": "code",
   "execution_count": null,
   "id": "e9753897-3423-4720-910a-893d4e9064a0",
   "metadata": {},
   "outputs": [],
   "source": [
    "# Your code here"
   ]
  },
  {
   "cell_type": "code",
   "execution_count": null,
   "id": "6d5c0a95-3315-41ee-8265-aa94b46c113a",
   "metadata": {},
   "outputs": [],
   "source": [
    "%load -r 60: solution1.py"
   ]
  },
  {
   "cell_type": "code",
   "execution_count": null,
   "id": "f6aef73c-76fa-4c19-9a7b-27616fbd84fe",
   "metadata": {},
   "outputs": [],
   "source": []
  }
 ],
 "metadata": {
  "kernelspec": {
   "display_name": "Python 3",
   "language": "python",
   "name": "python3"
  },
  "language_info": {
   "codemirror_mode": {
    "name": "ipython",
    "version": 3
   },
   "file_extension": ".py",
   "mimetype": "text/x-python",
   "name": "python",
   "nbconvert_exporter": "python",
   "pygments_lexer": "ipython3",
   "version": "3.8.10"
  },
  "toc": {
   "base_numbering": 1,
   "nav_menu": {},
   "number_sections": false,
   "sideBar": true,
   "skip_h1_title": false,
   "title_cell": "Table of Contents",
   "title_sidebar": "Contents",
   "toc_cell": false,
   "toc_position": {},
   "toc_section_display": true,
   "toc_window_display": false
  }
 },
 "nbformat": 4,
 "nbformat_minor": 5
}
