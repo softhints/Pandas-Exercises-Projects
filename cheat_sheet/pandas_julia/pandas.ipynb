{
 "cells": [
  {
   "cell_type": "markdown",
   "id": "f3fd5ce7",
   "metadata": {},
   "source": [
    "## 0.Import and package installation"
   ]
  },
  {
   "cell_type": "code",
   "execution_count": null,
   "id": "c8222dae",
   "metadata": {},
   "outputs": [],
   "source": [
    "# Import libraries and modules\n",
    "import pandas as pd\n",
    "import numpy as np"
   ]
  },
  {
   "cell_type": "code",
   "execution_count": null,
   "id": "7ae20b23",
   "metadata": {},
   "outputs": [],
   "source": [
    "# install package\n",
    "pip install pandas"
   ]
  },
  {
   "cell_type": "code",
   "execution_count": null,
   "id": "d0e606af",
   "metadata": {},
   "outputs": [],
   "source": [
    "# Search Packages\n",
    "https://pypi.org/"
   ]
  },
  {
   "cell_type": "markdown",
   "id": "4a140d9b",
   "metadata": {},
   "source": [
    "## 1.Pandas Series vs Julia Array DataFrame comparison"
   ]
  },
  {
   "cell_type": "code",
   "execution_count": null,
   "id": "46ac9ec6",
   "metadata": {},
   "outputs": [],
   "source": [
    "# Pandas series vs Julia vector\n",
    "s = pd.Series(['a', 'b', 'c'], index=[0 , 1, 2])"
   ]
  },
  {
   "cell_type": "code",
   "execution_count": null,
   "id": "d10f221c",
   "metadata": {},
   "outputs": [],
   "source": [
    "# Get first element of array or Series\n",
    "s[0]"
   ]
  },
  {
   "cell_type": "code",
   "execution_count": null,
   "id": "df4e5883",
   "metadata": {},
   "outputs": [],
   "source": [
    "# Pandas vs Julia DataFrame\n",
    "df = pd.DataFrame(\n",
    "    {'col_1': [11, 12, 13],\n",
    "     'col_2': [21, 22, 23]},\n",
    "    index=[0, 1, 3])"
   ]
  },
  {
   "cell_type": "code",
   "execution_count": null,
   "id": "4fd6fe08",
   "metadata": {},
   "outputs": [],
   "source": [
    "# Create random DataFrame\n",
    "import numpy as np\n",
    "import pandas as pd\n",
    "data=np.random.randint(0,10,size=(10, 3))\n",
    "df = pd.DataFrame(data, columns=list('abc'))"
   ]
  },
  {
   "cell_type": "markdown",
   "id": "9e84762a",
   "metadata": {},
   "source": [
    "## 2.Import Data Julia vs Pandas"
   ]
  },
  {
   "cell_type": "code",
   "execution_count": null,
   "id": "c3429300",
   "metadata": {},
   "outputs": [],
   "source": [
    "# Read CSV file\n",
    "df = pd.read_csv('file.csv')"
   ]
  },
  {
   "cell_type": "code",
   "execution_count": null,
   "id": "970b61d5",
   "metadata": {},
   "outputs": [],
   "source": [
    "# Read JSON file\n",
    "pd.read_json('file.json')"
   ]
  },
  {
   "cell_type": "code",
   "execution_count": null,
   "id": "7d79afbe",
   "metadata": {},
   "outputs": [],
   "source": [
    "# Read data from URL\n",
    "pd.read_csv('https://example.com/file.csv')"
   ]
  },
  {
   "cell_type": "code",
   "execution_count": null,
   "id": "dc046eda",
   "metadata": {},
   "outputs": [],
   "source": [
    "# Read delimited file\n",
    "df = pd.read_fwf('delim_file.txt')"
   ]
  },
  {
   "cell_type": "markdown",
   "id": "015a2a14",
   "metadata": {},
   "source": [
    "## 3.Data export - Pandas vs Julia"
   ]
  },
  {
   "cell_type": "code",
   "execution_count": null,
   "id": "33631d64",
   "metadata": {},
   "outputs": [],
   "source": [
    "# Writes to a CSV file\n",
    "df.to_csv('file.csv')"
   ]
  },
  {
   "cell_type": "code",
   "execution_count": null,
   "id": "0f522494",
   "metadata": {},
   "outputs": [],
   "source": [
    "# Writes to a file in JSON format\n",
    "df.to_json(filename)"
   ]
  },
  {
   "cell_type": "markdown",
   "id": "c6e6d65a",
   "metadata": {},
   "source": [
    "## 4.Statistics, samples and summary of the data"
   ]
  },
  {
   "cell_type": "code",
   "execution_count": null,
   "id": "5654631a",
   "metadata": {},
   "outputs": [],
   "source": [
    "# First n rows\n",
    "df.head(6)"
   ]
  },
  {
   "cell_type": "code",
   "execution_count": null,
   "id": "369b0485",
   "metadata": {},
   "outputs": [],
   "source": [
    "# Last n rows\n",
    "df.tail(6)"
   ]
  },
  {
   "cell_type": "code",
   "execution_count": null,
   "id": "f386d9f6",
   "metadata": {},
   "outputs": [],
   "source": [
    "# Summary statistics\n",
    "df.describe()"
   ]
  },
  {
   "cell_type": "code",
   "execution_count": null,
   "id": "efec6a2f",
   "metadata": {},
   "outputs": [],
   "source": [
    "# Describe columns\n",
    "df.loc[:, :'a'].describe()"
   ]
  },
  {
   "cell_type": "code",
   "execution_count": null,
   "id": "4c40ed9f",
   "metadata": {},
   "outputs": [],
   "source": [
    "# Statistical functions\n",
    "df['A'].mean()"
   ]
  },
  {
   "cell_type": "markdown",
   "id": "7daee954",
   "metadata": {},
   "source": [
    "## 5.Select data by index, by label, get subset"
   ]
  },
  {
   "cell_type": "code",
   "execution_count": null,
   "id": "70b012ff",
   "metadata": {},
   "outputs": [],
   "source": [
    "# Select first N rows - all columns\n",
    "df.loc[1:3, :]"
   ]
  },
  {
   "cell_type": "code",
   "execution_count": null,
   "id": "7b3f0f6e",
   "metadata": {},
   "outputs": [],
   "source": [
    "# Select rows by index\n",
    "df.loc[[1, 2, 3], :]"
   ]
  },
  {
   "cell_type": "code",
   "execution_count": null,
   "id": "58bcd679",
   "metadata": {},
   "outputs": [],
   "source": [
    "# Select columns by name(copy)\n",
    "df.loc[:, ['a', 'b']].copy()"
   ]
  },
  {
   "cell_type": "code",
   "execution_count": null,
   "id": "b835e86e",
   "metadata": {},
   "outputs": [],
   "source": [
    "# Select columns by name(reference)\n",
    "df.loc[:, ['a']]"
   ]
  },
  {
   "cell_type": "code",
   "execution_count": null,
   "id": "cdb0e057",
   "metadata": {},
   "outputs": [],
   "source": [
    "# Subset rows and columns\n",
    "df.loc[1:3, ['b', 'a']]"
   ]
  },
  {
   "cell_type": "code",
   "execution_count": null,
   "id": "a4ab7513",
   "metadata": {},
   "outputs": [],
   "source": [
    "# Reverse selection\n",
    "df.loc[[3,1], ['b', 'a']]"
   ]
  },
  {
   "cell_type": "code",
   "execution_count": null,
   "id": "94212369",
   "metadata": {},
   "outputs": [],
   "source": [
    "# Select NaN values\n",
    "df[df['a'].isna()]"
   ]
  },
  {
   "cell_type": "code",
   "execution_count": null,
   "id": "f3ff698f",
   "metadata": {},
   "outputs": [],
   "source": [
    "# Select non NaN values\n",
    "df['a'].dropna()"
   ]
  },
  {
   "cell_type": "markdown",
   "id": "b914d194",
   "metadata": {},
   "source": [
    "## 6.Add new columns and rows"
   ]
  },
  {
   "cell_type": "code",
   "execution_count": null,
   "id": "ff658564",
   "metadata": {},
   "outputs": [],
   "source": [
    "# Add new column based on other column\n",
    "df['new col'] = df['col'] * 100"
   ]
  },
  {
   "cell_type": "code",
   "execution_count": null,
   "id": "cb2f5a05",
   "metadata": {},
   "outputs": [],
   "source": [
    "# Add new column single value\n",
    "df['new col'] = False"
   ]
  },
  {
   "cell_type": "code",
   "execution_count": null,
   "id": "1770856b",
   "metadata": {},
   "outputs": [],
   "source": [
    "# Add new row at the end of DataFrame\n",
    "df.loc[-1] = [1, 2, 3]"
   ]
  },
  {
   "cell_type": "code",
   "execution_count": null,
   "id": "0902ede0",
   "metadata": {},
   "outputs": [],
   "source": [
    "# add rows from DataFrame to existing DataFrame\n",
    "df.append(df2, ignore_index = True)"
   ]
  },
  {
   "cell_type": "markdown",
   "id": "b8fca088",
   "metadata": {},
   "source": [
    "## 7.Drop data from DataFrame"
   ]
  },
  {
   "cell_type": "code",
   "execution_count": null,
   "id": "fcdee863",
   "metadata": {},
   "outputs": [],
   "source": [
    "# (Series) Drop values from Series by index (row axis)\n",
    "s.drop(1)"
   ]
  },
  {
   "cell_type": "code",
   "execution_count": null,
   "id": "aefd25d4",
   "metadata": {},
   "outputs": [],
   "source": [
    "# (Series) Drop values from Series by index (row axis)\n",
    "s.drop([1, 2])"
   ]
  },
  {
   "cell_type": "code",
   "execution_count": null,
   "id": "7d6c3709",
   "metadata": {},
   "outputs": [],
   "source": [
    "# Drop column by name col_1 (column axis)\n",
    "df.drop('b' , axis=1) "
   ]
  },
  {
   "cell_type": "code",
   "execution_count": null,
   "id": "36679fec",
   "metadata": {},
   "outputs": [],
   "source": [
    "# Drops all rows that contain null values\n",
    "df.dropna()"
   ]
  },
  {
   "cell_type": "code",
   "execution_count": null,
   "id": "e9d6ae79",
   "metadata": {},
   "outputs": [],
   "source": [
    "# Drops all rows that contain null values\n",
    "df.dropna()"
   ]
  },
  {
   "cell_type": "code",
   "execution_count": null,
   "id": "869dc86e",
   "metadata": {},
   "outputs": [],
   "source": [
    "# Drops all columns that contain null values\n",
    "df.dropna(axis=1)"
   ]
  },
  {
   "cell_type": "markdown",
   "id": "cdf72771",
   "metadata": {},
   "source": [
    "## 8.Sorting and rank values in Pandas vs Julia"
   ]
  },
  {
   "cell_type": "code",
   "execution_count": null,
   "id": "8abc6708",
   "metadata": {},
   "outputs": [],
   "source": [
    "# sort array of values\n",
    "sorted([2,3,1])"
   ]
  },
  {
   "cell_type": "code",
   "execution_count": null,
   "id": "71aedf96",
   "metadata": {},
   "outputs": [],
   "source": [
    "# sort in reverse order\n",
    "sorted([2,3,1], reverse=True)"
   ]
  },
  {
   "cell_type": "code",
   "execution_count": null,
   "id": "52b422e0",
   "metadata": {},
   "outputs": [],
   "source": [
    "# sort DataFrame by column\n",
    "df['a'].sort_values()"
   ]
  },
  {
   "cell_type": "code",
   "execution_count": null,
   "id": "6c9d3390",
   "metadata": {},
   "outputs": [],
   "source": [
    "# sort DataFrame by multiple columns\n",
    "df.sort_values(['a', 'b'], ascending=[False, True])"
   ]
  },
  {
   "cell_type": "markdown",
   "id": "558ee0f7",
   "metadata": {},
   "source": [
    "## 9.Filter data based on multiple criteria"
   ]
  },
  {
   "cell_type": "code",
   "execution_count": null,
   "id": "414d5403",
   "metadata": {},
   "outputs": [],
   "source": [
    "# find columns with na\n",
    "df.loc[:, df.isna().any()]"
   ]
  },
  {
   "cell_type": "code",
   "execution_count": null,
   "id": "0b461c1e",
   "metadata": {},
   "outputs": [],
   "source": [
    "# Values greater than X\n",
    "df[df['col_1'] > 100]"
   ]
  },
  {
   "cell_type": "code",
   "execution_count": null,
   "id": "e3d91a93",
   "metadata": {},
   "outputs": [],
   "source": [
    "# Filter Multiple Conditions - & - and; | - or\n",
    "df[(df['a']=='a')&(df['b']>=10)]"
   ]
  },
  {
   "cell_type": "code",
   "execution_count": null,
   "id": "aaa85b09",
   "metadata": {},
   "outputs": [],
   "source": [
    "# filter by sting value\n",
    "df[df['a'] == 'test']"
   ]
  },
  {
   "cell_type": "code",
   "execution_count": null,
   "id": "38e7962c",
   "metadata": {},
   "outputs": [],
   "source": [
    "# combine conditions\n",
    "df[(df['a'] == 'test') & (df['b'] == 'a2') ]"
   ]
  },
  {
   "cell_type": "markdown",
   "id": "e00507e1",
   "metadata": {},
   "source": [
    "## 10.Group by and summarize data"
   ]
  },
  {
   "cell_type": "code",
   "execution_count": null,
   "id": "43582aed",
   "metadata": {},
   "outputs": [],
   "source": [
    "# Group by single column\n",
    "df.groupby('a')"
   ]
  },
  {
   "cell_type": "code",
   "execution_count": null,
   "id": "bddec327",
   "metadata": {},
   "outputs": [],
   "source": [
    "# group by multiple columns and sum third\n",
    "df.groupby(['a', 'b']).c.sum()"
   ]
  },
  {
   "cell_type": "code",
   "execution_count": null,
   "id": "fe37dd0c",
   "metadata": {},
   "outputs": [],
   "source": [
    "# group by and count\n",
    "df['a'].value_counts()"
   ]
  },
  {
   "cell_type": "markdown",
   "id": "2af6f4de",
   "metadata": {},
   "source": [
    "## 11.Convert to date, string, numeric"
   ]
  },
  {
   "cell_type": "code",
   "execution_count": null,
   "id": "5a507a32",
   "metadata": {},
   "outputs": [],
   "source": [
    "# replace NA values\n",
    "df['a'].fillna(0)"
   ]
  },
  {
   "cell_type": "code",
   "execution_count": null,
   "id": "669ddd88",
   "metadata": {},
   "outputs": [],
   "source": [
    "# convert .. to NA\n",
    "df.replace('..', None)"
   ]
  },
  {
   "cell_type": "code",
   "execution_count": null,
   "id": "48e31433",
   "metadata": {},
   "outputs": [],
   "source": [
    "# convert string to int\n",
    "df['col_1'].astype('int64')"
   ]
  },
  {
   "cell_type": "code",
   "execution_count": null,
   "id": "634e3b98",
   "metadata": {},
   "outputs": [],
   "source": [
    "# convert string to date\n",
    "pd.to_datetime(df['date'], format='%Y-%m-%d')"
   ]
  }
 ],
 "metadata": {
  "kernelspec": {
   "display_name": "Python 3 (ipykernel)",
   "language": "python",
   "name": "python3"
  },
  "language_info": {
   "codemirror_mode": {
    "name": "ipython",
    "version": 3
   },
   "file_extension": ".py",
   "mimetype": "text/x-python",
   "name": "python",
   "nbconvert_exporter": "python",
   "pygments_lexer": "ipython3",
   "version": "3.8.4"
  }
 },
 "nbformat": 4,
 "nbformat_minor": 5
}
