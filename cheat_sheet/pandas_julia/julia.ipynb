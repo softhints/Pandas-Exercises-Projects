{
 "cells": [
  {
   "cell_type": "markdown",
   "id": "5be528f6",
   "metadata": {},
   "source": [
    "## 0.Import and package installation"
   ]
  },
  {
   "cell_type": "code",
   "execution_count": null,
   "id": "fa358b3c",
   "metadata": {},
   "outputs": [],
   "source": [
    "# Import libraries and modules\n",
    "using DataFrames\n",
    "using Statistics\n",
    "using CSV"
   ]
  },
  {
   "cell_type": "code",
   "execution_count": null,
   "id": "1f00fd8d",
   "metadata": {},
   "outputs": [],
   "source": [
    "# install package\n",
    "using Pkg\n",
    "Pkg.add(\"JSON\")"
   ]
  },
  {
   "cell_type": "code",
   "execution_count": null,
   "id": "b2fe3f39",
   "metadata": {},
   "outputs": [],
   "source": [
    "# Search Packages\n",
    "https://juliapackages.com/"
   ]
  },
  {
   "cell_type": "markdown",
   "id": "7637661f",
   "metadata": {},
   "source": [
    "## 1.Pandas Series vs Julia Array DataFrame comparison"
   ]
  },
  {
   "cell_type": "code",
   "execution_count": null,
   "id": "6b53ebc1",
   "metadata": {},
   "outputs": [],
   "source": [
    "# Pandas series vs Julia vector\n",
    "s = [1, 2, 3]"
   ]
  },
  {
   "cell_type": "code",
   "execution_count": null,
   "id": "259c21a3",
   "metadata": {},
   "outputs": [],
   "source": [
    "# Get first element of array or Series\n",
    "s[1]"
   ]
  },
  {
   "cell_type": "code",
   "execution_count": null,
   "id": "28eff4e3",
   "metadata": {},
   "outputs": [],
   "source": [
    "# Pandas vs Julia DataFrame\n",
    "df = DataFrame(a=11:13, b=21:23)"
   ]
  },
  {
   "cell_type": "code",
   "execution_count": null,
   "id": "4008f1b2",
   "metadata": {},
   "outputs": [],
   "source": [
    "# Create random DataFrame\n",
    "using Random\n",
    "Random.seed!(1);\n",
    "df = DataFrame(rand(10, 3), [:a, :b, :c])"
   ]
  },
  {
   "cell_type": "markdown",
   "id": "f9473f75",
   "metadata": {},
   "source": [
    "## 2.Import Data Julia vs Pandas"
   ]
  },
  {
   "cell_type": "code",
   "execution_count": null,
   "id": "72488b78",
   "metadata": {},
   "outputs": [],
   "source": [
    "# Read CSV file\n",
    "df = CSV.read(\"file.csv\", DataFrame)"
   ]
  },
  {
   "cell_type": "code",
   "execution_count": null,
   "id": "72dab91a",
   "metadata": {},
   "outputs": [],
   "source": [
    "# Read JSON file\n",
    "using JSON\n",
    "JSON.parsefile(\"file.json\")"
   ]
  },
  {
   "cell_type": "code",
   "execution_count": null,
   "id": "4fc6bcd1",
   "metadata": {},
   "outputs": [],
   "source": [
    "# Read data from URL\n",
    "A = urldownload(\"https://example.com/file.csv\")\n",
    "A |> DataFrame"
   ]
  },
  {
   "cell_type": "code",
   "execution_count": null,
   "id": "401fdb81",
   "metadata": {},
   "outputs": [],
   "source": [
    "# Read delimited file\n",
    "readdlm(\"delim_file.txt\", '\\t', Int, '\\n')"
   ]
  },
  {
   "cell_type": "markdown",
   "id": "bb558daa",
   "metadata": {},
   "source": [
    "## 3.Data export - Pandas vs Julia"
   ]
  },
  {
   "cell_type": "code",
   "execution_count": null,
   "id": "694cca4b",
   "metadata": {},
   "outputs": [],
   "source": [
    "# Writes to a CSV file\n",
    "CSV.write(\"file.csv\", df)"
   ]
  },
  {
   "cell_type": "code",
   "execution_count": null,
   "id": "e368ec82",
   "metadata": {},
   "outputs": [],
   "source": [
    "# Writes to a file in JSON format\n",
    "using JSON3\n",
    "JSON3.write(\"file.json\",df1)"
   ]
  },
  {
   "cell_type": "markdown",
   "id": "3ff438dc",
   "metadata": {},
   "source": [
    "## 4.Statistics, samples and summary of the data"
   ]
  },
  {
   "cell_type": "code",
   "execution_count": null,
   "id": "ff1c9575",
   "metadata": {},
   "outputs": [],
   "source": [
    "# First n rows\n",
    "first(df, 6)"
   ]
  },
  {
   "cell_type": "code",
   "execution_count": null,
   "id": "19a62ca4",
   "metadata": {},
   "outputs": [],
   "source": [
    "# Last n rows\n",
    "last(df, 6)"
   ]
  },
  {
   "cell_type": "code",
   "execution_count": null,
   "id": "1affbc6b",
   "metadata": {},
   "outputs": [],
   "source": [
    "# Summary statistics\n",
    "describe(df)"
   ]
  },
  {
   "cell_type": "code",
   "execution_count": null,
   "id": "5920e50c",
   "metadata": {},
   "outputs": [],
   "source": [
    "# Describe columns\n",
    "describe(df[!, [:a]])"
   ]
  },
  {
   "cell_type": "code",
   "execution_count": null,
   "id": "14837c0a",
   "metadata": {},
   "outputs": [],
   "source": [
    "# Statistical functions\n",
    "using Statistics\n",
    "mean(df.A)"
   ]
  },
  {
   "cell_type": "markdown",
   "id": "31e4de6f",
   "metadata": {},
   "source": [
    "## 5.Select data by index, by label, get subset"
   ]
  },
  {
   "cell_type": "code",
   "execution_count": null,
   "id": "18a6b677",
   "metadata": {},
   "outputs": [],
   "source": [
    "# Select first N rows - all columns\n",
    "df[1:3, :]"
   ]
  },
  {
   "cell_type": "code",
   "execution_count": null,
   "id": "a4f6c99d",
   "metadata": {},
   "outputs": [],
   "source": [
    "# Select rows by index\n",
    "df[[1, 2, 3], :]"
   ]
  },
  {
   "cell_type": "code",
   "execution_count": null,
   "id": "526f7d0d",
   "metadata": {},
   "outputs": [],
   "source": [
    "# Select columns by name(copy)\n",
    "df[:, [:a, :b]]"
   ]
  },
  {
   "cell_type": "code",
   "execution_count": null,
   "id": "a778d3db",
   "metadata": {},
   "outputs": [],
   "source": [
    "# Select columns by name(reference)\n",
    "df[!, [:A]]"
   ]
  },
  {
   "cell_type": "code",
   "execution_count": null,
   "id": "39119510",
   "metadata": {},
   "outputs": [],
   "source": [
    "# Subset rows and columns\n",
    "df[1:3, [:b, :a]]"
   ]
  },
  {
   "cell_type": "code",
   "execution_count": null,
   "id": "06572217",
   "metadata": {},
   "outputs": [],
   "source": [
    "# Reverse selection\n",
    "df[[3, 1], [:c]]"
   ]
  },
  {
   "cell_type": "code",
   "execution_count": null,
   "id": "c645c627",
   "metadata": {},
   "outputs": [],
   "source": [
    "# Select NaN values\n",
    "findall(ismissing, df[:, \"a\"])"
   ]
  },
  {
   "cell_type": "code",
   "execution_count": null,
   "id": "5a6888e3",
   "metadata": {},
   "outputs": [],
   "source": [
    "# Select non NaN values\n",
    "filter(!ismissing, df[:, \"a\"])"
   ]
  },
  {
   "cell_type": "markdown",
   "id": "f16262c3",
   "metadata": {},
   "source": [
    "## 6.Add new columns and rows"
   ]
  },
  {
   "cell_type": "code",
   "execution_count": null,
   "id": "cd4a3d95",
   "metadata": {},
   "outputs": [],
   "source": [
    "# Add new column based on other column\n",
    "df[!, \"d\"] = df[!, \"a\"] * 100"
   ]
  },
  {
   "cell_type": "code",
   "execution_count": null,
   "id": "eb0abd03",
   "metadata": {},
   "outputs": [],
   "source": [
    "# Add new column single value\n",
    "df[!, \"e\"] .= false"
   ]
  },
  {
   "cell_type": "code",
   "execution_count": null,
   "id": "cf6fb5f5",
   "metadata": {},
   "outputs": [],
   "source": [
    "# Add new row at the end of DataFrame\n",
    "push!(df,[0, 0, 0])"
   ]
  },
  {
   "cell_type": "code",
   "execution_count": null,
   "id": "fc2cab12",
   "metadata": {},
   "outputs": [],
   "source": [
    "# add rows from DataFrame to existing DataFrame\n",
    "append!(df,df2)"
   ]
  },
  {
   "cell_type": "markdown",
   "id": "e381ed28",
   "metadata": {},
   "source": [
    "## 7.Drop data from DataFrame"
   ]
  },
  {
   "cell_type": "code",
   "execution_count": null,
   "id": "3614adfd",
   "metadata": {},
   "outputs": [],
   "source": [
    "# (Series) Drop values from Series by index (row axis)\n",
    "filter!(e->e≠1,a)"
   ]
  },
  {
   "cell_type": "code",
   "execution_count": null,
   "id": "2613eafa",
   "metadata": {},
   "outputs": [],
   "source": [
    "# (Series) Drop values from Series by index (row axis)\n",
    "filter!(e->e∉[1, 2],a)"
   ]
  },
  {
   "cell_type": "code",
   "execution_count": null,
   "id": "9668c9ed",
   "metadata": {},
   "outputs": [],
   "source": [
    "# Drop column by name col_1 (column axis)\n",
    "dropmissing!(df[:, [\"b\"]])"
   ]
  },
  {
   "cell_type": "code",
   "execution_count": null,
   "id": "86007d85",
   "metadata": {},
   "outputs": [],
   "source": [
    "# Drops all rows that contain null values\n",
    "dropmissing!(df)"
   ]
  },
  {
   "cell_type": "code",
   "execution_count": null,
   "id": "78b12777",
   "metadata": {},
   "outputs": [],
   "source": [
    "# Drops all rows that contain null values\n",
    "df[all.(!ismissing, eachrow(df)), :]"
   ]
  },
  {
   "cell_type": "code",
   "execution_count": null,
   "id": "0c31cbd3",
   "metadata": {},
   "outputs": [],
   "source": [
    "# Drops all columns that contain null values\n",
    "df[:, all.(!ismissing, eachcol(df))]"
   ]
  },
  {
   "cell_type": "markdown",
   "id": "be2887c5",
   "metadata": {},
   "source": [
    "## 8.Sorting and rank values in Pandas vs Julia"
   ]
  },
  {
   "cell_type": "code",
   "execution_count": null,
   "id": "d83d2cf2",
   "metadata": {},
   "outputs": [],
   "source": [
    "# sort array of values\n",
    "sort([2,3,1])"
   ]
  },
  {
   "cell_type": "code",
   "execution_count": null,
   "id": "8a46c1a1",
   "metadata": {},
   "outputs": [],
   "source": [
    "# sort in reverse order\n",
    "sort([2,3,1], rev=true)"
   ]
  },
  {
   "cell_type": "code",
   "execution_count": null,
   "id": "937a14b6",
   "metadata": {},
   "outputs": [],
   "source": [
    "# sort DataFrame by column\n",
    "sort(df, [:a])"
   ]
  },
  {
   "cell_type": "code",
   "execution_count": null,
   "id": "de214239",
   "metadata": {},
   "outputs": [],
   "source": [
    "# sort DataFrame by multiple columns\n",
    "sort(df, [order(:a, rev=true), :b])"
   ]
  },
  {
   "cell_type": "markdown",
   "id": "ddb0fddf",
   "metadata": {},
   "source": [
    "## 9.Filter data based on multiple criteria"
   ]
  },
  {
   "cell_type": "code",
   "execution_count": null,
   "id": "8d0654f3",
   "metadata": {},
   "outputs": [],
   "source": [
    "# find columns with na\n",
    "mapcols(x -> any(ismissing, x), df)"
   ]
  },
  {
   "cell_type": "code",
   "execution_count": null,
   "id": "2df448dd",
   "metadata": {},
   "outputs": [],
   "source": [
    "# Values greater than X\n",
    "filter(row -> row.a > 100, df)"
   ]
  },
  {
   "cell_type": "code",
   "execution_count": null,
   "id": "7d0b1fa2",
   "metadata": {},
   "outputs": [],
   "source": [
    "# Filter Multiple Conditions - & - and; | - or\n",
    "filter(row -> row.a == 'a' && row.b >= 5, df)"
   ]
  },
  {
   "cell_type": "code",
   "execution_count": null,
   "id": "5a06fc9e",
   "metadata": {},
   "outputs": [],
   "source": [
    "# filter by sting value\n",
    "df[ ( df.a .== \"test\" ) , :]"
   ]
  },
  {
   "cell_type": "code",
   "execution_count": null,
   "id": "126697af",
   "metadata": {},
   "outputs": [],
   "source": [
    "# combine conditions\n",
    "df[ ( df.a .== \"test\" ) .& ( df.b .== \"a2\" ), :]"
   ]
  },
  {
   "cell_type": "markdown",
   "id": "eac43b69",
   "metadata": {},
   "source": [
    "## 10.Group by and summarize data"
   ]
  },
  {
   "cell_type": "code",
   "execution_count": null,
   "id": "d904ef2a",
   "metadata": {},
   "outputs": [],
   "source": [
    "# Group by single column\n",
    "groupby(df, [:a])"
   ]
  },
  {
   "cell_type": "code",
   "execution_count": null,
   "id": "e56329eb",
   "metadata": {},
   "outputs": [],
   "source": [
    "# group by multiple columns and sum third\n",
    "gdf = groupby(df, [:a, :b])\n",
    "combine(gdf, :c => sum)"
   ]
  },
  {
   "cell_type": "code",
   "execution_count": null,
   "id": "71972a73",
   "metadata": {},
   "outputs": [],
   "source": [
    "# group by and count\n",
    "combine(groupby(df, [:x1]), nrow => :count)"
   ]
  },
  {
   "cell_type": "markdown",
   "id": "978bffdf",
   "metadata": {},
   "source": [
    "## 11.Convert to date, string, numeric"
   ]
  },
  {
   "cell_type": "code",
   "execution_count": null,
   "id": "5c58ba07",
   "metadata": {},
   "outputs": [],
   "source": [
    "# replace NA values\n",
    "replace(df.a,missing => 0)"
   ]
  },
  {
   "cell_type": "code",
   "execution_count": null,
   "id": "ae7208fa",
   "metadata": {},
   "outputs": [],
   "source": [
    "# convert .. to NA\n",
    "ifelse.(df .== \"..\", missing, df)"
   ]
  },
  {
   "cell_type": "code",
   "execution_count": null,
   "id": "dcb67d24",
   "metadata": {},
   "outputs": [],
   "source": [
    "# convert string to int\n",
    "df[!, :a] = parse.(Int64, df[!, :a])"
   ]
  },
  {
   "cell_type": "code",
   "execution_count": null,
   "id": "42fee76b",
   "metadata": {},
   "outputs": [],
   "source": [
    "# convert string to date\n",
    "using Dates\n",
    "df.Date = Date.(df.Date, \"dd-mm-yyyy\")"
   ]
  }
 ],
 "metadata": {
  "kernelspec": {
   "display_name": "Julia 1.8.5",
   "language": "julia",
   "name": "julia-1.8"
  },
  "language_info": {
   "file_extension": ".jl",
   "mimetype": "application/julia",
   "name": "julia",
   "version": "1.8.5"
  }
 },
 "nbformat": 4,
 "nbformat_minor": 5
}
